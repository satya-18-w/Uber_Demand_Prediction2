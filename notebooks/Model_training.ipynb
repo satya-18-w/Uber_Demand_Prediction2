{
 "cells": [
  {
   "cell_type": "code",
   "execution_count": 3,
   "id": "44315284",
   "metadata": {},
   "outputs": [],
   "source": [
    "import numpy as np\n",
    "import pandas as pd\n",
    "import matplotlib.pyplot as plt\n",
    "import seaborn as sns\n",
    "\n"
   ]
  },
  {
   "cell_type": "code",
   "execution_count": 4,
   "id": "d43cff3f",
   "metadata": {},
   "outputs": [],
   "source": [
    "\n",
    "data_path = \"../data/interim/final_data.csv\"\n",
    "\n",
    "df = pd.read_csv(data_path, parse_dates=[\"tpep_pickup_datetime\"])"
   ]
  },
  {
   "cell_type": "code",
   "execution_count": 5,
   "id": "b97897e0",
   "metadata": {},
   "outputs": [
    {
     "data": {
      "text/html": [
       "<div>\n",
       "<style scoped>\n",
       "    .dataframe tbody tr th:only-of-type {\n",
       "        vertical-align: middle;\n",
       "    }\n",
       "\n",
       "    .dataframe tbody tr th {\n",
       "        vertical-align: top;\n",
       "    }\n",
       "\n",
       "    .dataframe thead th {\n",
       "        text-align: right;\n",
       "    }\n",
       "</style>\n",
       "<table border=\"1\" class=\"dataframe\">\n",
       "  <thead>\n",
       "    <tr style=\"text-align: right;\">\n",
       "      <th></th>\n",
       "      <th>tpep_pickup_datetime</th>\n",
       "      <th>Region</th>\n",
       "      <th>Pickups</th>\n",
       "      <th>Avg_pickups</th>\n",
       "    </tr>\n",
       "  </thead>\n",
       "  <tbody>\n",
       "    <tr>\n",
       "      <th>0</th>\n",
       "      <td>2016-01-01 00:00:00</td>\n",
       "      <td>0</td>\n",
       "      <td>57</td>\n",
       "      <td>57.0</td>\n",
       "    </tr>\n",
       "    <tr>\n",
       "      <th>1</th>\n",
       "      <td>2016-01-01 00:15:00</td>\n",
       "      <td>0</td>\n",
       "      <td>113</td>\n",
       "      <td>92.0</td>\n",
       "    </tr>\n",
       "    <tr>\n",
       "      <th>2</th>\n",
       "      <td>2016-01-01 00:30:00</td>\n",
       "      <td>0</td>\n",
       "      <td>146</td>\n",
       "      <td>120.0</td>\n",
       "    </tr>\n",
       "    <tr>\n",
       "      <th>3</th>\n",
       "      <td>2016-01-01 00:45:00</td>\n",
       "      <td>0</td>\n",
       "      <td>162</td>\n",
       "      <td>139.0</td>\n",
       "    </tr>\n",
       "    <tr>\n",
       "      <th>4</th>\n",
       "      <td>2016-01-01 01:00:00</td>\n",
       "      <td>0</td>\n",
       "      <td>182</td>\n",
       "      <td>158.0</td>\n",
       "    </tr>\n",
       "  </tbody>\n",
       "</table>\n",
       "</div>"
      ],
      "text/plain": [
       "  tpep_pickup_datetime  Region  Pickups  Avg_pickups\n",
       "0  2016-01-01 00:00:00       0       57         57.0\n",
       "1  2016-01-01 00:15:00       0      113         92.0\n",
       "2  2016-01-01 00:30:00       0      146        120.0\n",
       "3  2016-01-01 00:45:00       0      162        139.0\n",
       "4  2016-01-01 01:00:00       0      182        158.0"
      ]
     },
     "execution_count": 5,
     "metadata": {},
     "output_type": "execute_result"
    }
   ],
   "source": [
    "df.head()"
   ]
  },
  {
   "cell_type": "code",
   "execution_count": 5,
   "id": "d54445c0",
   "metadata": {},
   "outputs": [
    {
     "data": {
      "text/plain": [
       "tpep_pickup_datetime    0\n",
       "Region                  0\n",
       "Pickups                 0\n",
       "Avg_pickups             0\n",
       "dtype: int64"
      ]
     },
     "execution_count": 5,
     "metadata": {},
     "output_type": "execute_result"
    }
   ],
   "source": [
    "df.isnull().sum()"
   ]
  },
  {
   "cell_type": "markdown",
   "id": "db2e7d1a",
   "metadata": {},
   "source": [
    "* NO Missing Data"
   ]
  },
  {
   "cell_type": "code",
   "execution_count": 6,
   "id": "79b0aa91",
   "metadata": {},
   "outputs": [],
   "source": [
    "df[\"Day\"]=df[\"tpep_pickup_datetime\"].dt.day_of_week\n",
    "df[\"Month\"]=df[\"tpep_pickup_datetime\"].dt.month"
   ]
  },
  {
   "cell_type": "code",
   "execution_count": 9,
   "id": "d923f82e",
   "metadata": {},
   "outputs": [
    {
     "data": {
      "text/html": [
       "<div>\n",
       "<style scoped>\n",
       "    .dataframe tbody tr th:only-of-type {\n",
       "        vertical-align: middle;\n",
       "    }\n",
       "\n",
       "    .dataframe tbody tr th {\n",
       "        vertical-align: top;\n",
       "    }\n",
       "\n",
       "    .dataframe thead th {\n",
       "        text-align: right;\n",
       "    }\n",
       "</style>\n",
       "<table border=\"1\" class=\"dataframe\">\n",
       "  <thead>\n",
       "    <tr style=\"text-align: right;\">\n",
       "      <th></th>\n",
       "      <th>tpep_pickup_datetime</th>\n",
       "      <th>Region</th>\n",
       "      <th>Pickups</th>\n",
       "      <th>Avg_pickups</th>\n",
       "      <th>Day</th>\n",
       "      <th>Month</th>\n",
       "    </tr>\n",
       "  </thead>\n",
       "  <tbody>\n",
       "    <tr>\n",
       "      <th>0</th>\n",
       "      <td>2016-01-01 00:00:00</td>\n",
       "      <td>0</td>\n",
       "      <td>57</td>\n",
       "      <td>57.0</td>\n",
       "      <td>4</td>\n",
       "      <td>1</td>\n",
       "    </tr>\n",
       "    <tr>\n",
       "      <th>1</th>\n",
       "      <td>2016-01-01 00:15:00</td>\n",
       "      <td>0</td>\n",
       "      <td>113</td>\n",
       "      <td>92.0</td>\n",
       "      <td>4</td>\n",
       "      <td>1</td>\n",
       "    </tr>\n",
       "    <tr>\n",
       "      <th>2</th>\n",
       "      <td>2016-01-01 00:30:00</td>\n",
       "      <td>0</td>\n",
       "      <td>146</td>\n",
       "      <td>120.0</td>\n",
       "      <td>4</td>\n",
       "      <td>1</td>\n",
       "    </tr>\n",
       "    <tr>\n",
       "      <th>3</th>\n",
       "      <td>2016-01-01 00:45:00</td>\n",
       "      <td>0</td>\n",
       "      <td>162</td>\n",
       "      <td>139.0</td>\n",
       "      <td>4</td>\n",
       "      <td>1</td>\n",
       "    </tr>\n",
       "    <tr>\n",
       "      <th>4</th>\n",
       "      <td>2016-01-01 01:00:00</td>\n",
       "      <td>0</td>\n",
       "      <td>182</td>\n",
       "      <td>158.0</td>\n",
       "      <td>4</td>\n",
       "      <td>1</td>\n",
       "    </tr>\n",
       "    <tr>\n",
       "      <th>...</th>\n",
       "      <td>...</td>\n",
       "      <td>...</td>\n",
       "      <td>...</td>\n",
       "      <td>...</td>\n",
       "      <td>...</td>\n",
       "      <td>...</td>\n",
       "    </tr>\n",
       "    <tr>\n",
       "      <th>262075</th>\n",
       "      <td>2016-03-31 22:45:00</td>\n",
       "      <td>29</td>\n",
       "      <td>13</td>\n",
       "      <td>19.0</td>\n",
       "      <td>3</td>\n",
       "      <td>3</td>\n",
       "    </tr>\n",
       "    <tr>\n",
       "      <th>262076</th>\n",
       "      <td>2016-03-31 23:00:00</td>\n",
       "      <td>29</td>\n",
       "      <td>43</td>\n",
       "      <td>29.0</td>\n",
       "      <td>3</td>\n",
       "      <td>3</td>\n",
       "    </tr>\n",
       "    <tr>\n",
       "      <th>262077</th>\n",
       "      <td>2016-03-31 23:15:00</td>\n",
       "      <td>29</td>\n",
       "      <td>24</td>\n",
       "      <td>27.0</td>\n",
       "      <td>3</td>\n",
       "      <td>3</td>\n",
       "    </tr>\n",
       "    <tr>\n",
       "      <th>262078</th>\n",
       "      <td>2016-03-31 23:30:00</td>\n",
       "      <td>29</td>\n",
       "      <td>12</td>\n",
       "      <td>21.0</td>\n",
       "      <td>3</td>\n",
       "      <td>3</td>\n",
       "    </tr>\n",
       "    <tr>\n",
       "      <th>262079</th>\n",
       "      <td>2016-03-31 23:45:00</td>\n",
       "      <td>29</td>\n",
       "      <td>23</td>\n",
       "      <td>22.0</td>\n",
       "      <td>3</td>\n",
       "      <td>3</td>\n",
       "    </tr>\n",
       "  </tbody>\n",
       "</table>\n",
       "<p>262080 rows × 6 columns</p>\n",
       "</div>"
      ],
      "text/plain": [
       "       tpep_pickup_datetime  Region  Pickups  Avg_pickups  Day  Month\n",
       "0       2016-01-01 00:00:00       0       57         57.0    4      1\n",
       "1       2016-01-01 00:15:00       0      113         92.0    4      1\n",
       "2       2016-01-01 00:30:00       0      146        120.0    4      1\n",
       "3       2016-01-01 00:45:00       0      162        139.0    4      1\n",
       "4       2016-01-01 01:00:00       0      182        158.0    4      1\n",
       "...                     ...     ...      ...          ...  ...    ...\n",
       "262075  2016-03-31 22:45:00      29       13         19.0    3      3\n",
       "262076  2016-03-31 23:00:00      29       43         29.0    3      3\n",
       "262077  2016-03-31 23:15:00      29       24         27.0    3      3\n",
       "262078  2016-03-31 23:30:00      29       12         21.0    3      3\n",
       "262079  2016-03-31 23:45:00      29       23         22.0    3      3\n",
       "\n",
       "[262080 rows x 6 columns]"
      ]
     },
     "execution_count": 9,
     "metadata": {},
     "output_type": "execute_result"
    }
   ],
   "source": [
    "df"
   ]
  },
  {
   "cell_type": "markdown",
   "id": "5e41742b",
   "metadata": {},
   "source": [
    "* Day and Month are Nominal data so i apply One Hot Encoder"
   ]
  },
  {
   "cell_type": "code",
   "execution_count": 7,
   "id": "7cdebbd5",
   "metadata": {},
   "outputs": [],
   "source": [
    "df.set_index(\"tpep_pickup_datetime\",inplace=True)"
   ]
  },
  {
   "cell_type": "code",
   "execution_count": 8,
   "id": "1617217c",
   "metadata": {},
   "outputs": [
    {
     "data": {
      "text/html": [
       "<div>\n",
       "<style scoped>\n",
       "    .dataframe tbody tr th:only-of-type {\n",
       "        vertical-align: middle;\n",
       "    }\n",
       "\n",
       "    .dataframe tbody tr th {\n",
       "        vertical-align: top;\n",
       "    }\n",
       "\n",
       "    .dataframe thead th {\n",
       "        text-align: right;\n",
       "    }\n",
       "</style>\n",
       "<table border=\"1\" class=\"dataframe\">\n",
       "  <thead>\n",
       "    <tr style=\"text-align: right;\">\n",
       "      <th></th>\n",
       "      <th>Region</th>\n",
       "      <th>Pickups</th>\n",
       "      <th>Avg_pickups</th>\n",
       "      <th>Day</th>\n",
       "      <th>Month</th>\n",
       "    </tr>\n",
       "    <tr>\n",
       "      <th>tpep_pickup_datetime</th>\n",
       "      <th></th>\n",
       "      <th></th>\n",
       "      <th></th>\n",
       "      <th></th>\n",
       "      <th></th>\n",
       "    </tr>\n",
       "  </thead>\n",
       "  <tbody>\n",
       "    <tr>\n",
       "      <th>2016-01-01 00:00:00</th>\n",
       "      <td>0</td>\n",
       "      <td>57</td>\n",
       "      <td>57.0</td>\n",
       "      <td>4</td>\n",
       "      <td>1</td>\n",
       "    </tr>\n",
       "    <tr>\n",
       "      <th>2016-01-01 00:15:00</th>\n",
       "      <td>0</td>\n",
       "      <td>113</td>\n",
       "      <td>92.0</td>\n",
       "      <td>4</td>\n",
       "      <td>1</td>\n",
       "    </tr>\n",
       "    <tr>\n",
       "      <th>2016-01-01 00:30:00</th>\n",
       "      <td>0</td>\n",
       "      <td>146</td>\n",
       "      <td>120.0</td>\n",
       "      <td>4</td>\n",
       "      <td>1</td>\n",
       "    </tr>\n",
       "    <tr>\n",
       "      <th>2016-01-01 00:45:00</th>\n",
       "      <td>0</td>\n",
       "      <td>162</td>\n",
       "      <td>139.0</td>\n",
       "      <td>4</td>\n",
       "      <td>1</td>\n",
       "    </tr>\n",
       "    <tr>\n",
       "      <th>2016-01-01 01:00:00</th>\n",
       "      <td>0</td>\n",
       "      <td>182</td>\n",
       "      <td>158.0</td>\n",
       "      <td>4</td>\n",
       "      <td>1</td>\n",
       "    </tr>\n",
       "    <tr>\n",
       "      <th>...</th>\n",
       "      <td>...</td>\n",
       "      <td>...</td>\n",
       "      <td>...</td>\n",
       "      <td>...</td>\n",
       "      <td>...</td>\n",
       "    </tr>\n",
       "    <tr>\n",
       "      <th>2016-03-31 22:45:00</th>\n",
       "      <td>29</td>\n",
       "      <td>13</td>\n",
       "      <td>19.0</td>\n",
       "      <td>3</td>\n",
       "      <td>3</td>\n",
       "    </tr>\n",
       "    <tr>\n",
       "      <th>2016-03-31 23:00:00</th>\n",
       "      <td>29</td>\n",
       "      <td>43</td>\n",
       "      <td>29.0</td>\n",
       "      <td>3</td>\n",
       "      <td>3</td>\n",
       "    </tr>\n",
       "    <tr>\n",
       "      <th>2016-03-31 23:15:00</th>\n",
       "      <td>29</td>\n",
       "      <td>24</td>\n",
       "      <td>27.0</td>\n",
       "      <td>3</td>\n",
       "      <td>3</td>\n",
       "    </tr>\n",
       "    <tr>\n",
       "      <th>2016-03-31 23:30:00</th>\n",
       "      <td>29</td>\n",
       "      <td>12</td>\n",
       "      <td>21.0</td>\n",
       "      <td>3</td>\n",
       "      <td>3</td>\n",
       "    </tr>\n",
       "    <tr>\n",
       "      <th>2016-03-31 23:45:00</th>\n",
       "      <td>29</td>\n",
       "      <td>23</td>\n",
       "      <td>22.0</td>\n",
       "      <td>3</td>\n",
       "      <td>3</td>\n",
       "    </tr>\n",
       "  </tbody>\n",
       "</table>\n",
       "<p>262080 rows × 5 columns</p>\n",
       "</div>"
      ],
      "text/plain": [
       "                      Region  Pickups  Avg_pickups  Day  Month\n",
       "tpep_pickup_datetime                                          \n",
       "2016-01-01 00:00:00        0       57         57.0    4      1\n",
       "2016-01-01 00:15:00        0      113         92.0    4      1\n",
       "2016-01-01 00:30:00        0      146        120.0    4      1\n",
       "2016-01-01 00:45:00        0      162        139.0    4      1\n",
       "2016-01-01 01:00:00        0      182        158.0    4      1\n",
       "...                      ...      ...          ...  ...    ...\n",
       "2016-03-31 22:45:00       29       13         19.0    3      3\n",
       "2016-03-31 23:00:00       29       43         29.0    3      3\n",
       "2016-03-31 23:15:00       29       24         27.0    3      3\n",
       "2016-03-31 23:30:00       29       12         21.0    3      3\n",
       "2016-03-31 23:45:00       29       23         22.0    3      3\n",
       "\n",
       "[262080 rows x 5 columns]"
      ]
     },
     "execution_count": 8,
     "metadata": {},
     "output_type": "execute_result"
    }
   ],
   "source": [
    "df"
   ]
  },
  {
   "cell_type": "code",
   "execution_count": 9,
   "id": "c121c4c7",
   "metadata": {},
   "outputs": [],
   "source": [
    "region_grp=df.groupby(\"Region\")"
   ]
  },
  {
   "cell_type": "code",
   "execution_count": 10,
   "id": "44414b67",
   "metadata": {},
   "outputs": [
    {
     "data": {
      "text/plain": [
       "<pandas.core.groupby.generic.DataFrameGroupBy object at 0x000001947F477FB0>"
      ]
     },
     "execution_count": 10,
     "metadata": {},
     "output_type": "execute_result"
    }
   ],
   "source": [
    "region_grp"
   ]
  },
  {
   "cell_type": "code",
   "execution_count": 11,
   "id": "5c1c7002",
   "metadata": {},
   "outputs": [],
   "source": [
    "pds=[1,2,3,4]"
   ]
  },
  {
   "cell_type": "code",
   "execution_count": 12,
   "id": "56c5d1a0",
   "metadata": {},
   "outputs": [],
   "source": [
    "features=region_grp[\"Pickups\"].shift(pds)"
   ]
  },
  {
   "cell_type": "code",
   "execution_count": 13,
   "id": "77e75169",
   "metadata": {},
   "outputs": [
    {
     "data": {
      "text/html": [
       "<div>\n",
       "<style scoped>\n",
       "    .dataframe tbody tr th:only-of-type {\n",
       "        vertical-align: middle;\n",
       "    }\n",
       "\n",
       "    .dataframe tbody tr th {\n",
       "        vertical-align: top;\n",
       "    }\n",
       "\n",
       "    .dataframe thead th {\n",
       "        text-align: right;\n",
       "    }\n",
       "</style>\n",
       "<table border=\"1\" class=\"dataframe\">\n",
       "  <thead>\n",
       "    <tr style=\"text-align: right;\">\n",
       "      <th></th>\n",
       "      <th>Pickups_1</th>\n",
       "      <th>Pickups_2</th>\n",
       "      <th>Pickups_3</th>\n",
       "      <th>Pickups_4</th>\n",
       "    </tr>\n",
       "    <tr>\n",
       "      <th>tpep_pickup_datetime</th>\n",
       "      <th></th>\n",
       "      <th></th>\n",
       "      <th></th>\n",
       "      <th></th>\n",
       "    </tr>\n",
       "  </thead>\n",
       "  <tbody>\n",
       "    <tr>\n",
       "      <th>2016-01-01 00:00:00</th>\n",
       "      <td>NaN</td>\n",
       "      <td>NaN</td>\n",
       "      <td>NaN</td>\n",
       "      <td>NaN</td>\n",
       "    </tr>\n",
       "    <tr>\n",
       "      <th>2016-01-01 00:15:00</th>\n",
       "      <td>57.0</td>\n",
       "      <td>NaN</td>\n",
       "      <td>NaN</td>\n",
       "      <td>NaN</td>\n",
       "    </tr>\n",
       "    <tr>\n",
       "      <th>2016-01-01 00:30:00</th>\n",
       "      <td>113.0</td>\n",
       "      <td>57.0</td>\n",
       "      <td>NaN</td>\n",
       "      <td>NaN</td>\n",
       "    </tr>\n",
       "    <tr>\n",
       "      <th>2016-01-01 00:45:00</th>\n",
       "      <td>146.0</td>\n",
       "      <td>113.0</td>\n",
       "      <td>57.0</td>\n",
       "      <td>NaN</td>\n",
       "    </tr>\n",
       "    <tr>\n",
       "      <th>2016-01-01 01:00:00</th>\n",
       "      <td>162.0</td>\n",
       "      <td>146.0</td>\n",
       "      <td>113.0</td>\n",
       "      <td>57.0</td>\n",
       "    </tr>\n",
       "    <tr>\n",
       "      <th>...</th>\n",
       "      <td>...</td>\n",
       "      <td>...</td>\n",
       "      <td>...</td>\n",
       "      <td>...</td>\n",
       "    </tr>\n",
       "    <tr>\n",
       "      <th>2016-03-31 22:45:00</th>\n",
       "      <td>17.0</td>\n",
       "      <td>30.0</td>\n",
       "      <td>31.0</td>\n",
       "      <td>24.0</td>\n",
       "    </tr>\n",
       "    <tr>\n",
       "      <th>2016-03-31 23:00:00</th>\n",
       "      <td>13.0</td>\n",
       "      <td>17.0</td>\n",
       "      <td>30.0</td>\n",
       "      <td>31.0</td>\n",
       "    </tr>\n",
       "    <tr>\n",
       "      <th>2016-03-31 23:15:00</th>\n",
       "      <td>43.0</td>\n",
       "      <td>13.0</td>\n",
       "      <td>17.0</td>\n",
       "      <td>30.0</td>\n",
       "    </tr>\n",
       "    <tr>\n",
       "      <th>2016-03-31 23:30:00</th>\n",
       "      <td>24.0</td>\n",
       "      <td>43.0</td>\n",
       "      <td>13.0</td>\n",
       "      <td>17.0</td>\n",
       "    </tr>\n",
       "    <tr>\n",
       "      <th>2016-03-31 23:45:00</th>\n",
       "      <td>12.0</td>\n",
       "      <td>24.0</td>\n",
       "      <td>43.0</td>\n",
       "      <td>13.0</td>\n",
       "    </tr>\n",
       "  </tbody>\n",
       "</table>\n",
       "<p>262080 rows × 4 columns</p>\n",
       "</div>"
      ],
      "text/plain": [
       "                      Pickups_1  Pickups_2  Pickups_3  Pickups_4\n",
       "tpep_pickup_datetime                                            \n",
       "2016-01-01 00:00:00         NaN        NaN        NaN        NaN\n",
       "2016-01-01 00:15:00        57.0        NaN        NaN        NaN\n",
       "2016-01-01 00:30:00       113.0       57.0        NaN        NaN\n",
       "2016-01-01 00:45:00       146.0      113.0       57.0        NaN\n",
       "2016-01-01 01:00:00       162.0      146.0      113.0       57.0\n",
       "...                         ...        ...        ...        ...\n",
       "2016-03-31 22:45:00        17.0       30.0       31.0       24.0\n",
       "2016-03-31 23:00:00        13.0       17.0       30.0       31.0\n",
       "2016-03-31 23:15:00        43.0       13.0       17.0       30.0\n",
       "2016-03-31 23:30:00        24.0       43.0       13.0       17.0\n",
       "2016-03-31 23:45:00        12.0       24.0       43.0       13.0\n",
       "\n",
       "[262080 rows x 4 columns]"
      ]
     },
     "execution_count": 13,
     "metadata": {},
     "output_type": "execute_result"
    }
   ],
   "source": [
    "features"
   ]
  },
  {
   "cell_type": "code",
   "execution_count": 14,
   "id": "31940cc6",
   "metadata": {},
   "outputs": [
    {
     "data": {
      "text/plain": [
       "Pickups_1     30\n",
       "Pickups_2     60\n",
       "Pickups_3     90\n",
       "Pickups_4    120\n",
       "dtype: int64"
      ]
     },
     "execution_count": 14,
     "metadata": {},
     "output_type": "execute_result"
    }
   ],
   "source": [
    "features.isnull().sum()"
   ]
  },
  {
   "cell_type": "code",
   "execution_count": 15,
   "id": "19010b5f",
   "metadata": {},
   "outputs": [],
   "source": [
    "dfs=pd.concat([df,features],axis=1)"
   ]
  },
  {
   "cell_type": "code",
   "execution_count": 16,
   "id": "35a801bf",
   "metadata": {},
   "outputs": [],
   "source": [
    "dfs.dropna(how=\"any\",inplace=True)"
   ]
  },
  {
   "cell_type": "code",
   "execution_count": 15,
   "id": "a6ebb9c3",
   "metadata": {},
   "outputs": [
    {
     "data": {
      "text/html": [
       "<div>\n",
       "<style scoped>\n",
       "    .dataframe tbody tr th:only-of-type {\n",
       "        vertical-align: middle;\n",
       "    }\n",
       "\n",
       "    .dataframe tbody tr th {\n",
       "        vertical-align: top;\n",
       "    }\n",
       "\n",
       "    .dataframe thead th {\n",
       "        text-align: right;\n",
       "    }\n",
       "</style>\n",
       "<table border=\"1\" class=\"dataframe\">\n",
       "  <thead>\n",
       "    <tr style=\"text-align: right;\">\n",
       "      <th></th>\n",
       "      <th>Region</th>\n",
       "      <th>Pickups</th>\n",
       "      <th>Avg_pickups</th>\n",
       "      <th>Day</th>\n",
       "      <th>Month</th>\n",
       "      <th>Pickups_1</th>\n",
       "      <th>Pickups_2</th>\n",
       "      <th>Pickups_3</th>\n",
       "      <th>Pickups_4</th>\n",
       "    </tr>\n",
       "    <tr>\n",
       "      <th>tpep_pickup_datetime</th>\n",
       "      <th></th>\n",
       "      <th></th>\n",
       "      <th></th>\n",
       "      <th></th>\n",
       "      <th></th>\n",
       "      <th></th>\n",
       "      <th></th>\n",
       "      <th></th>\n",
       "      <th></th>\n",
       "    </tr>\n",
       "  </thead>\n",
       "  <tbody>\n",
       "    <tr>\n",
       "      <th>2016-01-01 01:00:00</th>\n",
       "      <td>0</td>\n",
       "      <td>182</td>\n",
       "      <td>158.0</td>\n",
       "      <td>4</td>\n",
       "      <td>1</td>\n",
       "      <td>162.0</td>\n",
       "      <td>146.0</td>\n",
       "      <td>113.0</td>\n",
       "      <td>57.0</td>\n",
       "    </tr>\n",
       "    <tr>\n",
       "      <th>2016-01-01 01:15:00</th>\n",
       "      <td>0</td>\n",
       "      <td>194</td>\n",
       "      <td>173.0</td>\n",
       "      <td>4</td>\n",
       "      <td>1</td>\n",
       "      <td>182.0</td>\n",
       "      <td>162.0</td>\n",
       "      <td>146.0</td>\n",
       "      <td>113.0</td>\n",
       "    </tr>\n",
       "    <tr>\n",
       "      <th>2016-01-01 01:30:00</th>\n",
       "      <td>0</td>\n",
       "      <td>188</td>\n",
       "      <td>179.0</td>\n",
       "      <td>4</td>\n",
       "      <td>1</td>\n",
       "      <td>194.0</td>\n",
       "      <td>182.0</td>\n",
       "      <td>162.0</td>\n",
       "      <td>146.0</td>\n",
       "    </tr>\n",
       "    <tr>\n",
       "      <th>2016-01-01 01:45:00</th>\n",
       "      <td>0</td>\n",
       "      <td>185</td>\n",
       "      <td>182.0</td>\n",
       "      <td>4</td>\n",
       "      <td>1</td>\n",
       "      <td>188.0</td>\n",
       "      <td>194.0</td>\n",
       "      <td>182.0</td>\n",
       "      <td>162.0</td>\n",
       "    </tr>\n",
       "    <tr>\n",
       "      <th>2016-01-01 02:00:00</th>\n",
       "      <td>0</td>\n",
       "      <td>176</td>\n",
       "      <td>179.0</td>\n",
       "      <td>4</td>\n",
       "      <td>1</td>\n",
       "      <td>185.0</td>\n",
       "      <td>188.0</td>\n",
       "      <td>194.0</td>\n",
       "      <td>182.0</td>\n",
       "    </tr>\n",
       "    <tr>\n",
       "      <th>...</th>\n",
       "      <td>...</td>\n",
       "      <td>...</td>\n",
       "      <td>...</td>\n",
       "      <td>...</td>\n",
       "      <td>...</td>\n",
       "      <td>...</td>\n",
       "      <td>...</td>\n",
       "      <td>...</td>\n",
       "      <td>...</td>\n",
       "    </tr>\n",
       "    <tr>\n",
       "      <th>2016-03-31 22:45:00</th>\n",
       "      <td>29</td>\n",
       "      <td>13</td>\n",
       "      <td>19.0</td>\n",
       "      <td>3</td>\n",
       "      <td>3</td>\n",
       "      <td>17.0</td>\n",
       "      <td>30.0</td>\n",
       "      <td>31.0</td>\n",
       "      <td>24.0</td>\n",
       "    </tr>\n",
       "    <tr>\n",
       "      <th>2016-03-31 23:00:00</th>\n",
       "      <td>29</td>\n",
       "      <td>43</td>\n",
       "      <td>29.0</td>\n",
       "      <td>3</td>\n",
       "      <td>3</td>\n",
       "      <td>13.0</td>\n",
       "      <td>17.0</td>\n",
       "      <td>30.0</td>\n",
       "      <td>31.0</td>\n",
       "    </tr>\n",
       "    <tr>\n",
       "      <th>2016-03-31 23:15:00</th>\n",
       "      <td>29</td>\n",
       "      <td>24</td>\n",
       "      <td>27.0</td>\n",
       "      <td>3</td>\n",
       "      <td>3</td>\n",
       "      <td>43.0</td>\n",
       "      <td>13.0</td>\n",
       "      <td>17.0</td>\n",
       "      <td>30.0</td>\n",
       "    </tr>\n",
       "    <tr>\n",
       "      <th>2016-03-31 23:30:00</th>\n",
       "      <td>29</td>\n",
       "      <td>12</td>\n",
       "      <td>21.0</td>\n",
       "      <td>3</td>\n",
       "      <td>3</td>\n",
       "      <td>24.0</td>\n",
       "      <td>43.0</td>\n",
       "      <td>13.0</td>\n",
       "      <td>17.0</td>\n",
       "    </tr>\n",
       "    <tr>\n",
       "      <th>2016-03-31 23:45:00</th>\n",
       "      <td>29</td>\n",
       "      <td>23</td>\n",
       "      <td>22.0</td>\n",
       "      <td>3</td>\n",
       "      <td>3</td>\n",
       "      <td>12.0</td>\n",
       "      <td>24.0</td>\n",
       "      <td>43.0</td>\n",
       "      <td>13.0</td>\n",
       "    </tr>\n",
       "  </tbody>\n",
       "</table>\n",
       "<p>261960 rows × 9 columns</p>\n",
       "</div>"
      ],
      "text/plain": [
       "                      Region  Pickups  Avg_pickups  Day  Month  Pickups_1  \\\n",
       "tpep_pickup_datetime                                                        \n",
       "2016-01-01 01:00:00        0      182        158.0    4      1      162.0   \n",
       "2016-01-01 01:15:00        0      194        173.0    4      1      182.0   \n",
       "2016-01-01 01:30:00        0      188        179.0    4      1      194.0   \n",
       "2016-01-01 01:45:00        0      185        182.0    4      1      188.0   \n",
       "2016-01-01 02:00:00        0      176        179.0    4      1      185.0   \n",
       "...                      ...      ...          ...  ...    ...        ...   \n",
       "2016-03-31 22:45:00       29       13         19.0    3      3       17.0   \n",
       "2016-03-31 23:00:00       29       43         29.0    3      3       13.0   \n",
       "2016-03-31 23:15:00       29       24         27.0    3      3       43.0   \n",
       "2016-03-31 23:30:00       29       12         21.0    3      3       24.0   \n",
       "2016-03-31 23:45:00       29       23         22.0    3      3       12.0   \n",
       "\n",
       "                      Pickups_2  Pickups_3  Pickups_4  \n",
       "tpep_pickup_datetime                                   \n",
       "2016-01-01 01:00:00       146.0      113.0       57.0  \n",
       "2016-01-01 01:15:00       162.0      146.0      113.0  \n",
       "2016-01-01 01:30:00       182.0      162.0      146.0  \n",
       "2016-01-01 01:45:00       194.0      182.0      162.0  \n",
       "2016-01-01 02:00:00       188.0      194.0      182.0  \n",
       "...                         ...        ...        ...  \n",
       "2016-03-31 22:45:00        30.0       31.0       24.0  \n",
       "2016-03-31 23:00:00        17.0       30.0       31.0  \n",
       "2016-03-31 23:15:00        13.0       17.0       30.0  \n",
       "2016-03-31 23:30:00        43.0       13.0       17.0  \n",
       "2016-03-31 23:45:00        24.0       43.0       13.0  \n",
       "\n",
       "[261960 rows x 9 columns]"
      ]
     },
     "execution_count": 15,
     "metadata": {},
     "output_type": "execute_result"
    }
   ],
   "source": [
    "dfs"
   ]
  },
  {
   "cell_type": "code",
   "execution_count": 17,
   "id": "a939f526",
   "metadata": {},
   "outputs": [
    {
     "data": {
      "text/plain": [
       "Region         0\n",
       "Pickups        0\n",
       "Avg_pickups    0\n",
       "Day            0\n",
       "Month          0\n",
       "Pickups_1      0\n",
       "Pickups_2      0\n",
       "Pickups_3      0\n",
       "Pickups_4      0\n",
       "dtype: int64"
      ]
     },
     "execution_count": 17,
     "metadata": {},
     "output_type": "execute_result"
    }
   ],
   "source": [
    "dfs.isnull().sum()"
   ]
  },
  {
   "cell_type": "code",
   "execution_count": 18,
   "id": "c9c7b2ea",
   "metadata": {},
   "outputs": [
    {
     "data": {
      "text/plain": [
       "Month\n",
       "3    89280\n",
       "1    89160\n",
       "2    83520\n",
       "Name: count, dtype: int64"
      ]
     },
     "execution_count": 18,
     "metadata": {},
     "output_type": "execute_result"
    }
   ],
   "source": [
    "dfs[\"Month\"].value_counts()"
   ]
  },
  {
   "cell_type": "markdown",
   "id": "5e0f7cd4",
   "metadata": {},
   "source": [
    "* Because it is a time series data so we can't train test split randomly . i break month 1,2 as train and month 3 as test."
   ]
  },
  {
   "cell_type": "code",
   "execution_count": 19,
   "id": "5f48c362",
   "metadata": {},
   "outputs": [],
   "source": [
    "train=dfs[dfs[\"Month\"].isin([1,2])].drop(columns=[\"Month\"])"
   ]
  },
  {
   "cell_type": "code",
   "execution_count": 20,
   "id": "81bc6a3c",
   "metadata": {},
   "outputs": [],
   "source": [
    "test=dfs[dfs[\"Month\"].isin([3])].drop(columns=[\"Month\"])"
   ]
  },
  {
   "cell_type": "code",
   "execution_count": 20,
   "id": "0319fc2b",
   "metadata": {},
   "outputs": [
    {
     "data": {
      "text/html": [
       "<div>\n",
       "<style scoped>\n",
       "    .dataframe tbody tr th:only-of-type {\n",
       "        vertical-align: middle;\n",
       "    }\n",
       "\n",
       "    .dataframe tbody tr th {\n",
       "        vertical-align: top;\n",
       "    }\n",
       "\n",
       "    .dataframe thead th {\n",
       "        text-align: right;\n",
       "    }\n",
       "</style>\n",
       "<table border=\"1\" class=\"dataframe\">\n",
       "  <thead>\n",
       "    <tr style=\"text-align: right;\">\n",
       "      <th></th>\n",
       "      <th>Region</th>\n",
       "      <th>Pickups</th>\n",
       "      <th>Avg_pickups</th>\n",
       "      <th>Day</th>\n",
       "      <th>Pickups_1</th>\n",
       "      <th>Pickups_2</th>\n",
       "      <th>Pickups_3</th>\n",
       "      <th>Pickups_4</th>\n",
       "    </tr>\n",
       "    <tr>\n",
       "      <th>tpep_pickup_datetime</th>\n",
       "      <th></th>\n",
       "      <th></th>\n",
       "      <th></th>\n",
       "      <th></th>\n",
       "      <th></th>\n",
       "      <th></th>\n",
       "      <th></th>\n",
       "      <th></th>\n",
       "    </tr>\n",
       "  </thead>\n",
       "  <tbody>\n",
       "    <tr>\n",
       "      <th>2016-01-01 01:00:00</th>\n",
       "      <td>0</td>\n",
       "      <td>182</td>\n",
       "      <td>158.0</td>\n",
       "      <td>4</td>\n",
       "      <td>162.0</td>\n",
       "      <td>146.0</td>\n",
       "      <td>113.0</td>\n",
       "      <td>57.0</td>\n",
       "    </tr>\n",
       "    <tr>\n",
       "      <th>2016-01-01 01:15:00</th>\n",
       "      <td>0</td>\n",
       "      <td>194</td>\n",
       "      <td>173.0</td>\n",
       "      <td>4</td>\n",
       "      <td>182.0</td>\n",
       "      <td>162.0</td>\n",
       "      <td>146.0</td>\n",
       "      <td>113.0</td>\n",
       "    </tr>\n",
       "    <tr>\n",
       "      <th>2016-01-01 01:30:00</th>\n",
       "      <td>0</td>\n",
       "      <td>188</td>\n",
       "      <td>179.0</td>\n",
       "      <td>4</td>\n",
       "      <td>194.0</td>\n",
       "      <td>182.0</td>\n",
       "      <td>162.0</td>\n",
       "      <td>146.0</td>\n",
       "    </tr>\n",
       "    <tr>\n",
       "      <th>2016-01-01 01:45:00</th>\n",
       "      <td>0</td>\n",
       "      <td>185</td>\n",
       "      <td>182.0</td>\n",
       "      <td>4</td>\n",
       "      <td>188.0</td>\n",
       "      <td>194.0</td>\n",
       "      <td>182.0</td>\n",
       "      <td>162.0</td>\n",
       "    </tr>\n",
       "    <tr>\n",
       "      <th>2016-01-01 02:00:00</th>\n",
       "      <td>0</td>\n",
       "      <td>176</td>\n",
       "      <td>179.0</td>\n",
       "      <td>4</td>\n",
       "      <td>185.0</td>\n",
       "      <td>188.0</td>\n",
       "      <td>194.0</td>\n",
       "      <td>182.0</td>\n",
       "    </tr>\n",
       "    <tr>\n",
       "      <th>...</th>\n",
       "      <td>...</td>\n",
       "      <td>...</td>\n",
       "      <td>...</td>\n",
       "      <td>...</td>\n",
       "      <td>...</td>\n",
       "      <td>...</td>\n",
       "      <td>...</td>\n",
       "      <td>...</td>\n",
       "    </tr>\n",
       "    <tr>\n",
       "      <th>2016-02-29 22:45:00</th>\n",
       "      <td>29</td>\n",
       "      <td>36</td>\n",
       "      <td>53.0</td>\n",
       "      <td>0</td>\n",
       "      <td>51.0</td>\n",
       "      <td>76.0</td>\n",
       "      <td>64.0</td>\n",
       "      <td>80.0</td>\n",
       "    </tr>\n",
       "    <tr>\n",
       "      <th>2016-02-29 23:00:00</th>\n",
       "      <td>29</td>\n",
       "      <td>45</td>\n",
       "      <td>50.0</td>\n",
       "      <td>0</td>\n",
       "      <td>36.0</td>\n",
       "      <td>51.0</td>\n",
       "      <td>76.0</td>\n",
       "      <td>64.0</td>\n",
       "    </tr>\n",
       "    <tr>\n",
       "      <th>2016-02-29 23:15:00</th>\n",
       "      <td>29</td>\n",
       "      <td>30</td>\n",
       "      <td>42.0</td>\n",
       "      <td>0</td>\n",
       "      <td>45.0</td>\n",
       "      <td>36.0</td>\n",
       "      <td>51.0</td>\n",
       "      <td>76.0</td>\n",
       "    </tr>\n",
       "    <tr>\n",
       "      <th>2016-02-29 23:30:00</th>\n",
       "      <td>29</td>\n",
       "      <td>30</td>\n",
       "      <td>37.0</td>\n",
       "      <td>0</td>\n",
       "      <td>30.0</td>\n",
       "      <td>45.0</td>\n",
       "      <td>36.0</td>\n",
       "      <td>51.0</td>\n",
       "    </tr>\n",
       "    <tr>\n",
       "      <th>2016-02-29 23:45:00</th>\n",
       "      <td>29</td>\n",
       "      <td>16</td>\n",
       "      <td>29.0</td>\n",
       "      <td>0</td>\n",
       "      <td>30.0</td>\n",
       "      <td>30.0</td>\n",
       "      <td>45.0</td>\n",
       "      <td>36.0</td>\n",
       "    </tr>\n",
       "  </tbody>\n",
       "</table>\n",
       "<p>172680 rows × 8 columns</p>\n",
       "</div>"
      ],
      "text/plain": [
       "                      Region  Pickups  Avg_pickups  Day  Pickups_1  Pickups_2  \\\n",
       "tpep_pickup_datetime                                                            \n",
       "2016-01-01 01:00:00        0      182        158.0    4      162.0      146.0   \n",
       "2016-01-01 01:15:00        0      194        173.0    4      182.0      162.0   \n",
       "2016-01-01 01:30:00        0      188        179.0    4      194.0      182.0   \n",
       "2016-01-01 01:45:00        0      185        182.0    4      188.0      194.0   \n",
       "2016-01-01 02:00:00        0      176        179.0    4      185.0      188.0   \n",
       "...                      ...      ...          ...  ...        ...        ...   \n",
       "2016-02-29 22:45:00       29       36         53.0    0       51.0       76.0   \n",
       "2016-02-29 23:00:00       29       45         50.0    0       36.0       51.0   \n",
       "2016-02-29 23:15:00       29       30         42.0    0       45.0       36.0   \n",
       "2016-02-29 23:30:00       29       30         37.0    0       30.0       45.0   \n",
       "2016-02-29 23:45:00       29       16         29.0    0       30.0       30.0   \n",
       "\n",
       "                      Pickups_3  Pickups_4  \n",
       "tpep_pickup_datetime                        \n",
       "2016-01-01 01:00:00       113.0       57.0  \n",
       "2016-01-01 01:15:00       146.0      113.0  \n",
       "2016-01-01 01:30:00       162.0      146.0  \n",
       "2016-01-01 01:45:00       182.0      162.0  \n",
       "2016-01-01 02:00:00       194.0      182.0  \n",
       "...                         ...        ...  \n",
       "2016-02-29 22:45:00        64.0       80.0  \n",
       "2016-02-29 23:00:00        76.0       64.0  \n",
       "2016-02-29 23:15:00        51.0       76.0  \n",
       "2016-02-29 23:30:00        36.0       51.0  \n",
       "2016-02-29 23:45:00        45.0       36.0  \n",
       "\n",
       "[172680 rows x 8 columns]"
      ]
     },
     "execution_count": 20,
     "metadata": {},
     "output_type": "execute_result"
    }
   ],
   "source": [
    "train"
   ]
  },
  {
   "cell_type": "code",
   "execution_count": 21,
   "id": "2988b7a7",
   "metadata": {},
   "outputs": [
    {
     "data": {
      "text/html": [
       "<div>\n",
       "<style scoped>\n",
       "    .dataframe tbody tr th:only-of-type {\n",
       "        vertical-align: middle;\n",
       "    }\n",
       "\n",
       "    .dataframe tbody tr th {\n",
       "        vertical-align: top;\n",
       "    }\n",
       "\n",
       "    .dataframe thead th {\n",
       "        text-align: right;\n",
       "    }\n",
       "</style>\n",
       "<table border=\"1\" class=\"dataframe\">\n",
       "  <thead>\n",
       "    <tr style=\"text-align: right;\">\n",
       "      <th></th>\n",
       "      <th>Region</th>\n",
       "      <th>Pickups</th>\n",
       "      <th>Avg_pickups</th>\n",
       "      <th>Day</th>\n",
       "      <th>Pickups_1</th>\n",
       "      <th>Pickups_2</th>\n",
       "      <th>Pickups_3</th>\n",
       "      <th>Pickups_4</th>\n",
       "    </tr>\n",
       "    <tr>\n",
       "      <th>tpep_pickup_datetime</th>\n",
       "      <th></th>\n",
       "      <th></th>\n",
       "      <th></th>\n",
       "      <th></th>\n",
       "      <th></th>\n",
       "      <th></th>\n",
       "      <th></th>\n",
       "      <th></th>\n",
       "    </tr>\n",
       "  </thead>\n",
       "  <tbody>\n",
       "    <tr>\n",
       "      <th>2016-03-01 00:00:00</th>\n",
       "      <td>0</td>\n",
       "      <td>61</td>\n",
       "      <td>61.0</td>\n",
       "      <td>1</td>\n",
       "      <td>42.0</td>\n",
       "      <td>53.0</td>\n",
       "      <td>64.0</td>\n",
       "      <td>86.0</td>\n",
       "    </tr>\n",
       "    <tr>\n",
       "      <th>2016-03-01 00:15:00</th>\n",
       "      <td>0</td>\n",
       "      <td>49</td>\n",
       "      <td>56.0</td>\n",
       "      <td>1</td>\n",
       "      <td>61.0</td>\n",
       "      <td>42.0</td>\n",
       "      <td>53.0</td>\n",
       "      <td>64.0</td>\n",
       "    </tr>\n",
       "    <tr>\n",
       "      <th>2016-03-01 00:30:00</th>\n",
       "      <td>0</td>\n",
       "      <td>37</td>\n",
       "      <td>48.0</td>\n",
       "      <td>1</td>\n",
       "      <td>49.0</td>\n",
       "      <td>61.0</td>\n",
       "      <td>42.0</td>\n",
       "      <td>53.0</td>\n",
       "    </tr>\n",
       "    <tr>\n",
       "      <th>2016-03-01 00:45:00</th>\n",
       "      <td>0</td>\n",
       "      <td>42</td>\n",
       "      <td>46.0</td>\n",
       "      <td>1</td>\n",
       "      <td>37.0</td>\n",
       "      <td>49.0</td>\n",
       "      <td>61.0</td>\n",
       "      <td>42.0</td>\n",
       "    </tr>\n",
       "    <tr>\n",
       "      <th>2016-03-01 01:00:00</th>\n",
       "      <td>0</td>\n",
       "      <td>40</td>\n",
       "      <td>44.0</td>\n",
       "      <td>1</td>\n",
       "      <td>42.0</td>\n",
       "      <td>37.0</td>\n",
       "      <td>49.0</td>\n",
       "      <td>61.0</td>\n",
       "    </tr>\n",
       "    <tr>\n",
       "      <th>...</th>\n",
       "      <td>...</td>\n",
       "      <td>...</td>\n",
       "      <td>...</td>\n",
       "      <td>...</td>\n",
       "      <td>...</td>\n",
       "      <td>...</td>\n",
       "      <td>...</td>\n",
       "      <td>...</td>\n",
       "    </tr>\n",
       "    <tr>\n",
       "      <th>2016-03-31 22:45:00</th>\n",
       "      <td>29</td>\n",
       "      <td>13</td>\n",
       "      <td>19.0</td>\n",
       "      <td>3</td>\n",
       "      <td>17.0</td>\n",
       "      <td>30.0</td>\n",
       "      <td>31.0</td>\n",
       "      <td>24.0</td>\n",
       "    </tr>\n",
       "    <tr>\n",
       "      <th>2016-03-31 23:00:00</th>\n",
       "      <td>29</td>\n",
       "      <td>43</td>\n",
       "      <td>29.0</td>\n",
       "      <td>3</td>\n",
       "      <td>13.0</td>\n",
       "      <td>17.0</td>\n",
       "      <td>30.0</td>\n",
       "      <td>31.0</td>\n",
       "    </tr>\n",
       "    <tr>\n",
       "      <th>2016-03-31 23:15:00</th>\n",
       "      <td>29</td>\n",
       "      <td>24</td>\n",
       "      <td>27.0</td>\n",
       "      <td>3</td>\n",
       "      <td>43.0</td>\n",
       "      <td>13.0</td>\n",
       "      <td>17.0</td>\n",
       "      <td>30.0</td>\n",
       "    </tr>\n",
       "    <tr>\n",
       "      <th>2016-03-31 23:30:00</th>\n",
       "      <td>29</td>\n",
       "      <td>12</td>\n",
       "      <td>21.0</td>\n",
       "      <td>3</td>\n",
       "      <td>24.0</td>\n",
       "      <td>43.0</td>\n",
       "      <td>13.0</td>\n",
       "      <td>17.0</td>\n",
       "    </tr>\n",
       "    <tr>\n",
       "      <th>2016-03-31 23:45:00</th>\n",
       "      <td>29</td>\n",
       "      <td>23</td>\n",
       "      <td>22.0</td>\n",
       "      <td>3</td>\n",
       "      <td>12.0</td>\n",
       "      <td>24.0</td>\n",
       "      <td>43.0</td>\n",
       "      <td>13.0</td>\n",
       "    </tr>\n",
       "  </tbody>\n",
       "</table>\n",
       "<p>89280 rows × 8 columns</p>\n",
       "</div>"
      ],
      "text/plain": [
       "                      Region  Pickups  Avg_pickups  Day  Pickups_1  Pickups_2  \\\n",
       "tpep_pickup_datetime                                                            \n",
       "2016-03-01 00:00:00        0       61         61.0    1       42.0       53.0   \n",
       "2016-03-01 00:15:00        0       49         56.0    1       61.0       42.0   \n",
       "2016-03-01 00:30:00        0       37         48.0    1       49.0       61.0   \n",
       "2016-03-01 00:45:00        0       42         46.0    1       37.0       49.0   \n",
       "2016-03-01 01:00:00        0       40         44.0    1       42.0       37.0   \n",
       "...                      ...      ...          ...  ...        ...        ...   \n",
       "2016-03-31 22:45:00       29       13         19.0    3       17.0       30.0   \n",
       "2016-03-31 23:00:00       29       43         29.0    3       13.0       17.0   \n",
       "2016-03-31 23:15:00       29       24         27.0    3       43.0       13.0   \n",
       "2016-03-31 23:30:00       29       12         21.0    3       24.0       43.0   \n",
       "2016-03-31 23:45:00       29       23         22.0    3       12.0       24.0   \n",
       "\n",
       "                      Pickups_3  Pickups_4  \n",
       "tpep_pickup_datetime                        \n",
       "2016-03-01 00:00:00        64.0       86.0  \n",
       "2016-03-01 00:15:00        53.0       64.0  \n",
       "2016-03-01 00:30:00        42.0       53.0  \n",
       "2016-03-01 00:45:00        61.0       42.0  \n",
       "2016-03-01 01:00:00        49.0       61.0  \n",
       "...                         ...        ...  \n",
       "2016-03-31 22:45:00        31.0       24.0  \n",
       "2016-03-31 23:00:00        30.0       31.0  \n",
       "2016-03-31 23:15:00        17.0       30.0  \n",
       "2016-03-31 23:30:00        13.0       17.0  \n",
       "2016-03-31 23:45:00        43.0       13.0  \n",
       "\n",
       "[89280 rows x 8 columns]"
      ]
     },
     "execution_count": 21,
     "metadata": {},
     "output_type": "execute_result"
    }
   ],
   "source": [
    "test"
   ]
  },
  {
   "cell_type": "markdown",
   "id": "45102232",
   "metadata": {},
   "source": [
    "* Pickup_1 Pickup_2 Pickup_3 Pickup4 are t-i data based on the previous one data i predict the current time."
   ]
  },
  {
   "cell_type": "code",
   "execution_count": 22,
   "id": "a6c73306",
   "metadata": {},
   "outputs": [],
   "source": [
    "train_data_path=\"../data/processed/train_data.csv\"\n",
    "test_data_path=\"../data/processed/test_data.csv\""
   ]
  },
  {
   "cell_type": "code",
   "execution_count": 23,
   "id": "71d90d40",
   "metadata": {},
   "outputs": [],
   "source": [
    "train.to_csv(train_data_path,index=True)\n",
    "test.to_csv(test_data_path,index=True)"
   ]
  },
  {
   "cell_type": "code",
   "execution_count": 24,
   "id": "2b076bae",
   "metadata": {},
   "outputs": [],
   "source": [
    "X_train=train.drop(columns=[\"Pickups\"])\n",
    "\n",
    "y_train=train[\"Pickups\"]\n",
    "X_test=test.drop(columns=[\"Pickups\"])\n",
    "y_test=test[\"Pickups\"]"
   ]
  },
  {
   "cell_type": "code",
   "execution_count": 25,
   "id": "15a2f6dc",
   "metadata": {},
   "outputs": [],
   "source": [
    "from sklearn.compose import ColumnTransformer\n",
    "from sklearn.preprocessing import OneHotEncoder\n",
    "from sklearn.pipeline import Pipeline\n",
    "from sklearn.preprocessing import StandardScaler\n",
    "from sklearn.metrics import mean_absolute_percentage_error\n",
    "from sklearn.linear_model import LinearRegression"
   ]
  },
  {
   "cell_type": "code",
   "execution_count": 26,
   "id": "1759f2ae",
   "metadata": {},
   "outputs": [],
   "source": [
    "from sklearn import set_config\n",
    "\n",
    "set_config(transform_output=\"pandas\")"
   ]
  },
  {
   "cell_type": "code",
   "execution_count": 27,
   "id": "87560e16",
   "metadata": {},
   "outputs": [],
   "source": [
    "encoder=ColumnTransformer(\n",
    "    [\n",
    "        (\"ohe\",OneHotEncoder(drop=\"first\",sparse_output=False),[\"Region\",\"Day\"])\n",
    "    ],\n",
    "    remainder=\"passthrough\",n_jobs=-1\n",
    ")"
   ]
  },
  {
   "cell_type": "code",
   "execution_count": 28,
   "id": "ffd8da2e",
   "metadata": {},
   "outputs": [],
   "source": [
    "pipeline=Pipeline(\n",
    "    [\n",
    "        (\"encoder\",encoder),\n",
    "        (\"lr\",LinearRegression())\n",
    "    ]\n",
    ")"
   ]
  },
  {
   "cell_type": "code",
   "execution_count": 32,
   "id": "0c72a2f6",
   "metadata": {},
   "outputs": [
    {
     "data": {
      "text/html": [
       "<style>#sk-container-id-1 {\n",
       "  /* Definition of color scheme common for light and dark mode */\n",
       "  --sklearn-color-text: #000;\n",
       "  --sklearn-color-text-muted: #666;\n",
       "  --sklearn-color-line: gray;\n",
       "  /* Definition of color scheme for unfitted estimators */\n",
       "  --sklearn-color-unfitted-level-0: #fff5e6;\n",
       "  --sklearn-color-unfitted-level-1: #f6e4d2;\n",
       "  --sklearn-color-unfitted-level-2: #ffe0b3;\n",
       "  --sklearn-color-unfitted-level-3: chocolate;\n",
       "  /* Definition of color scheme for fitted estimators */\n",
       "  --sklearn-color-fitted-level-0: #f0f8ff;\n",
       "  --sklearn-color-fitted-level-1: #d4ebff;\n",
       "  --sklearn-color-fitted-level-2: #b3dbfd;\n",
       "  --sklearn-color-fitted-level-3: cornflowerblue;\n",
       "\n",
       "  /* Specific color for light theme */\n",
       "  --sklearn-color-text-on-default-background: var(--sg-text-color, var(--theme-code-foreground, var(--jp-content-font-color1, black)));\n",
       "  --sklearn-color-background: var(--sg-background-color, var(--theme-background, var(--jp-layout-color0, white)));\n",
       "  --sklearn-color-border-box: var(--sg-text-color, var(--theme-code-foreground, var(--jp-content-font-color1, black)));\n",
       "  --sklearn-color-icon: #696969;\n",
       "\n",
       "  @media (prefers-color-scheme: dark) {\n",
       "    /* Redefinition of color scheme for dark theme */\n",
       "    --sklearn-color-text-on-default-background: var(--sg-text-color, var(--theme-code-foreground, var(--jp-content-font-color1, white)));\n",
       "    --sklearn-color-background: var(--sg-background-color, var(--theme-background, var(--jp-layout-color0, #111)));\n",
       "    --sklearn-color-border-box: var(--sg-text-color, var(--theme-code-foreground, var(--jp-content-font-color1, white)));\n",
       "    --sklearn-color-icon: #878787;\n",
       "  }\n",
       "}\n",
       "\n",
       "#sk-container-id-1 {\n",
       "  color: var(--sklearn-color-text);\n",
       "}\n",
       "\n",
       "#sk-container-id-1 pre {\n",
       "  padding: 0;\n",
       "}\n",
       "\n",
       "#sk-container-id-1 input.sk-hidden--visually {\n",
       "  border: 0;\n",
       "  clip: rect(1px 1px 1px 1px);\n",
       "  clip: rect(1px, 1px, 1px, 1px);\n",
       "  height: 1px;\n",
       "  margin: -1px;\n",
       "  overflow: hidden;\n",
       "  padding: 0;\n",
       "  position: absolute;\n",
       "  width: 1px;\n",
       "}\n",
       "\n",
       "#sk-container-id-1 div.sk-dashed-wrapped {\n",
       "  border: 1px dashed var(--sklearn-color-line);\n",
       "  margin: 0 0.4em 0.5em 0.4em;\n",
       "  box-sizing: border-box;\n",
       "  padding-bottom: 0.4em;\n",
       "  background-color: var(--sklearn-color-background);\n",
       "}\n",
       "\n",
       "#sk-container-id-1 div.sk-container {\n",
       "  /* jupyter's `normalize.less` sets `[hidden] { display: none; }`\n",
       "     but bootstrap.min.css set `[hidden] { display: none !important; }`\n",
       "     so we also need the `!important` here to be able to override the\n",
       "     default hidden behavior on the sphinx rendered scikit-learn.org.\n",
       "     See: https://github.com/scikit-learn/scikit-learn/issues/21755 */\n",
       "  display: inline-block !important;\n",
       "  position: relative;\n",
       "}\n",
       "\n",
       "#sk-container-id-1 div.sk-text-repr-fallback {\n",
       "  display: none;\n",
       "}\n",
       "\n",
       "div.sk-parallel-item,\n",
       "div.sk-serial,\n",
       "div.sk-item {\n",
       "  /* draw centered vertical line to link estimators */\n",
       "  background-image: linear-gradient(var(--sklearn-color-text-on-default-background), var(--sklearn-color-text-on-default-background));\n",
       "  background-size: 2px 100%;\n",
       "  background-repeat: no-repeat;\n",
       "  background-position: center center;\n",
       "}\n",
       "\n",
       "/* Parallel-specific style estimator block */\n",
       "\n",
       "#sk-container-id-1 div.sk-parallel-item::after {\n",
       "  content: \"\";\n",
       "  width: 100%;\n",
       "  border-bottom: 2px solid var(--sklearn-color-text-on-default-background);\n",
       "  flex-grow: 1;\n",
       "}\n",
       "\n",
       "#sk-container-id-1 div.sk-parallel {\n",
       "  display: flex;\n",
       "  align-items: stretch;\n",
       "  justify-content: center;\n",
       "  background-color: var(--sklearn-color-background);\n",
       "  position: relative;\n",
       "}\n",
       "\n",
       "#sk-container-id-1 div.sk-parallel-item {\n",
       "  display: flex;\n",
       "  flex-direction: column;\n",
       "}\n",
       "\n",
       "#sk-container-id-1 div.sk-parallel-item:first-child::after {\n",
       "  align-self: flex-end;\n",
       "  width: 50%;\n",
       "}\n",
       "\n",
       "#sk-container-id-1 div.sk-parallel-item:last-child::after {\n",
       "  align-self: flex-start;\n",
       "  width: 50%;\n",
       "}\n",
       "\n",
       "#sk-container-id-1 div.sk-parallel-item:only-child::after {\n",
       "  width: 0;\n",
       "}\n",
       "\n",
       "/* Serial-specific style estimator block */\n",
       "\n",
       "#sk-container-id-1 div.sk-serial {\n",
       "  display: flex;\n",
       "  flex-direction: column;\n",
       "  align-items: center;\n",
       "  background-color: var(--sklearn-color-background);\n",
       "  padding-right: 1em;\n",
       "  padding-left: 1em;\n",
       "}\n",
       "\n",
       "\n",
       "/* Toggleable style: style used for estimator/Pipeline/ColumnTransformer box that is\n",
       "clickable and can be expanded/collapsed.\n",
       "- Pipeline and ColumnTransformer use this feature and define the default style\n",
       "- Estimators will overwrite some part of the style using the `sk-estimator` class\n",
       "*/\n",
       "\n",
       "/* Pipeline and ColumnTransformer style (default) */\n",
       "\n",
       "#sk-container-id-1 div.sk-toggleable {\n",
       "  /* Default theme specific background. It is overwritten whether we have a\n",
       "  specific estimator or a Pipeline/ColumnTransformer */\n",
       "  background-color: var(--sklearn-color-background);\n",
       "}\n",
       "\n",
       "/* Toggleable label */\n",
       "#sk-container-id-1 label.sk-toggleable__label {\n",
       "  cursor: pointer;\n",
       "  display: flex;\n",
       "  width: 100%;\n",
       "  margin-bottom: 0;\n",
       "  padding: 0.5em;\n",
       "  box-sizing: border-box;\n",
       "  text-align: center;\n",
       "  align-items: start;\n",
       "  justify-content: space-between;\n",
       "  gap: 0.5em;\n",
       "}\n",
       "\n",
       "#sk-container-id-1 label.sk-toggleable__label .caption {\n",
       "  font-size: 0.6rem;\n",
       "  font-weight: lighter;\n",
       "  color: var(--sklearn-color-text-muted);\n",
       "}\n",
       "\n",
       "#sk-container-id-1 label.sk-toggleable__label-arrow:before {\n",
       "  /* Arrow on the left of the label */\n",
       "  content: \"▸\";\n",
       "  float: left;\n",
       "  margin-right: 0.25em;\n",
       "  color: var(--sklearn-color-icon);\n",
       "}\n",
       "\n",
       "#sk-container-id-1 label.sk-toggleable__label-arrow:hover:before {\n",
       "  color: var(--sklearn-color-text);\n",
       "}\n",
       "\n",
       "/* Toggleable content - dropdown */\n",
       "\n",
       "#sk-container-id-1 div.sk-toggleable__content {\n",
       "  display: none;\n",
       "  text-align: left;\n",
       "  /* unfitted */\n",
       "  background-color: var(--sklearn-color-unfitted-level-0);\n",
       "}\n",
       "\n",
       "#sk-container-id-1 div.sk-toggleable__content.fitted {\n",
       "  /* fitted */\n",
       "  background-color: var(--sklearn-color-fitted-level-0);\n",
       "}\n",
       "\n",
       "#sk-container-id-1 div.sk-toggleable__content pre {\n",
       "  margin: 0.2em;\n",
       "  border-radius: 0.25em;\n",
       "  color: var(--sklearn-color-text);\n",
       "  /* unfitted */\n",
       "  background-color: var(--sklearn-color-unfitted-level-0);\n",
       "}\n",
       "\n",
       "#sk-container-id-1 div.sk-toggleable__content.fitted pre {\n",
       "  /* unfitted */\n",
       "  background-color: var(--sklearn-color-fitted-level-0);\n",
       "}\n",
       "\n",
       "#sk-container-id-1 input.sk-toggleable__control:checked~div.sk-toggleable__content {\n",
       "  /* Expand drop-down */\n",
       "  display: block;\n",
       "  width: 100%;\n",
       "  overflow: visible;\n",
       "}\n",
       "\n",
       "#sk-container-id-1 input.sk-toggleable__control:checked~label.sk-toggleable__label-arrow:before {\n",
       "  content: \"▾\";\n",
       "}\n",
       "\n",
       "/* Pipeline/ColumnTransformer-specific style */\n",
       "\n",
       "#sk-container-id-1 div.sk-label input.sk-toggleable__control:checked~label.sk-toggleable__label {\n",
       "  color: var(--sklearn-color-text);\n",
       "  background-color: var(--sklearn-color-unfitted-level-2);\n",
       "}\n",
       "\n",
       "#sk-container-id-1 div.sk-label.fitted input.sk-toggleable__control:checked~label.sk-toggleable__label {\n",
       "  background-color: var(--sklearn-color-fitted-level-2);\n",
       "}\n",
       "\n",
       "/* Estimator-specific style */\n",
       "\n",
       "/* Colorize estimator box */\n",
       "#sk-container-id-1 div.sk-estimator input.sk-toggleable__control:checked~label.sk-toggleable__label {\n",
       "  /* unfitted */\n",
       "  background-color: var(--sklearn-color-unfitted-level-2);\n",
       "}\n",
       "\n",
       "#sk-container-id-1 div.sk-estimator.fitted input.sk-toggleable__control:checked~label.sk-toggleable__label {\n",
       "  /* fitted */\n",
       "  background-color: var(--sklearn-color-fitted-level-2);\n",
       "}\n",
       "\n",
       "#sk-container-id-1 div.sk-label label.sk-toggleable__label,\n",
       "#sk-container-id-1 div.sk-label label {\n",
       "  /* The background is the default theme color */\n",
       "  color: var(--sklearn-color-text-on-default-background);\n",
       "}\n",
       "\n",
       "/* On hover, darken the color of the background */\n",
       "#sk-container-id-1 div.sk-label:hover label.sk-toggleable__label {\n",
       "  color: var(--sklearn-color-text);\n",
       "  background-color: var(--sklearn-color-unfitted-level-2);\n",
       "}\n",
       "\n",
       "/* Label box, darken color on hover, fitted */\n",
       "#sk-container-id-1 div.sk-label.fitted:hover label.sk-toggleable__label.fitted {\n",
       "  color: var(--sklearn-color-text);\n",
       "  background-color: var(--sklearn-color-fitted-level-2);\n",
       "}\n",
       "\n",
       "/* Estimator label */\n",
       "\n",
       "#sk-container-id-1 div.sk-label label {\n",
       "  font-family: monospace;\n",
       "  font-weight: bold;\n",
       "  display: inline-block;\n",
       "  line-height: 1.2em;\n",
       "}\n",
       "\n",
       "#sk-container-id-1 div.sk-label-container {\n",
       "  text-align: center;\n",
       "}\n",
       "\n",
       "/* Estimator-specific */\n",
       "#sk-container-id-1 div.sk-estimator {\n",
       "  font-family: monospace;\n",
       "  border: 1px dotted var(--sklearn-color-border-box);\n",
       "  border-radius: 0.25em;\n",
       "  box-sizing: border-box;\n",
       "  margin-bottom: 0.5em;\n",
       "  /* unfitted */\n",
       "  background-color: var(--sklearn-color-unfitted-level-0);\n",
       "}\n",
       "\n",
       "#sk-container-id-1 div.sk-estimator.fitted {\n",
       "  /* fitted */\n",
       "  background-color: var(--sklearn-color-fitted-level-0);\n",
       "}\n",
       "\n",
       "/* on hover */\n",
       "#sk-container-id-1 div.sk-estimator:hover {\n",
       "  /* unfitted */\n",
       "  background-color: var(--sklearn-color-unfitted-level-2);\n",
       "}\n",
       "\n",
       "#sk-container-id-1 div.sk-estimator.fitted:hover {\n",
       "  /* fitted */\n",
       "  background-color: var(--sklearn-color-fitted-level-2);\n",
       "}\n",
       "\n",
       "/* Specification for estimator info (e.g. \"i\" and \"?\") */\n",
       "\n",
       "/* Common style for \"i\" and \"?\" */\n",
       "\n",
       ".sk-estimator-doc-link,\n",
       "a:link.sk-estimator-doc-link,\n",
       "a:visited.sk-estimator-doc-link {\n",
       "  float: right;\n",
       "  font-size: smaller;\n",
       "  line-height: 1em;\n",
       "  font-family: monospace;\n",
       "  background-color: var(--sklearn-color-background);\n",
       "  border-radius: 1em;\n",
       "  height: 1em;\n",
       "  width: 1em;\n",
       "  text-decoration: none !important;\n",
       "  margin-left: 0.5em;\n",
       "  text-align: center;\n",
       "  /* unfitted */\n",
       "  border: var(--sklearn-color-unfitted-level-1) 1pt solid;\n",
       "  color: var(--sklearn-color-unfitted-level-1);\n",
       "}\n",
       "\n",
       ".sk-estimator-doc-link.fitted,\n",
       "a:link.sk-estimator-doc-link.fitted,\n",
       "a:visited.sk-estimator-doc-link.fitted {\n",
       "  /* fitted */\n",
       "  border: var(--sklearn-color-fitted-level-1) 1pt solid;\n",
       "  color: var(--sklearn-color-fitted-level-1);\n",
       "}\n",
       "\n",
       "/* On hover */\n",
       "div.sk-estimator:hover .sk-estimator-doc-link:hover,\n",
       ".sk-estimator-doc-link:hover,\n",
       "div.sk-label-container:hover .sk-estimator-doc-link:hover,\n",
       ".sk-estimator-doc-link:hover {\n",
       "  /* unfitted */\n",
       "  background-color: var(--sklearn-color-unfitted-level-3);\n",
       "  color: var(--sklearn-color-background);\n",
       "  text-decoration: none;\n",
       "}\n",
       "\n",
       "div.sk-estimator.fitted:hover .sk-estimator-doc-link.fitted:hover,\n",
       ".sk-estimator-doc-link.fitted:hover,\n",
       "div.sk-label-container:hover .sk-estimator-doc-link.fitted:hover,\n",
       ".sk-estimator-doc-link.fitted:hover {\n",
       "  /* fitted */\n",
       "  background-color: var(--sklearn-color-fitted-level-3);\n",
       "  color: var(--sklearn-color-background);\n",
       "  text-decoration: none;\n",
       "}\n",
       "\n",
       "/* Span, style for the box shown on hovering the info icon */\n",
       ".sk-estimator-doc-link span {\n",
       "  display: none;\n",
       "  z-index: 9999;\n",
       "  position: relative;\n",
       "  font-weight: normal;\n",
       "  right: .2ex;\n",
       "  padding: .5ex;\n",
       "  margin: .5ex;\n",
       "  width: min-content;\n",
       "  min-width: 20ex;\n",
       "  max-width: 50ex;\n",
       "  color: var(--sklearn-color-text);\n",
       "  box-shadow: 2pt 2pt 4pt #999;\n",
       "  /* unfitted */\n",
       "  background: var(--sklearn-color-unfitted-level-0);\n",
       "  border: .5pt solid var(--sklearn-color-unfitted-level-3);\n",
       "}\n",
       "\n",
       ".sk-estimator-doc-link.fitted span {\n",
       "  /* fitted */\n",
       "  background: var(--sklearn-color-fitted-level-0);\n",
       "  border: var(--sklearn-color-fitted-level-3);\n",
       "}\n",
       "\n",
       ".sk-estimator-doc-link:hover span {\n",
       "  display: block;\n",
       "}\n",
       "\n",
       "/* \"?\"-specific style due to the `<a>` HTML tag */\n",
       "\n",
       "#sk-container-id-1 a.estimator_doc_link {\n",
       "  float: right;\n",
       "  font-size: 1rem;\n",
       "  line-height: 1em;\n",
       "  font-family: monospace;\n",
       "  background-color: var(--sklearn-color-background);\n",
       "  border-radius: 1rem;\n",
       "  height: 1rem;\n",
       "  width: 1rem;\n",
       "  text-decoration: none;\n",
       "  /* unfitted */\n",
       "  color: var(--sklearn-color-unfitted-level-1);\n",
       "  border: var(--sklearn-color-unfitted-level-1) 1pt solid;\n",
       "}\n",
       "\n",
       "#sk-container-id-1 a.estimator_doc_link.fitted {\n",
       "  /* fitted */\n",
       "  border: var(--sklearn-color-fitted-level-1) 1pt solid;\n",
       "  color: var(--sklearn-color-fitted-level-1);\n",
       "}\n",
       "\n",
       "/* On hover */\n",
       "#sk-container-id-1 a.estimator_doc_link:hover {\n",
       "  /* unfitted */\n",
       "  background-color: var(--sklearn-color-unfitted-level-3);\n",
       "  color: var(--sklearn-color-background);\n",
       "  text-decoration: none;\n",
       "}\n",
       "\n",
       "#sk-container-id-1 a.estimator_doc_link.fitted:hover {\n",
       "  /* fitted */\n",
       "  background-color: var(--sklearn-color-fitted-level-3);\n",
       "}\n",
       "\n",
       ".estimator-table summary {\n",
       "    padding: .5rem;\n",
       "    font-family: monospace;\n",
       "    cursor: pointer;\n",
       "}\n",
       "\n",
       ".estimator-table details[open] {\n",
       "    padding-left: 0.1rem;\n",
       "    padding-right: 0.1rem;\n",
       "    padding-bottom: 0.3rem;\n",
       "}\n",
       "\n",
       ".estimator-table .parameters-table {\n",
       "    margin-left: auto !important;\n",
       "    margin-right: auto !important;\n",
       "}\n",
       "\n",
       ".estimator-table .parameters-table tr:nth-child(odd) {\n",
       "    background-color: #fff;\n",
       "}\n",
       "\n",
       ".estimator-table .parameters-table tr:nth-child(even) {\n",
       "    background-color: #f6f6f6;\n",
       "}\n",
       "\n",
       ".estimator-table .parameters-table tr:hover {\n",
       "    background-color: #e0e0e0;\n",
       "}\n",
       "\n",
       ".estimator-table table td {\n",
       "    border: 1px solid rgba(106, 105, 104, 0.232);\n",
       "}\n",
       "\n",
       ".user-set td {\n",
       "    color:rgb(255, 94, 0);\n",
       "    text-align: left;\n",
       "}\n",
       "\n",
       ".user-set td.value pre {\n",
       "    color:rgb(255, 94, 0) !important;\n",
       "    background-color: transparent !important;\n",
       "}\n",
       "\n",
       ".default td {\n",
       "    color: black;\n",
       "    text-align: left;\n",
       "}\n",
       "\n",
       ".user-set td i,\n",
       ".default td i {\n",
       "    color: black;\n",
       "}\n",
       "\n",
       ".copy-paste-icon {\n",
       "    background-image: url(data:image/svg+xml;base64,PHN2ZyB4bWxucz0iaHR0cDovL3d3dy53My5vcmcvMjAwMC9zdmciIHZpZXdCb3g9IjAgMCA0NDggNTEyIj48IS0tIUZvbnQgQXdlc29tZSBGcmVlIDYuNy4yIGJ5IEBmb250YXdlc29tZSAtIGh0dHBzOi8vZm9udGF3ZXNvbWUuY29tIExpY2Vuc2UgLSBodHRwczovL2ZvbnRhd2Vzb21lLmNvbS9saWNlbnNlL2ZyZWUgQ29weXJpZ2h0IDIwMjUgRm9udGljb25zLCBJbmMuLS0+PHBhdGggZD0iTTIwOCAwTDMzMi4xIDBjMTIuNyAwIDI0LjkgNS4xIDMzLjkgMTQuMWw2Ny45IDY3LjljOSA5IDE0LjEgMjEuMiAxNC4xIDMzLjlMNDQ4IDMzNmMwIDI2LjUtMjEuNSA0OC00OCA0OGwtMTkyIDBjLTI2LjUgMC00OC0yMS41LTQ4LTQ4bDAtMjg4YzAtMjYuNSAyMS41LTQ4IDQ4LTQ4ek00OCAxMjhsODAgMCAwIDY0LTY0IDAgMCAyNTYgMTkyIDAgMC0zMiA2NCAwIDAgNDhjMCAyNi41LTIxLjUgNDgtNDggNDhMNDggNTEyYy0yNi41IDAtNDgtMjEuNS00OC00OEwwIDE3NmMwLTI2LjUgMjEuNS00OCA0OC00OHoiLz48L3N2Zz4=);\n",
       "    background-repeat: no-repeat;\n",
       "    background-size: 14px 14px;\n",
       "    background-position: 0;\n",
       "    display: inline-block;\n",
       "    width: 14px;\n",
       "    height: 14px;\n",
       "    cursor: pointer;\n",
       "}\n",
       "</style><body><div id=\"sk-container-id-1\" class=\"sk-top-container\"><div class=\"sk-text-repr-fallback\"><pre>Pipeline(steps=[(&#x27;encoder&#x27;,\n",
       "                 ColumnTransformer(n_jobs=-1, remainder=&#x27;passthrough&#x27;,\n",
       "                                   transformers=[(&#x27;ohe&#x27;,\n",
       "                                                  OneHotEncoder(drop=&#x27;first&#x27;,\n",
       "                                                                sparse_output=False),\n",
       "                                                  [&#x27;Region&#x27;, &#x27;Day&#x27;])])),\n",
       "                (&#x27;lr&#x27;, LinearRegression())])</pre><b>In a Jupyter environment, please rerun this cell to show the HTML representation or trust the notebook. <br />On GitHub, the HTML representation is unable to render, please try loading this page with nbviewer.org.</b></div><div class=\"sk-container\" hidden><div class=\"sk-item sk-dashed-wrapped\"><div class=\"sk-label-container\"><div class=\"sk-label fitted sk-toggleable\"><input class=\"sk-toggleable__control sk-hidden--visually\" id=\"sk-estimator-id-1\" type=\"checkbox\" ><label for=\"sk-estimator-id-1\" class=\"sk-toggleable__label fitted sk-toggleable__label-arrow\"><div><div>Pipeline</div></div><div><a class=\"sk-estimator-doc-link fitted\" rel=\"noreferrer\" target=\"_blank\" href=\"https://scikit-learn.org/1.7/modules/generated/sklearn.pipeline.Pipeline.html\">?<span>Documentation for Pipeline</span></a><span class=\"sk-estimator-doc-link fitted\">i<span>Fitted</span></span></div></label><div class=\"sk-toggleable__content fitted\" data-param-prefix=\"\">\n",
       "        <div class=\"estimator-table\">\n",
       "            <details>\n",
       "                <summary>Parameters</summary>\n",
       "                <table class=\"parameters-table\">\n",
       "                  <tbody>\n",
       "                    \n",
       "        <tr class=\"user-set\">\n",
       "            <td><i class=\"copy-paste-icon\"\n",
       "                 onclick=\"copyToClipboard('steps',\n",
       "                          this.parentElement.nextElementSibling)\"\n",
       "            ></i></td>\n",
       "            <td class=\"param\">steps&nbsp;</td>\n",
       "            <td class=\"value\">[(&#x27;encoder&#x27;, ...), (&#x27;lr&#x27;, ...)]</td>\n",
       "        </tr>\n",
       "    \n",
       "\n",
       "        <tr class=\"default\">\n",
       "            <td><i class=\"copy-paste-icon\"\n",
       "                 onclick=\"copyToClipboard('transform_input',\n",
       "                          this.parentElement.nextElementSibling)\"\n",
       "            ></i></td>\n",
       "            <td class=\"param\">transform_input&nbsp;</td>\n",
       "            <td class=\"value\">None</td>\n",
       "        </tr>\n",
       "    \n",
       "\n",
       "        <tr class=\"default\">\n",
       "            <td><i class=\"copy-paste-icon\"\n",
       "                 onclick=\"copyToClipboard('memory',\n",
       "                          this.parentElement.nextElementSibling)\"\n",
       "            ></i></td>\n",
       "            <td class=\"param\">memory&nbsp;</td>\n",
       "            <td class=\"value\">None</td>\n",
       "        </tr>\n",
       "    \n",
       "\n",
       "        <tr class=\"default\">\n",
       "            <td><i class=\"copy-paste-icon\"\n",
       "                 onclick=\"copyToClipboard('verbose',\n",
       "                          this.parentElement.nextElementSibling)\"\n",
       "            ></i></td>\n",
       "            <td class=\"param\">verbose&nbsp;</td>\n",
       "            <td class=\"value\">False</td>\n",
       "        </tr>\n",
       "    \n",
       "                  </tbody>\n",
       "                </table>\n",
       "            </details>\n",
       "        </div>\n",
       "    </div></div></div><div class=\"sk-serial\"><div class=\"sk-item sk-dashed-wrapped\"><div class=\"sk-label-container\"><div class=\"sk-label fitted sk-toggleable\"><input class=\"sk-toggleable__control sk-hidden--visually\" id=\"sk-estimator-id-2\" type=\"checkbox\" ><label for=\"sk-estimator-id-2\" class=\"sk-toggleable__label fitted sk-toggleable__label-arrow\"><div><div>encoder: ColumnTransformer</div></div><div><a class=\"sk-estimator-doc-link fitted\" rel=\"noreferrer\" target=\"_blank\" href=\"https://scikit-learn.org/1.7/modules/generated/sklearn.compose.ColumnTransformer.html\">?<span>Documentation for encoder: ColumnTransformer</span></a></div></label><div class=\"sk-toggleable__content fitted\" data-param-prefix=\"encoder__\">\n",
       "        <div class=\"estimator-table\">\n",
       "            <details>\n",
       "                <summary>Parameters</summary>\n",
       "                <table class=\"parameters-table\">\n",
       "                  <tbody>\n",
       "                    \n",
       "        <tr class=\"user-set\">\n",
       "            <td><i class=\"copy-paste-icon\"\n",
       "                 onclick=\"copyToClipboard('transformers',\n",
       "                          this.parentElement.nextElementSibling)\"\n",
       "            ></i></td>\n",
       "            <td class=\"param\">transformers&nbsp;</td>\n",
       "            <td class=\"value\">[(&#x27;ohe&#x27;, ...)]</td>\n",
       "        </tr>\n",
       "    \n",
       "\n",
       "        <tr class=\"user-set\">\n",
       "            <td><i class=\"copy-paste-icon\"\n",
       "                 onclick=\"copyToClipboard('remainder',\n",
       "                          this.parentElement.nextElementSibling)\"\n",
       "            ></i></td>\n",
       "            <td class=\"param\">remainder&nbsp;</td>\n",
       "            <td class=\"value\">&#x27;passthrough&#x27;</td>\n",
       "        </tr>\n",
       "    \n",
       "\n",
       "        <tr class=\"default\">\n",
       "            <td><i class=\"copy-paste-icon\"\n",
       "                 onclick=\"copyToClipboard('sparse_threshold',\n",
       "                          this.parentElement.nextElementSibling)\"\n",
       "            ></i></td>\n",
       "            <td class=\"param\">sparse_threshold&nbsp;</td>\n",
       "            <td class=\"value\">0.3</td>\n",
       "        </tr>\n",
       "    \n",
       "\n",
       "        <tr class=\"user-set\">\n",
       "            <td><i class=\"copy-paste-icon\"\n",
       "                 onclick=\"copyToClipboard('n_jobs',\n",
       "                          this.parentElement.nextElementSibling)\"\n",
       "            ></i></td>\n",
       "            <td class=\"param\">n_jobs&nbsp;</td>\n",
       "            <td class=\"value\">-1</td>\n",
       "        </tr>\n",
       "    \n",
       "\n",
       "        <tr class=\"default\">\n",
       "            <td><i class=\"copy-paste-icon\"\n",
       "                 onclick=\"copyToClipboard('transformer_weights',\n",
       "                          this.parentElement.nextElementSibling)\"\n",
       "            ></i></td>\n",
       "            <td class=\"param\">transformer_weights&nbsp;</td>\n",
       "            <td class=\"value\">None</td>\n",
       "        </tr>\n",
       "    \n",
       "\n",
       "        <tr class=\"default\">\n",
       "            <td><i class=\"copy-paste-icon\"\n",
       "                 onclick=\"copyToClipboard('verbose',\n",
       "                          this.parentElement.nextElementSibling)\"\n",
       "            ></i></td>\n",
       "            <td class=\"param\">verbose&nbsp;</td>\n",
       "            <td class=\"value\">False</td>\n",
       "        </tr>\n",
       "    \n",
       "\n",
       "        <tr class=\"default\">\n",
       "            <td><i class=\"copy-paste-icon\"\n",
       "                 onclick=\"copyToClipboard('verbose_feature_names_out',\n",
       "                          this.parentElement.nextElementSibling)\"\n",
       "            ></i></td>\n",
       "            <td class=\"param\">verbose_feature_names_out&nbsp;</td>\n",
       "            <td class=\"value\">True</td>\n",
       "        </tr>\n",
       "    \n",
       "\n",
       "        <tr class=\"default\">\n",
       "            <td><i class=\"copy-paste-icon\"\n",
       "                 onclick=\"copyToClipboard('force_int_remainder_cols',\n",
       "                          this.parentElement.nextElementSibling)\"\n",
       "            ></i></td>\n",
       "            <td class=\"param\">force_int_remainder_cols&nbsp;</td>\n",
       "            <td class=\"value\">&#x27;deprecated&#x27;</td>\n",
       "        </tr>\n",
       "    \n",
       "                  </tbody>\n",
       "                </table>\n",
       "            </details>\n",
       "        </div>\n",
       "    </div></div></div><div class=\"sk-parallel\"><div class=\"sk-parallel-item\"><div class=\"sk-item\"><div class=\"sk-label-container\"><div class=\"sk-label fitted sk-toggleable\"><input class=\"sk-toggleable__control sk-hidden--visually\" id=\"sk-estimator-id-3\" type=\"checkbox\" ><label for=\"sk-estimator-id-3\" class=\"sk-toggleable__label fitted sk-toggleable__label-arrow\"><div><div>ohe</div></div></label><div class=\"sk-toggleable__content fitted\" data-param-prefix=\"encoder__ohe__\"><pre>[&#x27;Region&#x27;, &#x27;Day&#x27;]</pre></div></div></div><div class=\"sk-serial\"><div class=\"sk-item\"><div class=\"sk-estimator fitted sk-toggleable\"><input class=\"sk-toggleable__control sk-hidden--visually\" id=\"sk-estimator-id-4\" type=\"checkbox\" ><label for=\"sk-estimator-id-4\" class=\"sk-toggleable__label fitted sk-toggleable__label-arrow\"><div><div>OneHotEncoder</div></div><div><a class=\"sk-estimator-doc-link fitted\" rel=\"noreferrer\" target=\"_blank\" href=\"https://scikit-learn.org/1.7/modules/generated/sklearn.preprocessing.OneHotEncoder.html\">?<span>Documentation for OneHotEncoder</span></a></div></label><div class=\"sk-toggleable__content fitted\" data-param-prefix=\"encoder__ohe__\">\n",
       "        <div class=\"estimator-table\">\n",
       "            <details>\n",
       "                <summary>Parameters</summary>\n",
       "                <table class=\"parameters-table\">\n",
       "                  <tbody>\n",
       "                    \n",
       "        <tr class=\"default\">\n",
       "            <td><i class=\"copy-paste-icon\"\n",
       "                 onclick=\"copyToClipboard('categories',\n",
       "                          this.parentElement.nextElementSibling)\"\n",
       "            ></i></td>\n",
       "            <td class=\"param\">categories&nbsp;</td>\n",
       "            <td class=\"value\">&#x27;auto&#x27;</td>\n",
       "        </tr>\n",
       "    \n",
       "\n",
       "        <tr class=\"user-set\">\n",
       "            <td><i class=\"copy-paste-icon\"\n",
       "                 onclick=\"copyToClipboard('drop',\n",
       "                          this.parentElement.nextElementSibling)\"\n",
       "            ></i></td>\n",
       "            <td class=\"param\">drop&nbsp;</td>\n",
       "            <td class=\"value\">&#x27;first&#x27;</td>\n",
       "        </tr>\n",
       "    \n",
       "\n",
       "        <tr class=\"user-set\">\n",
       "            <td><i class=\"copy-paste-icon\"\n",
       "                 onclick=\"copyToClipboard('sparse_output',\n",
       "                          this.parentElement.nextElementSibling)\"\n",
       "            ></i></td>\n",
       "            <td class=\"param\">sparse_output&nbsp;</td>\n",
       "            <td class=\"value\">False</td>\n",
       "        </tr>\n",
       "    \n",
       "\n",
       "        <tr class=\"default\">\n",
       "            <td><i class=\"copy-paste-icon\"\n",
       "                 onclick=\"copyToClipboard('dtype',\n",
       "                          this.parentElement.nextElementSibling)\"\n",
       "            ></i></td>\n",
       "            <td class=\"param\">dtype&nbsp;</td>\n",
       "            <td class=\"value\">&lt;class &#x27;numpy.float64&#x27;&gt;</td>\n",
       "        </tr>\n",
       "    \n",
       "\n",
       "        <tr class=\"default\">\n",
       "            <td><i class=\"copy-paste-icon\"\n",
       "                 onclick=\"copyToClipboard('handle_unknown',\n",
       "                          this.parentElement.nextElementSibling)\"\n",
       "            ></i></td>\n",
       "            <td class=\"param\">handle_unknown&nbsp;</td>\n",
       "            <td class=\"value\">&#x27;error&#x27;</td>\n",
       "        </tr>\n",
       "    \n",
       "\n",
       "        <tr class=\"default\">\n",
       "            <td><i class=\"copy-paste-icon\"\n",
       "                 onclick=\"copyToClipboard('min_frequency',\n",
       "                          this.parentElement.nextElementSibling)\"\n",
       "            ></i></td>\n",
       "            <td class=\"param\">min_frequency&nbsp;</td>\n",
       "            <td class=\"value\">None</td>\n",
       "        </tr>\n",
       "    \n",
       "\n",
       "        <tr class=\"default\">\n",
       "            <td><i class=\"copy-paste-icon\"\n",
       "                 onclick=\"copyToClipboard('max_categories',\n",
       "                          this.parentElement.nextElementSibling)\"\n",
       "            ></i></td>\n",
       "            <td class=\"param\">max_categories&nbsp;</td>\n",
       "            <td class=\"value\">None</td>\n",
       "        </tr>\n",
       "    \n",
       "\n",
       "        <tr class=\"default\">\n",
       "            <td><i class=\"copy-paste-icon\"\n",
       "                 onclick=\"copyToClipboard('feature_name_combiner',\n",
       "                          this.parentElement.nextElementSibling)\"\n",
       "            ></i></td>\n",
       "            <td class=\"param\">feature_name_combiner&nbsp;</td>\n",
       "            <td class=\"value\">&#x27;concat&#x27;</td>\n",
       "        </tr>\n",
       "    \n",
       "                  </tbody>\n",
       "                </table>\n",
       "            </details>\n",
       "        </div>\n",
       "    </div></div></div></div></div></div><div class=\"sk-parallel-item\"><div class=\"sk-item\"><div class=\"sk-label-container\"><div class=\"sk-label fitted sk-toggleable\"><input class=\"sk-toggleable__control sk-hidden--visually\" id=\"sk-estimator-id-5\" type=\"checkbox\" ><label for=\"sk-estimator-id-5\" class=\"sk-toggleable__label fitted sk-toggleable__label-arrow\"><div><div>remainder</div></div></label><div class=\"sk-toggleable__content fitted\" data-param-prefix=\"encoder__remainder__\"><pre>[&#x27;Avg_pickups&#x27;, &#x27;Pickups_1&#x27;, &#x27;Pickups_2&#x27;, &#x27;Pickups_3&#x27;, &#x27;Pickups_4&#x27;]</pre></div></div></div><div class=\"sk-serial\"><div class=\"sk-item\"><div class=\"sk-estimator fitted sk-toggleable\"><input class=\"sk-toggleable__control sk-hidden--visually\" id=\"sk-estimator-id-6\" type=\"checkbox\" ><label for=\"sk-estimator-id-6\" class=\"sk-toggleable__label fitted sk-toggleable__label-arrow\"><div><div>passthrough</div></div></label><div class=\"sk-toggleable__content fitted\" data-param-prefix=\"encoder__remainder__\"><pre>passthrough</pre></div></div></div></div></div></div></div></div><div class=\"sk-item\"><div class=\"sk-estimator fitted sk-toggleable\"><input class=\"sk-toggleable__control sk-hidden--visually\" id=\"sk-estimator-id-7\" type=\"checkbox\" ><label for=\"sk-estimator-id-7\" class=\"sk-toggleable__label fitted sk-toggleable__label-arrow\"><div><div>LinearRegression</div></div><div><a class=\"sk-estimator-doc-link fitted\" rel=\"noreferrer\" target=\"_blank\" href=\"https://scikit-learn.org/1.7/modules/generated/sklearn.linear_model.LinearRegression.html\">?<span>Documentation for LinearRegression</span></a></div></label><div class=\"sk-toggleable__content fitted\" data-param-prefix=\"lr__\">\n",
       "        <div class=\"estimator-table\">\n",
       "            <details>\n",
       "                <summary>Parameters</summary>\n",
       "                <table class=\"parameters-table\">\n",
       "                  <tbody>\n",
       "                    \n",
       "        <tr class=\"default\">\n",
       "            <td><i class=\"copy-paste-icon\"\n",
       "                 onclick=\"copyToClipboard('fit_intercept',\n",
       "                          this.parentElement.nextElementSibling)\"\n",
       "            ></i></td>\n",
       "            <td class=\"param\">fit_intercept&nbsp;</td>\n",
       "            <td class=\"value\">True</td>\n",
       "        </tr>\n",
       "    \n",
       "\n",
       "        <tr class=\"default\">\n",
       "            <td><i class=\"copy-paste-icon\"\n",
       "                 onclick=\"copyToClipboard('copy_X',\n",
       "                          this.parentElement.nextElementSibling)\"\n",
       "            ></i></td>\n",
       "            <td class=\"param\">copy_X&nbsp;</td>\n",
       "            <td class=\"value\">True</td>\n",
       "        </tr>\n",
       "    \n",
       "\n",
       "        <tr class=\"default\">\n",
       "            <td><i class=\"copy-paste-icon\"\n",
       "                 onclick=\"copyToClipboard('tol',\n",
       "                          this.parentElement.nextElementSibling)\"\n",
       "            ></i></td>\n",
       "            <td class=\"param\">tol&nbsp;</td>\n",
       "            <td class=\"value\">1e-06</td>\n",
       "        </tr>\n",
       "    \n",
       "\n",
       "        <tr class=\"default\">\n",
       "            <td><i class=\"copy-paste-icon\"\n",
       "                 onclick=\"copyToClipboard('n_jobs',\n",
       "                          this.parentElement.nextElementSibling)\"\n",
       "            ></i></td>\n",
       "            <td class=\"param\">n_jobs&nbsp;</td>\n",
       "            <td class=\"value\">None</td>\n",
       "        </tr>\n",
       "    \n",
       "\n",
       "        <tr class=\"default\">\n",
       "            <td><i class=\"copy-paste-icon\"\n",
       "                 onclick=\"copyToClipboard('positive',\n",
       "                          this.parentElement.nextElementSibling)\"\n",
       "            ></i></td>\n",
       "            <td class=\"param\">positive&nbsp;</td>\n",
       "            <td class=\"value\">False</td>\n",
       "        </tr>\n",
       "    \n",
       "                  </tbody>\n",
       "                </table>\n",
       "            </details>\n",
       "        </div>\n",
       "    </div></div></div></div></div></div></div><script>function copyToClipboard(text, element) {\n",
       "    // Get the parameter prefix from the closest toggleable content\n",
       "    const toggleableContent = element.closest('.sk-toggleable__content');\n",
       "    const paramPrefix = toggleableContent ? toggleableContent.dataset.paramPrefix : '';\n",
       "    const fullParamName = paramPrefix ? `${paramPrefix}${text}` : text;\n",
       "\n",
       "    const originalStyle = element.style;\n",
       "    const computedStyle = window.getComputedStyle(element);\n",
       "    const originalWidth = computedStyle.width;\n",
       "    const originalHTML = element.innerHTML.replace('Copied!', '');\n",
       "\n",
       "    navigator.clipboard.writeText(fullParamName)\n",
       "        .then(() => {\n",
       "            element.style.width = originalWidth;\n",
       "            element.style.color = 'green';\n",
       "            element.innerHTML = \"Copied!\";\n",
       "\n",
       "            setTimeout(() => {\n",
       "                element.innerHTML = originalHTML;\n",
       "                element.style = originalStyle;\n",
       "            }, 2000);\n",
       "        })\n",
       "        .catch(err => {\n",
       "            console.error('Failed to copy:', err);\n",
       "            element.style.color = 'red';\n",
       "            element.innerHTML = \"Failed!\";\n",
       "            setTimeout(() => {\n",
       "                element.innerHTML = originalHTML;\n",
       "                element.style = originalStyle;\n",
       "            }, 2000);\n",
       "        });\n",
       "    return false;\n",
       "}\n",
       "\n",
       "document.querySelectorAll('.fa-regular.fa-copy').forEach(function(element) {\n",
       "    const toggleableContent = element.closest('.sk-toggleable__content');\n",
       "    const paramPrefix = toggleableContent ? toggleableContent.dataset.paramPrefix : '';\n",
       "    const paramName = element.parentElement.nextElementSibling.textContent.trim();\n",
       "    const fullParamName = paramPrefix ? `${paramPrefix}${paramName}` : paramName;\n",
       "\n",
       "    element.setAttribute('title', fullParamName);\n",
       "});\n",
       "</script></body>"
      ],
      "text/plain": [
       "Pipeline(steps=[('encoder',\n",
       "                 ColumnTransformer(n_jobs=-1, remainder='passthrough',\n",
       "                                   transformers=[('ohe',\n",
       "                                                  OneHotEncoder(drop='first',\n",
       "                                                                sparse_output=False),\n",
       "                                                  ['Region', 'Day'])])),\n",
       "                ('lr', LinearRegression())])"
      ]
     },
     "execution_count": 32,
     "metadata": {},
     "output_type": "execute_result"
    }
   ],
   "source": [
    "pipeline.fit(X_train,y_train)"
   ]
  },
  {
   "cell_type": "code",
   "execution_count": 33,
   "id": "70d2543a",
   "metadata": {},
   "outputs": [],
   "source": [
    "y_pred_test=pipeline.predict(X_test)\n",
    "y_pred_train=pipeline.predict(X_train)"
   ]
  },
  {
   "cell_type": "code",
   "execution_count": 34,
   "id": "e6e918c7",
   "metadata": {},
   "outputs": [],
   "source": [
    "train_error=mean_absolute_percentage_error(y_train,y_pred_train)\n",
    "test_error=mean_absolute_percentage_error(y_test,y_pred_test)"
   ]
  },
  {
   "cell_type": "code",
   "execution_count": 35,
   "id": "4078f1a7",
   "metadata": {},
   "outputs": [
    {
     "name": "stdout",
     "output_type": "stream",
     "text": [
      "Train Error : 0.10155130872260107\n",
      "Test Error : 0.0857388276235987\n"
     ]
    }
   ],
   "source": [
    "print(f\"Train Error : {train_error}\")\n",
    "print(f\"Test Error : {test_error}\")"
   ]
  },
  {
   "cell_type": "markdown",
   "id": "37f43673",
   "metadata": {},
   "source": [
    "# BaseLine Model is Build With error : 8%"
   ]
  },
  {
   "cell_type": "markdown",
   "id": "89262576",
   "metadata": {},
   "source": [
    "# Model Selection"
   ]
  },
  {
   "cell_type": "code",
   "execution_count": 29,
   "id": "b08b82f6",
   "metadata": {},
   "outputs": [],
   "source": [
    "from sklearn.linear_model import LinearRegression,Ridge,Lasso\n",
    "import mlflow\n",
    "from sklearn.svm import SVR\n",
    "from sklearn.ensemble import RandomForestRegressor,GradientBoostingRegressor\n",
    "from xgboost import XGBRegressor"
   ]
  },
  {
   "cell_type": "code",
   "execution_count": 30,
   "id": "1570bec4",
   "metadata": {},
   "outputs": [
    {
     "data": {
      "text/html": [
       "<pre style=\"white-space:pre;overflow-x:auto;line-height:normal;font-family:Menlo,'DejaVu Sans Mono',consolas,'Courier New',monospace\">Accessing as satyajitsamal198076\n",
       "</pre>\n"
      ],
      "text/plain": [
       "Accessing as satyajitsamal198076\n"
      ]
     },
     "metadata": {},
     "output_type": "display_data"
    },
    {
     "data": {
      "text/html": [
       "<pre style=\"white-space:pre;overflow-x:auto;line-height:normal;font-family:Menlo,'DejaVu Sans Mono',consolas,'Courier New',monospace\">Initialized MLflow to track repo <span style=\"color: #008000; text-decoration-color: #008000\">\"satyajitsamal198076/Uber_Demand_Prediction2\"</span>\n",
       "</pre>\n"
      ],
      "text/plain": [
       "Initialized MLflow to track repo \u001b[32m\"satyajitsamal198076/Uber_Demand_Prediction2\"\u001b[0m\n"
      ]
     },
     "metadata": {},
     "output_type": "display_data"
    },
    {
     "data": {
      "text/html": [
       "<pre style=\"white-space:pre;overflow-x:auto;line-height:normal;font-family:Menlo,'DejaVu Sans Mono',consolas,'Courier New',monospace\">Repository satyajitsamal198076/Uber_Demand_Prediction2 initialized!\n",
       "</pre>\n"
      ],
      "text/plain": [
       "Repository satyajitsamal198076/Uber_Demand_Prediction2 initialized!\n"
      ]
     },
     "metadata": {},
     "output_type": "display_data"
    }
   ],
   "source": [
    "import dagshub\n",
    "dagshub.init(repo_owner='satyajitsamal198076', repo_name='Uber_Demand_Prediction2', mlflow=True)"
   ]
  },
  {
   "cell_type": "code",
   "execution_count": 31,
   "id": "58335a42",
   "metadata": {},
   "outputs": [],
   "source": [
    "mlflow.set_tracking_uri(\"https://dagshub.com/satyajitsamal198076/Uber_Demand_Prediction2.mlflow\")"
   ]
  },
  {
   "cell_type": "code",
   "execution_count": 32,
   "id": "cf9c98c6",
   "metadata": {},
   "outputs": [
    {
     "data": {
      "text/html": [
       "<div>\n",
       "<style scoped>\n",
       "    .dataframe tbody tr th:only-of-type {\n",
       "        vertical-align: middle;\n",
       "    }\n",
       "\n",
       "    .dataframe tbody tr th {\n",
       "        vertical-align: top;\n",
       "    }\n",
       "\n",
       "    .dataframe thead th {\n",
       "        text-align: right;\n",
       "    }\n",
       "</style>\n",
       "<table border=\"1\" class=\"dataframe\">\n",
       "  <thead>\n",
       "    <tr style=\"text-align: right;\">\n",
       "      <th></th>\n",
       "      <th>Region</th>\n",
       "      <th>Pickups</th>\n",
       "      <th>Avg_pickups</th>\n",
       "      <th>Day</th>\n",
       "      <th>Pickups_1</th>\n",
       "      <th>Pickups_2</th>\n",
       "      <th>Pickups_3</th>\n",
       "      <th>Pickups_4</th>\n",
       "    </tr>\n",
       "    <tr>\n",
       "      <th>tpep_pickup_datetime</th>\n",
       "      <th></th>\n",
       "      <th></th>\n",
       "      <th></th>\n",
       "      <th></th>\n",
       "      <th></th>\n",
       "      <th></th>\n",
       "      <th></th>\n",
       "      <th></th>\n",
       "    </tr>\n",
       "  </thead>\n",
       "  <tbody>\n",
       "    <tr>\n",
       "      <th>2016-01-01 01:00:00</th>\n",
       "      <td>0</td>\n",
       "      <td>182</td>\n",
       "      <td>158.0</td>\n",
       "      <td>4</td>\n",
       "      <td>162.0</td>\n",
       "      <td>146.0</td>\n",
       "      <td>113.0</td>\n",
       "      <td>57.0</td>\n",
       "    </tr>\n",
       "    <tr>\n",
       "      <th>2016-01-01 01:15:00</th>\n",
       "      <td>0</td>\n",
       "      <td>194</td>\n",
       "      <td>173.0</td>\n",
       "      <td>4</td>\n",
       "      <td>182.0</td>\n",
       "      <td>162.0</td>\n",
       "      <td>146.0</td>\n",
       "      <td>113.0</td>\n",
       "    </tr>\n",
       "    <tr>\n",
       "      <th>2016-01-01 01:30:00</th>\n",
       "      <td>0</td>\n",
       "      <td>188</td>\n",
       "      <td>179.0</td>\n",
       "      <td>4</td>\n",
       "      <td>194.0</td>\n",
       "      <td>182.0</td>\n",
       "      <td>162.0</td>\n",
       "      <td>146.0</td>\n",
       "    </tr>\n",
       "    <tr>\n",
       "      <th>2016-01-01 01:45:00</th>\n",
       "      <td>0</td>\n",
       "      <td>185</td>\n",
       "      <td>182.0</td>\n",
       "      <td>4</td>\n",
       "      <td>188.0</td>\n",
       "      <td>194.0</td>\n",
       "      <td>182.0</td>\n",
       "      <td>162.0</td>\n",
       "    </tr>\n",
       "    <tr>\n",
       "      <th>2016-01-01 02:00:00</th>\n",
       "      <td>0</td>\n",
       "      <td>176</td>\n",
       "      <td>179.0</td>\n",
       "      <td>4</td>\n",
       "      <td>185.0</td>\n",
       "      <td>188.0</td>\n",
       "      <td>194.0</td>\n",
       "      <td>182.0</td>\n",
       "    </tr>\n",
       "    <tr>\n",
       "      <th>...</th>\n",
       "      <td>...</td>\n",
       "      <td>...</td>\n",
       "      <td>...</td>\n",
       "      <td>...</td>\n",
       "      <td>...</td>\n",
       "      <td>...</td>\n",
       "      <td>...</td>\n",
       "      <td>...</td>\n",
       "    </tr>\n",
       "    <tr>\n",
       "      <th>2016-02-29 22:45:00</th>\n",
       "      <td>29</td>\n",
       "      <td>36</td>\n",
       "      <td>53.0</td>\n",
       "      <td>0</td>\n",
       "      <td>51.0</td>\n",
       "      <td>76.0</td>\n",
       "      <td>64.0</td>\n",
       "      <td>80.0</td>\n",
       "    </tr>\n",
       "    <tr>\n",
       "      <th>2016-02-29 23:00:00</th>\n",
       "      <td>29</td>\n",
       "      <td>45</td>\n",
       "      <td>50.0</td>\n",
       "      <td>0</td>\n",
       "      <td>36.0</td>\n",
       "      <td>51.0</td>\n",
       "      <td>76.0</td>\n",
       "      <td>64.0</td>\n",
       "    </tr>\n",
       "    <tr>\n",
       "      <th>2016-02-29 23:15:00</th>\n",
       "      <td>29</td>\n",
       "      <td>30</td>\n",
       "      <td>42.0</td>\n",
       "      <td>0</td>\n",
       "      <td>45.0</td>\n",
       "      <td>36.0</td>\n",
       "      <td>51.0</td>\n",
       "      <td>76.0</td>\n",
       "    </tr>\n",
       "    <tr>\n",
       "      <th>2016-02-29 23:30:00</th>\n",
       "      <td>29</td>\n",
       "      <td>30</td>\n",
       "      <td>37.0</td>\n",
       "      <td>0</td>\n",
       "      <td>30.0</td>\n",
       "      <td>45.0</td>\n",
       "      <td>36.0</td>\n",
       "      <td>51.0</td>\n",
       "    </tr>\n",
       "    <tr>\n",
       "      <th>2016-02-29 23:45:00</th>\n",
       "      <td>29</td>\n",
       "      <td>16</td>\n",
       "      <td>29.0</td>\n",
       "      <td>0</td>\n",
       "      <td>30.0</td>\n",
       "      <td>30.0</td>\n",
       "      <td>45.0</td>\n",
       "      <td>36.0</td>\n",
       "    </tr>\n",
       "  </tbody>\n",
       "</table>\n",
       "<p>172680 rows × 8 columns</p>\n",
       "</div>"
      ],
      "text/plain": [
       "                      Region  Pickups  Avg_pickups  Day  Pickups_1  Pickups_2  \\\n",
       "tpep_pickup_datetime                                                            \n",
       "2016-01-01 01:00:00        0      182        158.0    4      162.0      146.0   \n",
       "2016-01-01 01:15:00        0      194        173.0    4      182.0      162.0   \n",
       "2016-01-01 01:30:00        0      188        179.0    4      194.0      182.0   \n",
       "2016-01-01 01:45:00        0      185        182.0    4      188.0      194.0   \n",
       "2016-01-01 02:00:00        0      176        179.0    4      185.0      188.0   \n",
       "...                      ...      ...          ...  ...        ...        ...   \n",
       "2016-02-29 22:45:00       29       36         53.0    0       51.0       76.0   \n",
       "2016-02-29 23:00:00       29       45         50.0    0       36.0       51.0   \n",
       "2016-02-29 23:15:00       29       30         42.0    0       45.0       36.0   \n",
       "2016-02-29 23:30:00       29       30         37.0    0       30.0       45.0   \n",
       "2016-02-29 23:45:00       29       16         29.0    0       30.0       30.0   \n",
       "\n",
       "                      Pickups_3  Pickups_4  \n",
       "tpep_pickup_datetime                        \n",
       "2016-01-01 01:00:00       113.0       57.0  \n",
       "2016-01-01 01:15:00       146.0      113.0  \n",
       "2016-01-01 01:30:00       162.0      146.0  \n",
       "2016-01-01 01:45:00       182.0      162.0  \n",
       "2016-01-01 02:00:00       194.0      182.0  \n",
       "...                         ...        ...  \n",
       "2016-02-29 22:45:00        64.0       80.0  \n",
       "2016-02-29 23:00:00        76.0       64.0  \n",
       "2016-02-29 23:15:00        51.0       76.0  \n",
       "2016-02-29 23:30:00        36.0       51.0  \n",
       "2016-02-29 23:45:00        45.0       36.0  \n",
       "\n",
       "[172680 rows x 8 columns]"
      ]
     },
     "execution_count": 32,
     "metadata": {},
     "output_type": "execute_result"
    }
   ],
   "source": [
    "train"
   ]
  },
  {
   "cell_type": "code",
   "execution_count": 33,
   "id": "bc2c3c11",
   "metadata": {},
   "outputs": [
    {
     "data": {
      "text/html": [
       "<div>\n",
       "<style scoped>\n",
       "    .dataframe tbody tr th:only-of-type {\n",
       "        vertical-align: middle;\n",
       "    }\n",
       "\n",
       "    .dataframe tbody tr th {\n",
       "        vertical-align: top;\n",
       "    }\n",
       "\n",
       "    .dataframe thead th {\n",
       "        text-align: right;\n",
       "    }\n",
       "</style>\n",
       "<table border=\"1\" class=\"dataframe\">\n",
       "  <thead>\n",
       "    <tr style=\"text-align: right;\">\n",
       "      <th></th>\n",
       "      <th>Region</th>\n",
       "      <th>Avg_pickups</th>\n",
       "      <th>Day</th>\n",
       "      <th>Pickups_1</th>\n",
       "      <th>Pickups_2</th>\n",
       "      <th>Pickups_3</th>\n",
       "      <th>Pickups_4</th>\n",
       "    </tr>\n",
       "    <tr>\n",
       "      <th>tpep_pickup_datetime</th>\n",
       "      <th></th>\n",
       "      <th></th>\n",
       "      <th></th>\n",
       "      <th></th>\n",
       "      <th></th>\n",
       "      <th></th>\n",
       "      <th></th>\n",
       "    </tr>\n",
       "  </thead>\n",
       "  <tbody>\n",
       "    <tr>\n",
       "      <th>2016-01-01 01:00:00</th>\n",
       "      <td>0</td>\n",
       "      <td>158.0</td>\n",
       "      <td>4</td>\n",
       "      <td>162.0</td>\n",
       "      <td>146.0</td>\n",
       "      <td>113.0</td>\n",
       "      <td>57.0</td>\n",
       "    </tr>\n",
       "    <tr>\n",
       "      <th>2016-01-01 01:15:00</th>\n",
       "      <td>0</td>\n",
       "      <td>173.0</td>\n",
       "      <td>4</td>\n",
       "      <td>182.0</td>\n",
       "      <td>162.0</td>\n",
       "      <td>146.0</td>\n",
       "      <td>113.0</td>\n",
       "    </tr>\n",
       "    <tr>\n",
       "      <th>2016-01-01 01:30:00</th>\n",
       "      <td>0</td>\n",
       "      <td>179.0</td>\n",
       "      <td>4</td>\n",
       "      <td>194.0</td>\n",
       "      <td>182.0</td>\n",
       "      <td>162.0</td>\n",
       "      <td>146.0</td>\n",
       "    </tr>\n",
       "    <tr>\n",
       "      <th>2016-01-01 01:45:00</th>\n",
       "      <td>0</td>\n",
       "      <td>182.0</td>\n",
       "      <td>4</td>\n",
       "      <td>188.0</td>\n",
       "      <td>194.0</td>\n",
       "      <td>182.0</td>\n",
       "      <td>162.0</td>\n",
       "    </tr>\n",
       "    <tr>\n",
       "      <th>2016-01-01 02:00:00</th>\n",
       "      <td>0</td>\n",
       "      <td>179.0</td>\n",
       "      <td>4</td>\n",
       "      <td>185.0</td>\n",
       "      <td>188.0</td>\n",
       "      <td>194.0</td>\n",
       "      <td>182.0</td>\n",
       "    </tr>\n",
       "    <tr>\n",
       "      <th>...</th>\n",
       "      <td>...</td>\n",
       "      <td>...</td>\n",
       "      <td>...</td>\n",
       "      <td>...</td>\n",
       "      <td>...</td>\n",
       "      <td>...</td>\n",
       "      <td>...</td>\n",
       "    </tr>\n",
       "    <tr>\n",
       "      <th>2016-02-29 22:45:00</th>\n",
       "      <td>29</td>\n",
       "      <td>53.0</td>\n",
       "      <td>0</td>\n",
       "      <td>51.0</td>\n",
       "      <td>76.0</td>\n",
       "      <td>64.0</td>\n",
       "      <td>80.0</td>\n",
       "    </tr>\n",
       "    <tr>\n",
       "      <th>2016-02-29 23:00:00</th>\n",
       "      <td>29</td>\n",
       "      <td>50.0</td>\n",
       "      <td>0</td>\n",
       "      <td>36.0</td>\n",
       "      <td>51.0</td>\n",
       "      <td>76.0</td>\n",
       "      <td>64.0</td>\n",
       "    </tr>\n",
       "    <tr>\n",
       "      <th>2016-02-29 23:15:00</th>\n",
       "      <td>29</td>\n",
       "      <td>42.0</td>\n",
       "      <td>0</td>\n",
       "      <td>45.0</td>\n",
       "      <td>36.0</td>\n",
       "      <td>51.0</td>\n",
       "      <td>76.0</td>\n",
       "    </tr>\n",
       "    <tr>\n",
       "      <th>2016-02-29 23:30:00</th>\n",
       "      <td>29</td>\n",
       "      <td>37.0</td>\n",
       "      <td>0</td>\n",
       "      <td>30.0</td>\n",
       "      <td>45.0</td>\n",
       "      <td>36.0</td>\n",
       "      <td>51.0</td>\n",
       "    </tr>\n",
       "    <tr>\n",
       "      <th>2016-02-29 23:45:00</th>\n",
       "      <td>29</td>\n",
       "      <td>29.0</td>\n",
       "      <td>0</td>\n",
       "      <td>30.0</td>\n",
       "      <td>30.0</td>\n",
       "      <td>45.0</td>\n",
       "      <td>36.0</td>\n",
       "    </tr>\n",
       "  </tbody>\n",
       "</table>\n",
       "<p>172680 rows × 7 columns</p>\n",
       "</div>"
      ],
      "text/plain": [
       "                      Region  Avg_pickups  Day  Pickups_1  Pickups_2  \\\n",
       "tpep_pickup_datetime                                                   \n",
       "2016-01-01 01:00:00        0        158.0    4      162.0      146.0   \n",
       "2016-01-01 01:15:00        0        173.0    4      182.0      162.0   \n",
       "2016-01-01 01:30:00        0        179.0    4      194.0      182.0   \n",
       "2016-01-01 01:45:00        0        182.0    4      188.0      194.0   \n",
       "2016-01-01 02:00:00        0        179.0    4      185.0      188.0   \n",
       "...                      ...          ...  ...        ...        ...   \n",
       "2016-02-29 22:45:00       29         53.0    0       51.0       76.0   \n",
       "2016-02-29 23:00:00       29         50.0    0       36.0       51.0   \n",
       "2016-02-29 23:15:00       29         42.0    0       45.0       36.0   \n",
       "2016-02-29 23:30:00       29         37.0    0       30.0       45.0   \n",
       "2016-02-29 23:45:00       29         29.0    0       30.0       30.0   \n",
       "\n",
       "                      Pickups_3  Pickups_4  \n",
       "tpep_pickup_datetime                        \n",
       "2016-01-01 01:00:00       113.0       57.0  \n",
       "2016-01-01 01:15:00       146.0      113.0  \n",
       "2016-01-01 01:30:00       162.0      146.0  \n",
       "2016-01-01 01:45:00       182.0      162.0  \n",
       "2016-01-01 02:00:00       194.0      182.0  \n",
       "...                         ...        ...  \n",
       "2016-02-29 22:45:00        64.0       80.0  \n",
       "2016-02-29 23:00:00        76.0       64.0  \n",
       "2016-02-29 23:15:00        51.0       76.0  \n",
       "2016-02-29 23:30:00        36.0       51.0  \n",
       "2016-02-29 23:45:00        45.0       36.0  \n",
       "\n",
       "[172680 rows x 7 columns]"
      ]
     },
     "execution_count": 33,
     "metadata": {},
     "output_type": "execute_result"
    }
   ],
   "source": [
    "X_train"
   ]
  },
  {
   "cell_type": "code",
   "execution_count": 34,
   "id": "44e9b3f2",
   "metadata": {},
   "outputs": [],
   "source": [
    "X_train_encoded=encoder.fit_transform(X_train)"
   ]
  },
  {
   "cell_type": "code",
   "execution_count": 35,
   "id": "22501bc1",
   "metadata": {},
   "outputs": [],
   "source": [
    "X_test_encoded=encoder.transform(X_test)"
   ]
  },
  {
   "cell_type": "code",
   "execution_count": 36,
   "id": "fcb4e43a",
   "metadata": {},
   "outputs": [
    {
     "data": {
      "text/html": [
       "<div>\n",
       "<style scoped>\n",
       "    .dataframe tbody tr th:only-of-type {\n",
       "        vertical-align: middle;\n",
       "    }\n",
       "\n",
       "    .dataframe tbody tr th {\n",
       "        vertical-align: top;\n",
       "    }\n",
       "\n",
       "    .dataframe thead th {\n",
       "        text-align: right;\n",
       "    }\n",
       "</style>\n",
       "<table border=\"1\" class=\"dataframe\">\n",
       "  <thead>\n",
       "    <tr style=\"text-align: right;\">\n",
       "      <th></th>\n",
       "      <th>ohe__Region_1</th>\n",
       "      <th>ohe__Region_2</th>\n",
       "      <th>ohe__Region_3</th>\n",
       "      <th>ohe__Region_4</th>\n",
       "      <th>ohe__Region_5</th>\n",
       "      <th>ohe__Region_6</th>\n",
       "      <th>ohe__Region_7</th>\n",
       "      <th>ohe__Region_8</th>\n",
       "      <th>ohe__Region_9</th>\n",
       "      <th>ohe__Region_10</th>\n",
       "      <th>...</th>\n",
       "      <th>ohe__Day_2</th>\n",
       "      <th>ohe__Day_3</th>\n",
       "      <th>ohe__Day_4</th>\n",
       "      <th>ohe__Day_5</th>\n",
       "      <th>ohe__Day_6</th>\n",
       "      <th>remainder__Avg_pickups</th>\n",
       "      <th>remainder__Pickups_1</th>\n",
       "      <th>remainder__Pickups_2</th>\n",
       "      <th>remainder__Pickups_3</th>\n",
       "      <th>remainder__Pickups_4</th>\n",
       "    </tr>\n",
       "    <tr>\n",
       "      <th>tpep_pickup_datetime</th>\n",
       "      <th></th>\n",
       "      <th></th>\n",
       "      <th></th>\n",
       "      <th></th>\n",
       "      <th></th>\n",
       "      <th></th>\n",
       "      <th></th>\n",
       "      <th></th>\n",
       "      <th></th>\n",
       "      <th></th>\n",
       "      <th></th>\n",
       "      <th></th>\n",
       "      <th></th>\n",
       "      <th></th>\n",
       "      <th></th>\n",
       "      <th></th>\n",
       "      <th></th>\n",
       "      <th></th>\n",
       "      <th></th>\n",
       "      <th></th>\n",
       "      <th></th>\n",
       "    </tr>\n",
       "  </thead>\n",
       "  <tbody>\n",
       "    <tr>\n",
       "      <th>2016-01-01 01:00:00</th>\n",
       "      <td>0.0</td>\n",
       "      <td>0.0</td>\n",
       "      <td>0.0</td>\n",
       "      <td>0.0</td>\n",
       "      <td>0.0</td>\n",
       "      <td>0.0</td>\n",
       "      <td>0.0</td>\n",
       "      <td>0.0</td>\n",
       "      <td>0.0</td>\n",
       "      <td>0.0</td>\n",
       "      <td>...</td>\n",
       "      <td>0.0</td>\n",
       "      <td>0.0</td>\n",
       "      <td>1.0</td>\n",
       "      <td>0.0</td>\n",
       "      <td>0.0</td>\n",
       "      <td>158.0</td>\n",
       "      <td>162.0</td>\n",
       "      <td>146.0</td>\n",
       "      <td>113.0</td>\n",
       "      <td>57.0</td>\n",
       "    </tr>\n",
       "    <tr>\n",
       "      <th>2016-01-01 01:15:00</th>\n",
       "      <td>0.0</td>\n",
       "      <td>0.0</td>\n",
       "      <td>0.0</td>\n",
       "      <td>0.0</td>\n",
       "      <td>0.0</td>\n",
       "      <td>0.0</td>\n",
       "      <td>0.0</td>\n",
       "      <td>0.0</td>\n",
       "      <td>0.0</td>\n",
       "      <td>0.0</td>\n",
       "      <td>...</td>\n",
       "      <td>0.0</td>\n",
       "      <td>0.0</td>\n",
       "      <td>1.0</td>\n",
       "      <td>0.0</td>\n",
       "      <td>0.0</td>\n",
       "      <td>173.0</td>\n",
       "      <td>182.0</td>\n",
       "      <td>162.0</td>\n",
       "      <td>146.0</td>\n",
       "      <td>113.0</td>\n",
       "    </tr>\n",
       "    <tr>\n",
       "      <th>2016-01-01 01:30:00</th>\n",
       "      <td>0.0</td>\n",
       "      <td>0.0</td>\n",
       "      <td>0.0</td>\n",
       "      <td>0.0</td>\n",
       "      <td>0.0</td>\n",
       "      <td>0.0</td>\n",
       "      <td>0.0</td>\n",
       "      <td>0.0</td>\n",
       "      <td>0.0</td>\n",
       "      <td>0.0</td>\n",
       "      <td>...</td>\n",
       "      <td>0.0</td>\n",
       "      <td>0.0</td>\n",
       "      <td>1.0</td>\n",
       "      <td>0.0</td>\n",
       "      <td>0.0</td>\n",
       "      <td>179.0</td>\n",
       "      <td>194.0</td>\n",
       "      <td>182.0</td>\n",
       "      <td>162.0</td>\n",
       "      <td>146.0</td>\n",
       "    </tr>\n",
       "    <tr>\n",
       "      <th>2016-01-01 01:45:00</th>\n",
       "      <td>0.0</td>\n",
       "      <td>0.0</td>\n",
       "      <td>0.0</td>\n",
       "      <td>0.0</td>\n",
       "      <td>0.0</td>\n",
       "      <td>0.0</td>\n",
       "      <td>0.0</td>\n",
       "      <td>0.0</td>\n",
       "      <td>0.0</td>\n",
       "      <td>0.0</td>\n",
       "      <td>...</td>\n",
       "      <td>0.0</td>\n",
       "      <td>0.0</td>\n",
       "      <td>1.0</td>\n",
       "      <td>0.0</td>\n",
       "      <td>0.0</td>\n",
       "      <td>182.0</td>\n",
       "      <td>188.0</td>\n",
       "      <td>194.0</td>\n",
       "      <td>182.0</td>\n",
       "      <td>162.0</td>\n",
       "    </tr>\n",
       "    <tr>\n",
       "      <th>2016-01-01 02:00:00</th>\n",
       "      <td>0.0</td>\n",
       "      <td>0.0</td>\n",
       "      <td>0.0</td>\n",
       "      <td>0.0</td>\n",
       "      <td>0.0</td>\n",
       "      <td>0.0</td>\n",
       "      <td>0.0</td>\n",
       "      <td>0.0</td>\n",
       "      <td>0.0</td>\n",
       "      <td>0.0</td>\n",
       "      <td>...</td>\n",
       "      <td>0.0</td>\n",
       "      <td>0.0</td>\n",
       "      <td>1.0</td>\n",
       "      <td>0.0</td>\n",
       "      <td>0.0</td>\n",
       "      <td>179.0</td>\n",
       "      <td>185.0</td>\n",
       "      <td>188.0</td>\n",
       "      <td>194.0</td>\n",
       "      <td>182.0</td>\n",
       "    </tr>\n",
       "    <tr>\n",
       "      <th>...</th>\n",
       "      <td>...</td>\n",
       "      <td>...</td>\n",
       "      <td>...</td>\n",
       "      <td>...</td>\n",
       "      <td>...</td>\n",
       "      <td>...</td>\n",
       "      <td>...</td>\n",
       "      <td>...</td>\n",
       "      <td>...</td>\n",
       "      <td>...</td>\n",
       "      <td>...</td>\n",
       "      <td>...</td>\n",
       "      <td>...</td>\n",
       "      <td>...</td>\n",
       "      <td>...</td>\n",
       "      <td>...</td>\n",
       "      <td>...</td>\n",
       "      <td>...</td>\n",
       "      <td>...</td>\n",
       "      <td>...</td>\n",
       "      <td>...</td>\n",
       "    </tr>\n",
       "    <tr>\n",
       "      <th>2016-02-29 22:45:00</th>\n",
       "      <td>0.0</td>\n",
       "      <td>0.0</td>\n",
       "      <td>0.0</td>\n",
       "      <td>0.0</td>\n",
       "      <td>0.0</td>\n",
       "      <td>0.0</td>\n",
       "      <td>0.0</td>\n",
       "      <td>0.0</td>\n",
       "      <td>0.0</td>\n",
       "      <td>0.0</td>\n",
       "      <td>...</td>\n",
       "      <td>0.0</td>\n",
       "      <td>0.0</td>\n",
       "      <td>0.0</td>\n",
       "      <td>0.0</td>\n",
       "      <td>0.0</td>\n",
       "      <td>53.0</td>\n",
       "      <td>51.0</td>\n",
       "      <td>76.0</td>\n",
       "      <td>64.0</td>\n",
       "      <td>80.0</td>\n",
       "    </tr>\n",
       "    <tr>\n",
       "      <th>2016-02-29 23:00:00</th>\n",
       "      <td>0.0</td>\n",
       "      <td>0.0</td>\n",
       "      <td>0.0</td>\n",
       "      <td>0.0</td>\n",
       "      <td>0.0</td>\n",
       "      <td>0.0</td>\n",
       "      <td>0.0</td>\n",
       "      <td>0.0</td>\n",
       "      <td>0.0</td>\n",
       "      <td>0.0</td>\n",
       "      <td>...</td>\n",
       "      <td>0.0</td>\n",
       "      <td>0.0</td>\n",
       "      <td>0.0</td>\n",
       "      <td>0.0</td>\n",
       "      <td>0.0</td>\n",
       "      <td>50.0</td>\n",
       "      <td>36.0</td>\n",
       "      <td>51.0</td>\n",
       "      <td>76.0</td>\n",
       "      <td>64.0</td>\n",
       "    </tr>\n",
       "    <tr>\n",
       "      <th>2016-02-29 23:15:00</th>\n",
       "      <td>0.0</td>\n",
       "      <td>0.0</td>\n",
       "      <td>0.0</td>\n",
       "      <td>0.0</td>\n",
       "      <td>0.0</td>\n",
       "      <td>0.0</td>\n",
       "      <td>0.0</td>\n",
       "      <td>0.0</td>\n",
       "      <td>0.0</td>\n",
       "      <td>0.0</td>\n",
       "      <td>...</td>\n",
       "      <td>0.0</td>\n",
       "      <td>0.0</td>\n",
       "      <td>0.0</td>\n",
       "      <td>0.0</td>\n",
       "      <td>0.0</td>\n",
       "      <td>42.0</td>\n",
       "      <td>45.0</td>\n",
       "      <td>36.0</td>\n",
       "      <td>51.0</td>\n",
       "      <td>76.0</td>\n",
       "    </tr>\n",
       "    <tr>\n",
       "      <th>2016-02-29 23:30:00</th>\n",
       "      <td>0.0</td>\n",
       "      <td>0.0</td>\n",
       "      <td>0.0</td>\n",
       "      <td>0.0</td>\n",
       "      <td>0.0</td>\n",
       "      <td>0.0</td>\n",
       "      <td>0.0</td>\n",
       "      <td>0.0</td>\n",
       "      <td>0.0</td>\n",
       "      <td>0.0</td>\n",
       "      <td>...</td>\n",
       "      <td>0.0</td>\n",
       "      <td>0.0</td>\n",
       "      <td>0.0</td>\n",
       "      <td>0.0</td>\n",
       "      <td>0.0</td>\n",
       "      <td>37.0</td>\n",
       "      <td>30.0</td>\n",
       "      <td>45.0</td>\n",
       "      <td>36.0</td>\n",
       "      <td>51.0</td>\n",
       "    </tr>\n",
       "    <tr>\n",
       "      <th>2016-02-29 23:45:00</th>\n",
       "      <td>0.0</td>\n",
       "      <td>0.0</td>\n",
       "      <td>0.0</td>\n",
       "      <td>0.0</td>\n",
       "      <td>0.0</td>\n",
       "      <td>0.0</td>\n",
       "      <td>0.0</td>\n",
       "      <td>0.0</td>\n",
       "      <td>0.0</td>\n",
       "      <td>0.0</td>\n",
       "      <td>...</td>\n",
       "      <td>0.0</td>\n",
       "      <td>0.0</td>\n",
       "      <td>0.0</td>\n",
       "      <td>0.0</td>\n",
       "      <td>0.0</td>\n",
       "      <td>29.0</td>\n",
       "      <td>30.0</td>\n",
       "      <td>30.0</td>\n",
       "      <td>45.0</td>\n",
       "      <td>36.0</td>\n",
       "    </tr>\n",
       "  </tbody>\n",
       "</table>\n",
       "<p>172680 rows × 40 columns</p>\n",
       "</div>"
      ],
      "text/plain": [
       "                      ohe__Region_1  ohe__Region_2  ohe__Region_3  \\\n",
       "tpep_pickup_datetime                                                \n",
       "2016-01-01 01:00:00             0.0            0.0            0.0   \n",
       "2016-01-01 01:15:00             0.0            0.0            0.0   \n",
       "2016-01-01 01:30:00             0.0            0.0            0.0   \n",
       "2016-01-01 01:45:00             0.0            0.0            0.0   \n",
       "2016-01-01 02:00:00             0.0            0.0            0.0   \n",
       "...                             ...            ...            ...   \n",
       "2016-02-29 22:45:00             0.0            0.0            0.0   \n",
       "2016-02-29 23:00:00             0.0            0.0            0.0   \n",
       "2016-02-29 23:15:00             0.0            0.0            0.0   \n",
       "2016-02-29 23:30:00             0.0            0.0            0.0   \n",
       "2016-02-29 23:45:00             0.0            0.0            0.0   \n",
       "\n",
       "                      ohe__Region_4  ohe__Region_5  ohe__Region_6  \\\n",
       "tpep_pickup_datetime                                                \n",
       "2016-01-01 01:00:00             0.0            0.0            0.0   \n",
       "2016-01-01 01:15:00             0.0            0.0            0.0   \n",
       "2016-01-01 01:30:00             0.0            0.0            0.0   \n",
       "2016-01-01 01:45:00             0.0            0.0            0.0   \n",
       "2016-01-01 02:00:00             0.0            0.0            0.0   \n",
       "...                             ...            ...            ...   \n",
       "2016-02-29 22:45:00             0.0            0.0            0.0   \n",
       "2016-02-29 23:00:00             0.0            0.0            0.0   \n",
       "2016-02-29 23:15:00             0.0            0.0            0.0   \n",
       "2016-02-29 23:30:00             0.0            0.0            0.0   \n",
       "2016-02-29 23:45:00             0.0            0.0            0.0   \n",
       "\n",
       "                      ohe__Region_7  ohe__Region_8  ohe__Region_9  \\\n",
       "tpep_pickup_datetime                                                \n",
       "2016-01-01 01:00:00             0.0            0.0            0.0   \n",
       "2016-01-01 01:15:00             0.0            0.0            0.0   \n",
       "2016-01-01 01:30:00             0.0            0.0            0.0   \n",
       "2016-01-01 01:45:00             0.0            0.0            0.0   \n",
       "2016-01-01 02:00:00             0.0            0.0            0.0   \n",
       "...                             ...            ...            ...   \n",
       "2016-02-29 22:45:00             0.0            0.0            0.0   \n",
       "2016-02-29 23:00:00             0.0            0.0            0.0   \n",
       "2016-02-29 23:15:00             0.0            0.0            0.0   \n",
       "2016-02-29 23:30:00             0.0            0.0            0.0   \n",
       "2016-02-29 23:45:00             0.0            0.0            0.0   \n",
       "\n",
       "                      ohe__Region_10  ...  ohe__Day_2  ohe__Day_3  ohe__Day_4  \\\n",
       "tpep_pickup_datetime                  ...                                       \n",
       "2016-01-01 01:00:00              0.0  ...         0.0         0.0         1.0   \n",
       "2016-01-01 01:15:00              0.0  ...         0.0         0.0         1.0   \n",
       "2016-01-01 01:30:00              0.0  ...         0.0         0.0         1.0   \n",
       "2016-01-01 01:45:00              0.0  ...         0.0         0.0         1.0   \n",
       "2016-01-01 02:00:00              0.0  ...         0.0         0.0         1.0   \n",
       "...                              ...  ...         ...         ...         ...   \n",
       "2016-02-29 22:45:00              0.0  ...         0.0         0.0         0.0   \n",
       "2016-02-29 23:00:00              0.0  ...         0.0         0.0         0.0   \n",
       "2016-02-29 23:15:00              0.0  ...         0.0         0.0         0.0   \n",
       "2016-02-29 23:30:00              0.0  ...         0.0         0.0         0.0   \n",
       "2016-02-29 23:45:00              0.0  ...         0.0         0.0         0.0   \n",
       "\n",
       "                      ohe__Day_5  ohe__Day_6  remainder__Avg_pickups  \\\n",
       "tpep_pickup_datetime                                                   \n",
       "2016-01-01 01:00:00          0.0         0.0                   158.0   \n",
       "2016-01-01 01:15:00          0.0         0.0                   173.0   \n",
       "2016-01-01 01:30:00          0.0         0.0                   179.0   \n",
       "2016-01-01 01:45:00          0.0         0.0                   182.0   \n",
       "2016-01-01 02:00:00          0.0         0.0                   179.0   \n",
       "...                          ...         ...                     ...   \n",
       "2016-02-29 22:45:00          0.0         0.0                    53.0   \n",
       "2016-02-29 23:00:00          0.0         0.0                    50.0   \n",
       "2016-02-29 23:15:00          0.0         0.0                    42.0   \n",
       "2016-02-29 23:30:00          0.0         0.0                    37.0   \n",
       "2016-02-29 23:45:00          0.0         0.0                    29.0   \n",
       "\n",
       "                      remainder__Pickups_1  remainder__Pickups_2  \\\n",
       "tpep_pickup_datetime                                               \n",
       "2016-01-01 01:00:00                  162.0                 146.0   \n",
       "2016-01-01 01:15:00                  182.0                 162.0   \n",
       "2016-01-01 01:30:00                  194.0                 182.0   \n",
       "2016-01-01 01:45:00                  188.0                 194.0   \n",
       "2016-01-01 02:00:00                  185.0                 188.0   \n",
       "...                                    ...                   ...   \n",
       "2016-02-29 22:45:00                   51.0                  76.0   \n",
       "2016-02-29 23:00:00                   36.0                  51.0   \n",
       "2016-02-29 23:15:00                   45.0                  36.0   \n",
       "2016-02-29 23:30:00                   30.0                  45.0   \n",
       "2016-02-29 23:45:00                   30.0                  30.0   \n",
       "\n",
       "                      remainder__Pickups_3  remainder__Pickups_4  \n",
       "tpep_pickup_datetime                                              \n",
       "2016-01-01 01:00:00                  113.0                  57.0  \n",
       "2016-01-01 01:15:00                  146.0                 113.0  \n",
       "2016-01-01 01:30:00                  162.0                 146.0  \n",
       "2016-01-01 01:45:00                  182.0                 162.0  \n",
       "2016-01-01 02:00:00                  194.0                 182.0  \n",
       "...                                    ...                   ...  \n",
       "2016-02-29 22:45:00                   64.0                  80.0  \n",
       "2016-02-29 23:00:00                   76.0                  64.0  \n",
       "2016-02-29 23:15:00                   51.0                  76.0  \n",
       "2016-02-29 23:30:00                   36.0                  51.0  \n",
       "2016-02-29 23:45:00                   45.0                  36.0  \n",
       "\n",
       "[172680 rows x 40 columns]"
      ]
     },
     "execution_count": 36,
     "metadata": {},
     "output_type": "execute_result"
    }
   ],
   "source": [
    "X_train_encoded"
   ]
  },
  {
   "cell_type": "code",
   "execution_count": 37,
   "id": "db7524b1",
   "metadata": {},
   "outputs": [
    {
     "name": "stderr",
     "output_type": "stream",
     "text": [
      "c:\\Users\\Satyajit Samal\\OneDrive\\Desktop\\DSMP\\Ml_projects\\Uber_Demand_Prediction2\\demand\\Lib\\site-packages\\tqdm\\auto.py:21: TqdmWarning: IProgress not found. Please update jupyter and ipywidgets. See https://ipywidgets.readthedocs.io/en/stable/user_install.html\n",
      "  from .autonotebook import tqdm as notebook_tqdm\n"
     ]
    }
   ],
   "source": [
    "import optuna\n",
    "import tqdm"
   ]
  },
  {
   "cell_type": "markdown",
   "id": "ca8b5c4a",
   "metadata": {},
   "source": [
    "# Model Selection with Hyper parameter tuning"
   ]
  },
  {
   "cell_type": "code",
   "execution_count": 38,
   "id": "aaa68793",
   "metadata": {},
   "outputs": [
    {
     "data": {
      "text/plain": [
       "<Experiment: artifact_location='mlflow-artifacts:/2dadbce41cbf4a0992b6bd19805ac5e8', creation_time=1754242154792, experiment_id='0', last_update_time=1754242154792, lifecycle_stage='active', name='Model_Selection', tags={}>"
      ]
     },
     "execution_count": 38,
     "metadata": {},
     "output_type": "execute_result"
    }
   ],
   "source": [
    "mlflow.set_experiment(\"Model_Selection\")"
   ]
  },
  {
   "cell_type": "code",
   "execution_count": 57,
   "id": "64f6bbe2",
   "metadata": {},
   "outputs": [],
   "source": [
    "def objective(trials):\n",
    "    \n",
    "    \n",
    "    list_model=[\"LR\",\"RID\",\"RF\",\"GBR\",\"XGBR\"]\n",
    "    model_name=trials.suggest_categorical(\"model_name\",list_model)\n",
    "    with mlflow.start_run(run_name=model_name,nested=True) as child:\n",
    "        \n",
    "        if model_name == \"LR\":\n",
    "            model=LinearRegression()\n",
    "        elif model_name == \"RID\":\n",
    "            model=Ridge()\n",
    "            \n",
    "        elif model_name == \"RF\":\n",
    "            n_estimators_rf=trials.suggest_int(\"n_estimators_rf\",10,100,step=10)\n",
    "            max_depth_rf=trials.suggest_int(\"max_depth_rf\",3,15)\n",
    "            model=RandomForestRegressor(n_estimators=n_estimators_rf,max_depth=max_depth_rf,n_jobs=-1,random_state=42)\n",
    "            \n",
    "        elif model_name == \"GBR\":\n",
    "            n_estimators_gbr=trials.suggest_int(\"n_estimaoters_gbr\",10,100,step=10)\n",
    "            learning_rate_gbr=trials.suggest_float(\"learning_rate_gbr\",1e-4,1e-1,log=True)\n",
    "            model = GradientBoostingRegressor(n_estimators=n_estimators_gbr, \n",
    "                                              learning_rate=learning_rate_gbr,\n",
    "                                             random_state=42)\n",
    "            \n",
    "            \n",
    "        elif model_name == \"XGBR\":\n",
    "            n_estimators_xgb=trials.suggest_int(\"n_estimators_xgb\",10,100,step=10)\n",
    "            max_depth_xgb=trials.suggest_int(\"max_depth_xgb\",3,15)\n",
    "            learning_rate_xgb = trials.suggest_float(\"learning_rate_xgb\",1e-4,1e-1, log=True)\n",
    "            model= XGBRegressor(n_estimators=n_estimators_xgb,max_depth=max_depth_xgb,n_jobs=-1,learning_rate=learning_rate_xgb,random_state=42)\n",
    "            \n",
    "        #print(model)\n",
    "        #print(model_name)\n",
    "        mlflow.log_param(\"model_name\",model_name)\n",
    "        \n",
    "        mlflow.log_params(model.get_params())\n",
    "        \n",
    "        model.fit(X_train_encoded,y_train)\n",
    "        y_pred=model.predict(X_test_encoded)\n",
    "        mape=mean_absolute_percentage_error(y_test,y_pred)\n",
    "        mlflow.log_metric(\"MAPE\",mape)\n",
    "        \n",
    "        return mape\n",
    "    \n",
    "    \n",
    "        #print(model.get_params())\n",
    "        #print(model.get_params()['max_depth'])\n",
    "        #print(model.get_params()['n_estimators'])\n",
    "            "
   ]
  },
  {
   "cell_type": "markdown",
   "id": "994f1b60",
   "metadata": {},
   "source": []
  },
  {
   "cell_type": "code",
   "execution_count": 58,
   "id": "dc6acb79",
   "metadata": {},
   "outputs": [
    {
     "name": "stderr",
     "output_type": "stream",
     "text": [
      "[I 2025-08-04 00:41:28,168] A new study created in memory with name: Model_selection\n"
     ]
    },
    {
     "name": "stdout",
     "output_type": "stream",
     "text": [
      "🏃 View run RID at: https://dagshub.com/satyajitsamal198076/Uber_Demand_Prediction2.mlflow/#/experiments/0/runs/9956c47c4ea7403fbfd3a197883b769f\n",
      "🧪 View experiment at: https://dagshub.com/satyajitsamal198076/Uber_Demand_Prediction2.mlflow/#/experiments/0\n",
      "🏃 View run RF at: https://dagshub.com/satyajitsamal198076/Uber_Demand_Prediction2.mlflow/#/experiments/0/runs/1d64240c181343c3955ea5686cd6e983\n",
      "🧪 View experiment at: https://dagshub.com/satyajitsamal198076/Uber_Demand_Prediction2.mlflow/#/experiments/0\n",
      "🏃 View run RID at: https://dagshub.com/satyajitsamal198076/Uber_Demand_Prediction2.mlflow/#/experiments/0/runs/7d2861e2344b46cf9d015e8d257e7207\n",
      "🧪 View experiment at: https://dagshub.com/satyajitsamal198076/Uber_Demand_Prediction2.mlflow/#/experiments/0\n",
      "🏃 View run XGBR at: https://dagshub.com/satyajitsamal198076/Uber_Demand_Prediction2.mlflow/#/experiments/0/runs/c834bb254be44f07ada56b7aff8d2831\n",
      "🧪 View experiment at: https://dagshub.com/satyajitsamal198076/Uber_Demand_Prediction2.mlflow/#/experiments/0\n"
     ]
    },
    {
     "name": "stderr",
     "output_type": "stream",
     "text": [
      "[I 2025-08-04 00:42:36,163] Trial 4 finished with value: 0.08573493399268582 and parameters: {'model_name': 'RID'}. Best is trial 4 with value: 0.08573493399268582.\n"
     ]
    },
    {
     "name": "stdout",
     "output_type": "stream",
     "text": [
      "🏃 View run XGBR at: https://dagshub.com/satyajitsamal198076/Uber_Demand_Prediction2.mlflow/#/experiments/0/runs/8a3b450733ea4bbfafed338ec1cf3b40\n",
      "🧪 View experiment at: https://dagshub.com/satyajitsamal198076/Uber_Demand_Prediction2.mlflow/#/experiments/0\n",
      "🏃 View run LR at: https://dagshub.com/satyajitsamal198076/Uber_Demand_Prediction2.mlflow/#/experiments/0/runs/303fbcf61cb94f9faf643c6106fef5fb\n",
      "🧪 View experiment at: https://dagshub.com/satyajitsamal198076/Uber_Demand_Prediction2.mlflow/#/experiments/0\n"
     ]
    },
    {
     "name": "stderr",
     "output_type": "stream",
     "text": [
      "[I 2025-08-04 00:42:41,188] Trial 6 finished with value: 0.08573493399268582 and parameters: {'model_name': 'RID'}. Best is trial 4 with value: 0.08573493399268582.\n"
     ]
    },
    {
     "name": "stdout",
     "output_type": "stream",
     "text": [
      "🏃 View run RF at: https://dagshub.com/satyajitsamal198076/Uber_Demand_Prediction2.mlflow/#/experiments/0/runs/246bdd81d10a47a2ba5c8f3d38b8425a\n",
      "🧪 View experiment at: https://dagshub.com/satyajitsamal198076/Uber_Demand_Prediction2.mlflow/#/experiments/0\n",
      "🏃 View run LR at: https://dagshub.com/satyajitsamal198076/Uber_Demand_Prediction2.mlflow/#/experiments/0/runs/280d42a78f004171b2e5d012d19f59d1\n",
      "🧪 View experiment at: https://dagshub.com/satyajitsamal198076/Uber_Demand_Prediction2.mlflow/#/experiments/0\n"
     ]
    },
    {
     "name": "stderr",
     "output_type": "stream",
     "text": [
      "[I 2025-08-04 00:42:47,151] Trial 15 finished with value: 3.775540351867676 and parameters: {'model_name': 'XGBR', 'n_estimators_xgb': 60, 'max_depth_xgb': 8, 'learning_rate_xgb': 0.001071883224389509}. Best is trial 4 with value: 0.08573493399268582.\n",
      "[I 2025-08-04 00:42:49,174] Trial 8 finished with value: 0.0857388276235987 and parameters: {'model_name': 'LR'}. Best is trial 4 with value: 0.08573493399268582.\n",
      "[I 2025-08-04 00:42:54,151] Trial 13 finished with value: 0.30180460627044786 and parameters: {'model_name': 'RF', 'n_estimators_rf': 20, 'max_depth_rf': 4}. Best is trial 4 with value: 0.08573493399268582.\n",
      "[I 2025-08-04 00:42:55,172] Trial 5 finished with value: 0.0857388276235987 and parameters: {'model_name': 'LR'}. Best is trial 4 with value: 0.08573493399268582.\n"
     ]
    },
    {
     "name": "stdout",
     "output_type": "stream",
     "text": [
      "🏃 View run XGBR at: https://dagshub.com/satyajitsamal198076/Uber_Demand_Prediction2.mlflow/#/experiments/0/runs/5677d00123c4407390e94e4f73b5624d\n",
      "🧪 View experiment at: https://dagshub.com/satyajitsamal198076/Uber_Demand_Prediction2.mlflow/#/experiments/0\n",
      "🏃 View run LR at: https://dagshub.com/satyajitsamal198076/Uber_Demand_Prediction2.mlflow/#/experiments/0/runs/4d5ef92194d64296be246bef5701f786\n",
      "🧪 View experiment at: https://dagshub.com/satyajitsamal198076/Uber_Demand_Prediction2.mlflow/#/experiments/0\n"
     ]
    },
    {
     "name": "stderr",
     "output_type": "stream",
     "text": [
      "[I 2025-08-04 00:43:06,162] Trial 2 finished with value: 3.5890040397644043 and parameters: {'model_name': 'XGBR', 'n_estimators_xgb': 40, 'max_depth_xgb': 7, 'learning_rate_xgb': 0.0029032725449843386}. Best is trial 4 with value: 0.08573493399268582.\n"
     ]
    },
    {
     "name": "stdout",
     "output_type": "stream",
     "text": [
      "🏃 View run GBR at: https://dagshub.com/satyajitsamal198076/Uber_Demand_Prediction2.mlflow/#/experiments/0/runs/341f2b3e67324b358b8b2c2c52249c4c\n",
      "🧪 View experiment at: https://dagshub.com/satyajitsamal198076/Uber_Demand_Prediction2.mlflow/#/experiments/0\n"
     ]
    },
    {
     "name": "stderr",
     "output_type": "stream",
     "text": [
      "[I 2025-08-04 00:43:09,173] Trial 3 finished with value: 0.15411916759908142 and parameters: {'model_name': 'RF', 'n_estimators_rf': 30, 'max_depth_rf': 8}. Best is trial 4 with value: 0.08573493399268582.\n",
      "[I 2025-08-04 00:43:11,160] Trial 0 finished with value: 0.0857388276235987 and parameters: {'model_name': 'LR'}. Best is trial 4 with value: 0.08573493399268582.\n",
      "[I 2025-08-04 00:43:14,165] Trial 9 finished with value: 3.962165355682373 and parameters: {'model_name': 'XGBR', 'n_estimators_xgb': 60, 'max_depth_xgb': 14, 'learning_rate_xgb': 0.0002525454546762421}. Best is trial 4 with value: 0.08573493399268582.\n",
      "[I 2025-08-04 00:43:18,158] Trial 10 finished with value: 0.8076918269048498 and parameters: {'model_name': 'GBR', 'n_estimaoters_gbr': 90, 'learning_rate_gbr': 0.02066894236107968}. Best is trial 4 with value: 0.08573493399268582.\n"
     ]
    },
    {
     "name": "stdout",
     "output_type": "stream",
     "text": [
      "🏃 View run RID at: https://dagshub.com/satyajitsamal198076/Uber_Demand_Prediction2.mlflow/#/experiments/0/runs/f06e5a49cd5b478695c189a93b8d26df\n",
      "🧪 View experiment at: https://dagshub.com/satyajitsamal198076/Uber_Demand_Prediction2.mlflow/#/experiments/0\n",
      "🏃 View run XGBR at: https://dagshub.com/satyajitsamal198076/Uber_Demand_Prediction2.mlflow/#/experiments/0/runs/0160f43c1f29405481e943d1f8ee7d00\n",
      "🧪 View experiment at: https://dagshub.com/satyajitsamal198076/Uber_Demand_Prediction2.mlflow/#/experiments/0\n"
     ]
    },
    {
     "name": "stderr",
     "output_type": "stream",
     "text": [
      "[I 2025-08-04 00:43:45,523] Trial 14 finished with value: 0.08573493399268582 and parameters: {'model_name': 'RID'}. Best is trial 4 with value: 0.08573493399268582.\n",
      "[I 2025-08-04 00:43:46,158] Trial 11 finished with value: 4.0072245597839355 and parameters: {'model_name': 'XGBR', 'n_estimators_xgb': 30, 'max_depth_xgb': 3, 'learning_rate_xgb': 0.00012828034437283685}. Best is trial 4 with value: 0.08573493399268582.\n"
     ]
    },
    {
     "name": "stdout",
     "output_type": "stream",
     "text": [
      "🏃 View run GBR at: https://dagshub.com/satyajitsamal198076/Uber_Demand_Prediction2.mlflow/#/experiments/0/runs/debf7d18eeca4a958eae773132c61314\n",
      "🧪 View experiment at: https://dagshub.com/satyajitsamal198076/Uber_Demand_Prediction2.mlflow/#/experiments/0\n"
     ]
    },
    {
     "name": "stderr",
     "output_type": "stream",
     "text": [
      "[I 2025-08-04 00:44:02,178] Trial 1 finished with value: 3.3776492311735495 and parameters: {'model_name': 'GBR', 'n_estimaoters_gbr': 20, 'learning_rate_gbr': 0.009395506865963483}. Best is trial 4 with value: 0.08573493399268582.\n"
     ]
    },
    {
     "name": "stdout",
     "output_type": "stream",
     "text": [
      "🏃 View run XGBR at: https://dagshub.com/satyajitsamal198076/Uber_Demand_Prediction2.mlflow/#/experiments/0/runs/3822fe5bb79f4b5797528b87c0a4104c\n",
      "🧪 View experiment at: https://dagshub.com/satyajitsamal198076/Uber_Demand_Prediction2.mlflow/#/experiments/0\n"
     ]
    },
    {
     "name": "stderr",
     "output_type": "stream",
     "text": [
      "[I 2025-08-04 00:44:14,365] Trial 17 finished with value: 0.0979708731174469 and parameters: {'model_name': 'XGBR', 'n_estimators_xgb': 60, 'max_depth_xgb': 14, 'learning_rate_xgb': 0.08172479690953563}. Best is trial 4 with value: 0.08573493399268582.\n"
     ]
    },
    {
     "name": "stdout",
     "output_type": "stream",
     "text": [
      "🏃 View run LR at: https://dagshub.com/satyajitsamal198076/Uber_Demand_Prediction2.mlflow/#/experiments/0/runs/069c69c1aca846bb8d326680f6e486f3\n",
      "🧪 View experiment at: https://dagshub.com/satyajitsamal198076/Uber_Demand_Prediction2.mlflow/#/experiments/0\n",
      "🏃 View run GBR at: https://dagshub.com/satyajitsamal198076/Uber_Demand_Prediction2.mlflow/#/experiments/0/runs/28da4bcf42da4688a610e2117973992f\n",
      "🧪 View experiment at: https://dagshub.com/satyajitsamal198076/Uber_Demand_Prediction2.mlflow/#/experiments/0\n",
      "🏃 View run LR at: https://dagshub.com/satyajitsamal198076/Uber_Demand_Prediction2.mlflow/#/experiments/0/runs/d9ccba71688a4557874355ff0ed849b9\n",
      "🧪 View experiment at: https://dagshub.com/satyajitsamal198076/Uber_Demand_Prediction2.mlflow/#/experiments/0\n"
     ]
    },
    {
     "name": "stderr",
     "output_type": "stream",
     "text": [
      "[I 2025-08-04 00:44:29,168] Trial 23 finished with value: 0.0857388276235987 and parameters: {'model_name': 'LR'}. Best is trial 4 with value: 0.08573493399268582.\n"
     ]
    },
    {
     "name": "stdout",
     "output_type": "stream",
     "text": [
      "🏃 View run RID at: https://dagshub.com/satyajitsamal198076/Uber_Demand_Prediction2.mlflow/#/experiments/0/runs/d161585cd9184d289afe4a097a89b889\n",
      "🧪 View experiment at: https://dagshub.com/satyajitsamal198076/Uber_Demand_Prediction2.mlflow/#/experiments/0\n",
      "🏃 View run RID at: https://dagshub.com/satyajitsamal198076/Uber_Demand_Prediction2.mlflow/#/experiments/0/runs/3eb7084097374812802c5d9895469efd\n",
      "🧪 View experiment at: https://dagshub.com/satyajitsamal198076/Uber_Demand_Prediction2.mlflow/#/experiments/0\n"
     ]
    },
    {
     "name": "stderr",
     "output_type": "stream",
     "text": [
      "[I 2025-08-04 00:44:32,191] Trial 16 finished with value: 3.967644335938555 and parameters: {'model_name': 'GBR', 'n_estimaoters_gbr': 50, 'learning_rate_gbr': 0.00029010732287983626}. Best is trial 4 with value: 0.08573493399268582.\n"
     ]
    },
    {
     "name": "stdout",
     "output_type": "stream",
     "text": [
      "🏃 View run LR at: https://dagshub.com/satyajitsamal198076/Uber_Demand_Prediction2.mlflow/#/experiments/0/runs/7168e717baa6498fbaff460b096e03b8\n",
      "🧪 View experiment at: https://dagshub.com/satyajitsamal198076/Uber_Demand_Prediction2.mlflow/#/experiments/0\n",
      "🏃 View run RID at: https://dagshub.com/satyajitsamal198076/Uber_Demand_Prediction2.mlflow/#/experiments/0/runs/2a9135e26d76487fab3ff66a968eeab1\n",
      "🧪 View experiment at: https://dagshub.com/satyajitsamal198076/Uber_Demand_Prediction2.mlflow/#/experiments/0\n"
     ]
    },
    {
     "name": "stderr",
     "output_type": "stream",
     "text": [
      "[I 2025-08-04 00:44:40,179] Trial 22 finished with value: 0.08573493399268582 and parameters: {'model_name': 'RID'}. Best is trial 4 with value: 0.08573493399268582.\n",
      "[I 2025-08-04 00:44:41,154] Trial 26 finished with value: 0.08573493399268582 and parameters: {'model_name': 'RID'}. Best is trial 4 with value: 0.08573493399268582.\n",
      "[I 2025-08-04 00:44:43,187] Trial 20 finished with value: 0.0857388276235987 and parameters: {'model_name': 'LR'}. Best is trial 4 with value: 0.08573493399268582.\n",
      "[I 2025-08-04 00:44:45,540] Trial 19 finished with value: 0.08573493399268582 and parameters: {'model_name': 'RID'}. Best is trial 4 with value: 0.08573493399268582.\n",
      "[I 2025-08-04 00:44:48,162] Trial 18 finished with value: 0.0857388276235987 and parameters: {'model_name': 'LR'}. Best is trial 4 with value: 0.08573493399268582.\n"
     ]
    },
    {
     "name": "stdout",
     "output_type": "stream",
     "text": [
      "🏃 View run RID at: https://dagshub.com/satyajitsamal198076/Uber_Demand_Prediction2.mlflow/#/experiments/0/runs/f22e41509c574f31a0cfe27224d799a1\n",
      "🧪 View experiment at: https://dagshub.com/satyajitsamal198076/Uber_Demand_Prediction2.mlflow/#/experiments/0\n"
     ]
    },
    {
     "name": "stderr",
     "output_type": "stream",
     "text": [
      "[I 2025-08-04 00:45:07,163] Trial 27 finished with value: 0.08573493399268582 and parameters: {'model_name': 'RID'}. Best is trial 4 with value: 0.08573493399268582.\n"
     ]
    },
    {
     "name": "stdout",
     "output_type": "stream",
     "text": [
      "🏃 View run RID at: https://dagshub.com/satyajitsamal198076/Uber_Demand_Prediction2.mlflow/#/experiments/0/runs/d86c2a22b6074622af40e248f1016b21\n",
      "🧪 View experiment at: https://dagshub.com/satyajitsamal198076/Uber_Demand_Prediction2.mlflow/#/experiments/0\n",
      "🏃 View run RID at: https://dagshub.com/satyajitsamal198076/Uber_Demand_Prediction2.mlflow/#/experiments/0/runs/cca445e1fb5f41b7a1c388196fd6c7d2\n",
      "🧪 View experiment at: https://dagshub.com/satyajitsamal198076/Uber_Demand_Prediction2.mlflow/#/experiments/0\n"
     ]
    },
    {
     "name": "stderr",
     "output_type": "stream",
     "text": [
      "[I 2025-08-04 00:45:34,185] Trial 30 finished with value: 0.08573493399268582 and parameters: {'model_name': 'RID'}. Best is trial 4 with value: 0.08573493399268582.\n",
      "[I 2025-08-04 00:45:36,156] Trial 29 finished with value: 0.08573493399268582 and parameters: {'model_name': 'RID'}. Best is trial 4 with value: 0.08573493399268582.\n"
     ]
    },
    {
     "name": "stdout",
     "output_type": "stream",
     "text": [
      "🏃 View run RID at: https://dagshub.com/satyajitsamal198076/Uber_Demand_Prediction2.mlflow/#/experiments/0/runs/4e925ef90b534ec7a9a0f49ce588f4e1\n",
      "🧪 View experiment at: https://dagshub.com/satyajitsamal198076/Uber_Demand_Prediction2.mlflow/#/experiments/0\n",
      "🏃 View run LR at: https://dagshub.com/satyajitsamal198076/Uber_Demand_Prediction2.mlflow/#/experiments/0/runs/a540c074b20a4771b07eb1b90bbf39e1\n",
      "🧪 View experiment at: https://dagshub.com/satyajitsamal198076/Uber_Demand_Prediction2.mlflow/#/experiments/0\n"
     ]
    },
    {
     "name": "stderr",
     "output_type": "stream",
     "text": [
      "[I 2025-08-04 00:45:49,166] Trial 31 finished with value: 0.08573493399268582 and parameters: {'model_name': 'RID'}. Best is trial 4 with value: 0.08573493399268582.\n"
     ]
    },
    {
     "name": "stdout",
     "output_type": "stream",
     "text": [
      "🏃 View run RID at: https://dagshub.com/satyajitsamal198076/Uber_Demand_Prediction2.mlflow/#/experiments/0/runs/1c0b57efb0244a2c95dce78c166f8727\n",
      "🧪 View experiment at: https://dagshub.com/satyajitsamal198076/Uber_Demand_Prediction2.mlflow/#/experiments/0\n",
      "🏃 View run RID at: https://dagshub.com/satyajitsamal198076/Uber_Demand_Prediction2.mlflow/#/experiments/0/runs/62e907cb3f06494c94bdb777e81dc19c\n",
      "🧪 View experiment at: https://dagshub.com/satyajitsamal198076/Uber_Demand_Prediction2.mlflow/#/experiments/0\n",
      "🏃 View run RID at: https://dagshub.com/satyajitsamal198076/Uber_Demand_Prediction2.mlflow/#/experiments/0/runs/0ab9971e933b4d7689a19efacbade464\n",
      "🧪 View experiment at: https://dagshub.com/satyajitsamal198076/Uber_Demand_Prediction2.mlflow/#/experiments/0\n"
     ]
    },
    {
     "name": "stderr",
     "output_type": "stream",
     "text": [
      "[W 2025-08-04 00:45:58,150] Trial 12 failed with parameters: {'model_name': 'LR'} because of the following error: MlflowException(\"API request to https://dagshub.com/satyajitsamal198076/Uber_Demand_Prediction2.mlflow/api/2.0/mlflow/runs/log-parameter failed with exception HTTPSConnectionPool(host='dagshub.com', port=443): Max retries exceeded with url: /satyajitsamal198076/Uber_Demand_Prediction2.mlflow/api/2.0/mlflow/runs/log-parameter (Caused by ResponseError('too many 429 error responses'))\").\n",
      "urllib3.exceptions.ResponseError: too many 429 error responses\n",
      "\n",
      "The above exception was the direct cause of the following exception:\n",
      "\n",
      "Traceback (most recent call last):\n",
      "  File \"c:\\Users\\Satyajit Samal\\OneDrive\\Desktop\\DSMP\\Ml_projects\\Uber_Demand_Prediction2\\demand\\Lib\\site-packages\\requests\\adapters.py\", line 667, in send\n",
      "    resp = conn.urlopen(\n",
      "           ^^^^^^^^^^^^^\n",
      "  File \"c:\\Users\\Satyajit Samal\\OneDrive\\Desktop\\DSMP\\Ml_projects\\Uber_Demand_Prediction2\\demand\\Lib\\site-packages\\urllib3\\connectionpool.py\", line 942, in urlopen\n",
      "    return self.urlopen(\n",
      "           ^^^^^^^^^^^^^\n",
      "  File \"c:\\Users\\Satyajit Samal\\OneDrive\\Desktop\\DSMP\\Ml_projects\\Uber_Demand_Prediction2\\demand\\Lib\\site-packages\\urllib3\\connectionpool.py\", line 942, in urlopen\n",
      "    return self.urlopen(\n",
      "           ^^^^^^^^^^^^^\n",
      "  File \"c:\\Users\\Satyajit Samal\\OneDrive\\Desktop\\DSMP\\Ml_projects\\Uber_Demand_Prediction2\\demand\\Lib\\site-packages\\urllib3\\connectionpool.py\", line 942, in urlopen\n",
      "    return self.urlopen(\n",
      "           ^^^^^^^^^^^^^\n",
      "  [Previous line repeated 4 more times]\n",
      "  File \"c:\\Users\\Satyajit Samal\\OneDrive\\Desktop\\DSMP\\Ml_projects\\Uber_Demand_Prediction2\\demand\\Lib\\site-packages\\urllib3\\connectionpool.py\", line 932, in urlopen\n",
      "    retries = retries.increment(method, url, response=response, _pool=self)\n",
      "              ^^^^^^^^^^^^^^^^^^^^^^^^^^^^^^^^^^^^^^^^^^^^^^^^^^^^^^^^^^^^^\n",
      "  File \"c:\\Users\\Satyajit Samal\\OneDrive\\Desktop\\DSMP\\Ml_projects\\Uber_Demand_Prediction2\\demand\\Lib\\site-packages\\urllib3\\util\\retry.py\", line 519, in increment\n",
      "    raise MaxRetryError(_pool, url, reason) from reason  # type: ignore[arg-type]\n",
      "    ^^^^^^^^^^^^^^^^^^^^^^^^^^^^^^^^^^^^^^^^^^^^^^^^^^^\n",
      "urllib3.exceptions.MaxRetryError: HTTPSConnectionPool(host='dagshub.com', port=443): Max retries exceeded with url: /satyajitsamal198076/Uber_Demand_Prediction2.mlflow/api/2.0/mlflow/runs/log-parameter (Caused by ResponseError('too many 429 error responses'))\n",
      "\n",
      "During handling of the above exception, another exception occurred:\n",
      "\n",
      "Traceback (most recent call last):\n",
      "  File \"c:\\Users\\Satyajit Samal\\OneDrive\\Desktop\\DSMP\\Ml_projects\\Uber_Demand_Prediction2\\demand\\Lib\\site-packages\\mlflow\\utils\\rest_utils.py\", line 230, in http_request\n",
      "    return _get_http_response_with_retries(\n",
      "           ^^^^^^^^^^^^^^^^^^^^^^^^^^^^^^^^\n",
      "  File \"c:\\Users\\Satyajit Samal\\OneDrive\\Desktop\\DSMP\\Ml_projects\\Uber_Demand_Prediction2\\demand\\Lib\\site-packages\\mlflow\\utils\\request_utils.py\", line 237, in _get_http_response_with_retries\n",
      "    return session.request(method, url, allow_redirects=allow_redirects, **kwargs)\n",
      "           ^^^^^^^^^^^^^^^^^^^^^^^^^^^^^^^^^^^^^^^^^^^^^^^^^^^^^^^^^^^^^^^^^^^^^^^\n",
      "  File \"c:\\Users\\Satyajit Samal\\OneDrive\\Desktop\\DSMP\\Ml_projects\\Uber_Demand_Prediction2\\demand\\Lib\\site-packages\\requests\\sessions.py\", line 589, in request\n",
      "    resp = self.send(prep, **send_kwargs)\n",
      "           ^^^^^^^^^^^^^^^^^^^^^^^^^^^^^^\n",
      "  File \"c:\\Users\\Satyajit Samal\\OneDrive\\Desktop\\DSMP\\Ml_projects\\Uber_Demand_Prediction2\\demand\\Lib\\site-packages\\requests\\sessions.py\", line 703, in send\n",
      "    r = adapter.send(request, **kwargs)\n",
      "        ^^^^^^^^^^^^^^^^^^^^^^^^^^^^^^^\n",
      "  File \"c:\\Users\\Satyajit Samal\\OneDrive\\Desktop\\DSMP\\Ml_projects\\Uber_Demand_Prediction2\\demand\\Lib\\site-packages\\requests\\adapters.py\", line 691, in send\n",
      "    raise RetryError(e, request=request)\n",
      "requests.exceptions.RetryError: HTTPSConnectionPool(host='dagshub.com', port=443): Max retries exceeded with url: /satyajitsamal198076/Uber_Demand_Prediction2.mlflow/api/2.0/mlflow/runs/log-parameter (Caused by ResponseError('too many 429 error responses'))\n",
      "\n",
      "During handling of the above exception, another exception occurred:\n",
      "\n",
      "Traceback (most recent call last):\n",
      "  File \"c:\\Users\\Satyajit Samal\\OneDrive\\Desktop\\DSMP\\Ml_projects\\Uber_Demand_Prediction2\\demand\\Lib\\site-packages\\optuna\\study\\_optimize.py\", line 201, in _run_trial\n",
      "    value_or_values = func(trial)\n",
      "                      ^^^^^^^^^^^\n",
      "  File \"C:\\Users\\Satyajit Samal\\AppData\\Local\\Temp\\ipykernel_29980\\3053570177.py\", line 34, in objective\n",
      "    mlflow.log_param(\"model_name\",model_name)\n",
      "  File \"c:\\Users\\Satyajit Samal\\OneDrive\\Desktop\\DSMP\\Ml_projects\\Uber_Demand_Prediction2\\demand\\Lib\\site-packages\\mlflow\\tracking\\fluent.py\", line 775, in log_param\n",
      "    return MlflowClient().log_param(run_id, key, value, synchronous=synchronous)\n",
      "           ^^^^^^^^^^^^^^^^^^^^^^^^^^^^^^^^^^^^^^^^^^^^^^^^^^^^^^^^^^^^^^^^^^^^^\n",
      "  File \"c:\\Users\\Satyajit Samal\\OneDrive\\Desktop\\DSMP\\Ml_projects\\Uber_Demand_Prediction2\\demand\\Lib\\site-packages\\mlflow\\tracking\\client.py\", line 2109, in log_param\n",
      "    self._tracking_client.log_param(run_id, key, value, synchronous=True)\n",
      "  File \"c:\\Users\\Satyajit Samal\\OneDrive\\Desktop\\DSMP\\Ml_projects\\Uber_Demand_Prediction2\\demand\\Lib\\site-packages\\mlflow\\tracking\\_tracking_service\\client.py\", line 395, in log_param\n",
      "    raise e\n",
      "  File \"c:\\Users\\Satyajit Samal\\OneDrive\\Desktop\\DSMP\\Ml_projects\\Uber_Demand_Prediction2\\demand\\Lib\\site-packages\\mlflow\\tracking\\_tracking_service\\client.py\", line 386, in log_param\n",
      "    self.store.log_param(run_id, param)\n",
      "  File \"c:\\Users\\Satyajit Samal\\OneDrive\\Desktop\\DSMP\\Ml_projects\\Uber_Demand_Prediction2\\demand\\Lib\\site-packages\\mlflow\\store\\tracking\\rest_store.py\", line 767, in log_param\n",
      "    self._call_endpoint(LogParam, req_body)\n",
      "  File \"c:\\Users\\Satyajit Samal\\OneDrive\\Desktop\\DSMP\\Ml_projects\\Uber_Demand_Prediction2\\demand\\Lib\\site-packages\\mlflow\\store\\tracking\\rest_store.py\", line 135, in _call_endpoint\n",
      "    return call_endpoint(\n",
      "           ^^^^^^^^^^^^^^\n",
      "  File \"c:\\Users\\Satyajit Samal\\OneDrive\\Desktop\\DSMP\\Ml_projects\\Uber_Demand_Prediction2\\demand\\Lib\\site-packages\\mlflow\\utils\\rest_utils.py\", line 592, in call_endpoint\n",
      "    response = http_request(**call_kwargs)\n",
      "               ^^^^^^^^^^^^^^^^^^^^^^^^^^^\n",
      "  File \"c:\\Users\\Satyajit Samal\\OneDrive\\Desktop\\DSMP\\Ml_projects\\Uber_Demand_Prediction2\\demand\\Lib\\site-packages\\mlflow\\utils\\rest_utils.py\", line 253, in http_request\n",
      "    raise MlflowException(f\"API request to {url} failed with exception {e}\")\n",
      "mlflow.exceptions.MlflowException: API request to https://dagshub.com/satyajitsamal198076/Uber_Demand_Prediction2.mlflow/api/2.0/mlflow/runs/log-parameter failed with exception HTTPSConnectionPool(host='dagshub.com', port=443): Max retries exceeded with url: /satyajitsamal198076/Uber_Demand_Prediction2.mlflow/api/2.0/mlflow/runs/log-parameter (Caused by ResponseError('too many 429 error responses'))\n",
      "[W 2025-08-04 00:45:58,182] Trial 12 failed with value None.\n",
      "[I 2025-08-04 00:46:00,155] Trial 33 finished with value: 0.08573493399268582 and parameters: {'model_name': 'RID'}. Best is trial 4 with value: 0.08573493399268582.\n",
      "[I 2025-08-04 00:46:01,154] Trial 34 finished with value: 0.08573493399268582 and parameters: {'model_name': 'RID'}. Best is trial 4 with value: 0.08573493399268582.\n"
     ]
    },
    {
     "name": "stdout",
     "output_type": "stream",
     "text": [
      "🏃 View run RID at: https://dagshub.com/satyajitsamal198076/Uber_Demand_Prediction2.mlflow/#/experiments/0/runs/ef05b7a3c57d4bec99bd45fd663c7adb\n",
      "🧪 View experiment at: https://dagshub.com/satyajitsamal198076/Uber_Demand_Prediction2.mlflow/#/experiments/0\n"
     ]
    },
    {
     "name": "stderr",
     "output_type": "stream",
     "text": [
      "[I 2025-08-04 00:46:09,170] Trial 36 finished with value: 0.08573493399268582 and parameters: {'model_name': 'RID'}. Best is trial 4 with value: 0.08573493399268582.\n"
     ]
    },
    {
     "name": "stdout",
     "output_type": "stream",
     "text": [
      "🏃 View run RID at: https://dagshub.com/satyajitsamal198076/Uber_Demand_Prediction2.mlflow/#/experiments/0/runs/2139af2f0ccf4b8fb5abcc67a0576932\n",
      "🧪 View experiment at: https://dagshub.com/satyajitsamal198076/Uber_Demand_Prediction2.mlflow/#/experiments/0\n"
     ]
    },
    {
     "name": "stderr",
     "output_type": "stream",
     "text": [
      "[I 2025-08-04 00:46:11,149] Trial 35 finished with value: 0.08573493399268582 and parameters: {'model_name': 'RID'}. Best is trial 4 with value: 0.08573493399268582.\n"
     ]
    },
    {
     "name": "stdout",
     "output_type": "stream",
     "text": [
      "🏃 View run RID at: https://dagshub.com/satyajitsamal198076/Uber_Demand_Prediction2.mlflow/#/experiments/0/runs/33dae52e5015452785af959a3879179a\n",
      "🧪 View experiment at: https://dagshub.com/satyajitsamal198076/Uber_Demand_Prediction2.mlflow/#/experiments/0\n",
      "🏃 View run RID at: https://dagshub.com/satyajitsamal198076/Uber_Demand_Prediction2.mlflow/#/experiments/0/runs/d9b41dc8314747098429fd518e24a708\n",
      "🧪 View experiment at: https://dagshub.com/satyajitsamal198076/Uber_Demand_Prediction2.mlflow/#/experiments/0\n",
      "🏃 View run RID at: https://dagshub.com/satyajitsamal198076/Uber_Demand_Prediction2.mlflow/#/experiments/0/runs/1c30b72f748e440cb1d7e84e6f6ea107\n",
      "🧪 View experiment at: https://dagshub.com/satyajitsamal198076/Uber_Demand_Prediction2.mlflow/#/experiments/0\n"
     ]
    },
    {
     "name": "stderr",
     "output_type": "stream",
     "text": [
      "[I 2025-08-04 00:46:18,159] Trial 37 finished with value: 0.08573493399268582 and parameters: {'model_name': 'RID'}. Best is trial 4 with value: 0.08573493399268582.\n",
      "[I 2025-08-04 00:46:20,162] Trial 28 finished with value: 0.08573493399268582 and parameters: {'model_name': 'RID'}. Best is trial 4 with value: 0.08573493399268582.\n",
      "[I 2025-08-04 00:46:22,153] Trial 38 finished with value: 0.08573493399268582 and parameters: {'model_name': 'RID'}. Best is trial 4 with value: 0.08573493399268582.\n",
      "[I 2025-08-04 00:46:24,172] Trial 32 finished with value: 0.08573493399268582 and parameters: {'model_name': 'RID'}. Best is trial 4 with value: 0.08573493399268582.\n"
     ]
    },
    {
     "name": "stdout",
     "output_type": "stream",
     "text": [
      "🏃 View run RID at: https://dagshub.com/satyajitsamal198076/Uber_Demand_Prediction2.mlflow/#/experiments/0/runs/a9b89b9fc5ff46988a8522e917a45747\n",
      "🧪 View experiment at: https://dagshub.com/satyajitsamal198076/Uber_Demand_Prediction2.mlflow/#/experiments/0\n",
      "🏃 View run RID at: https://dagshub.com/satyajitsamal198076/Uber_Demand_Prediction2.mlflow/#/experiments/0/runs/c8e004109ea4462b855269c112d2cd11\n",
      "🧪 View experiment at: https://dagshub.com/satyajitsamal198076/Uber_Demand_Prediction2.mlflow/#/experiments/0\n",
      "🏃 View run RID at: https://dagshub.com/satyajitsamal198076/Uber_Demand_Prediction2.mlflow/#/experiments/0/runs/6ead92ad3e734fe2a14cb07bbd736c1e\n",
      "🧪 View experiment at: https://dagshub.com/satyajitsamal198076/Uber_Demand_Prediction2.mlflow/#/experiments/0\n"
     ]
    },
    {
     "name": "stderr",
     "output_type": "stream",
     "text": [
      "[I 2025-08-04 00:46:35,149] Trial 25 finished with value: 0.08573493399268582 and parameters: {'model_name': 'RID'}. Best is trial 4 with value: 0.08573493399268582.\n",
      "[I 2025-08-04 00:46:36,155] Trial 39 finished with value: 0.08573493399268582 and parameters: {'model_name': 'RID'}. Best is trial 4 with value: 0.08573493399268582.\n",
      "[I 2025-08-04 00:46:37,165] Trial 40 finished with value: 0.08573493399268582 and parameters: {'model_name': 'RID'}. Best is trial 4 with value: 0.08573493399268582.\n"
     ]
    },
    {
     "name": "stdout",
     "output_type": "stream",
     "text": [
      "🏃 View run RID at: https://dagshub.com/satyajitsamal198076/Uber_Demand_Prediction2.mlflow/#/experiments/0/runs/02415ebad2724ed18d530bd7f0568b07\n",
      "🧪 View experiment at: https://dagshub.com/satyajitsamal198076/Uber_Demand_Prediction2.mlflow/#/experiments/0\n",
      "🏃 View run RID at: https://dagshub.com/satyajitsamal198076/Uber_Demand_Prediction2.mlflow/#/experiments/0/runs/1a83f791e5154fba866ca09ab38fb11e\n",
      "🧪 View experiment at: https://dagshub.com/satyajitsamal198076/Uber_Demand_Prediction2.mlflow/#/experiments/0\n"
     ]
    },
    {
     "name": "stderr",
     "output_type": "stream",
     "text": [
      "[I 2025-08-04 00:46:41,174] Trial 41 finished with value: 0.08573493399268582 and parameters: {'model_name': 'RID'}. Best is trial 4 with value: 0.08573493399268582.\n"
     ]
    },
    {
     "name": "stdout",
     "output_type": "stream",
     "text": [
      "🏃 View run LR at: https://dagshub.com/satyajitsamal198076/Uber_Demand_Prediction2.mlflow/#/experiments/0/runs/22c9e99c2c6f4a15b6ab45dd2cc96228\n",
      "🧪 View experiment at: https://dagshub.com/satyajitsamal198076/Uber_Demand_Prediction2.mlflow/#/experiments/0\n"
     ]
    },
    {
     "name": "stderr",
     "output_type": "stream",
     "text": [
      "[I 2025-08-04 00:46:43,166] Trial 7 finished with value: 0.08573493399268582 and parameters: {'model_name': 'RID'}. Best is trial 4 with value: 0.08573493399268582.\n",
      "[I 2025-08-04 00:46:44,169] Trial 24 finished with value: 0.0857388276235987 and parameters: {'model_name': 'LR'}. Best is trial 4 with value: 0.08573493399268582.\n"
     ]
    },
    {
     "name": "stdout",
     "output_type": "stream",
     "text": [
      "🏃 View run XGBR at: https://dagshub.com/satyajitsamal198076/Uber_Demand_Prediction2.mlflow/#/experiments/0/runs/2165a805652847c8bbcfbdcd2a2c1d60\n",
      "🧪 View experiment at: https://dagshub.com/satyajitsamal198076/Uber_Demand_Prediction2.mlflow/#/experiments/0\n"
     ]
    },
    {
     "name": "stderr",
     "output_type": "stream",
     "text": [
      "[I 2025-08-04 00:47:37,732] Trial 21 finished with value: 0.4534425437450409 and parameters: {'model_name': 'XGBR', 'n_estimators_xgb': 70, 'max_depth_xgb': 6, 'learning_rate_xgb': 0.03368561939747266}. Best is trial 4 with value: 0.08573493399268582.\n"
     ]
    },
    {
     "name": "stdout",
     "output_type": "stream",
     "text": [
      "🏃 View run best_model at: https://dagshub.com/satyajitsamal198076/Uber_Demand_Prediction2.mlflow/#/experiments/0/runs/e6ffbd7296ff460ebce35198d16c9ad4\n",
      "🧪 View experiment at: https://dagshub.com/satyajitsamal198076/Uber_Demand_Prediction2.mlflow/#/experiments/0\n"
     ]
    },
    {
     "ename": "MlflowException",
     "evalue": "API request to https://dagshub.com/satyajitsamal198076/Uber_Demand_Prediction2.mlflow/api/2.0/mlflow/runs/log-parameter failed with exception HTTPSConnectionPool(host='dagshub.com', port=443): Max retries exceeded with url: /satyajitsamal198076/Uber_Demand_Prediction2.mlflow/api/2.0/mlflow/runs/log-parameter (Caused by ResponseError('too many 429 error responses'))",
     "output_type": "error",
     "traceback": [
      "\u001b[31m---------------------------------------------------------------------------\u001b[39m",
      "\u001b[31mResponseError\u001b[39m                             Traceback (most recent call last)",
      "\u001b[31mResponseError\u001b[39m: too many 429 error responses",
      "\nThe above exception was the direct cause of the following exception:\n",
      "\u001b[31mMaxRetryError\u001b[39m                             Traceback (most recent call last)",
      "\u001b[36mFile \u001b[39m\u001b[32mc:\\Users\\Satyajit Samal\\OneDrive\\Desktop\\DSMP\\Ml_projects\\Uber_Demand_Prediction2\\demand\\Lib\\site-packages\\requests\\adapters.py:667\u001b[39m, in \u001b[36mHTTPAdapter.send\u001b[39m\u001b[34m(self, request, stream, timeout, verify, cert, proxies)\u001b[39m\n\u001b[32m    666\u001b[39m \u001b[38;5;28;01mtry\u001b[39;00m:\n\u001b[32m--> \u001b[39m\u001b[32m667\u001b[39m     resp = \u001b[43mconn\u001b[49m\u001b[43m.\u001b[49m\u001b[43murlopen\u001b[49m\u001b[43m(\u001b[49m\n\u001b[32m    668\u001b[39m \u001b[43m        \u001b[49m\u001b[43mmethod\u001b[49m\u001b[43m=\u001b[49m\u001b[43mrequest\u001b[49m\u001b[43m.\u001b[49m\u001b[43mmethod\u001b[49m\u001b[43m,\u001b[49m\n\u001b[32m    669\u001b[39m \u001b[43m        \u001b[49m\u001b[43murl\u001b[49m\u001b[43m=\u001b[49m\u001b[43murl\u001b[49m\u001b[43m,\u001b[49m\n\u001b[32m    670\u001b[39m \u001b[43m        \u001b[49m\u001b[43mbody\u001b[49m\u001b[43m=\u001b[49m\u001b[43mrequest\u001b[49m\u001b[43m.\u001b[49m\u001b[43mbody\u001b[49m\u001b[43m,\u001b[49m\n\u001b[32m    671\u001b[39m \u001b[43m        \u001b[49m\u001b[43mheaders\u001b[49m\u001b[43m=\u001b[49m\u001b[43mrequest\u001b[49m\u001b[43m.\u001b[49m\u001b[43mheaders\u001b[49m\u001b[43m,\u001b[49m\n\u001b[32m    672\u001b[39m \u001b[43m        \u001b[49m\u001b[43mredirect\u001b[49m\u001b[43m=\u001b[49m\u001b[38;5;28;43;01mFalse\u001b[39;49;00m\u001b[43m,\u001b[49m\n\u001b[32m    673\u001b[39m \u001b[43m        \u001b[49m\u001b[43massert_same_host\u001b[49m\u001b[43m=\u001b[49m\u001b[38;5;28;43;01mFalse\u001b[39;49;00m\u001b[43m,\u001b[49m\n\u001b[32m    674\u001b[39m \u001b[43m        \u001b[49m\u001b[43mpreload_content\u001b[49m\u001b[43m=\u001b[49m\u001b[38;5;28;43;01mFalse\u001b[39;49;00m\u001b[43m,\u001b[49m\n\u001b[32m    675\u001b[39m \u001b[43m        \u001b[49m\u001b[43mdecode_content\u001b[49m\u001b[43m=\u001b[49m\u001b[38;5;28;43;01mFalse\u001b[39;49;00m\u001b[43m,\u001b[49m\n\u001b[32m    676\u001b[39m \u001b[43m        \u001b[49m\u001b[43mretries\u001b[49m\u001b[43m=\u001b[49m\u001b[38;5;28;43mself\u001b[39;49m\u001b[43m.\u001b[49m\u001b[43mmax_retries\u001b[49m\u001b[43m,\u001b[49m\n\u001b[32m    677\u001b[39m \u001b[43m        \u001b[49m\u001b[43mtimeout\u001b[49m\u001b[43m=\u001b[49m\u001b[43mtimeout\u001b[49m\u001b[43m,\u001b[49m\n\u001b[32m    678\u001b[39m \u001b[43m        \u001b[49m\u001b[43mchunked\u001b[49m\u001b[43m=\u001b[49m\u001b[43mchunked\u001b[49m\u001b[43m,\u001b[49m\n\u001b[32m    679\u001b[39m \u001b[43m    \u001b[49m\u001b[43m)\u001b[49m\n\u001b[32m    681\u001b[39m \u001b[38;5;28;01mexcept\u001b[39;00m (ProtocolError, \u001b[38;5;167;01mOSError\u001b[39;00m) \u001b[38;5;28;01mas\u001b[39;00m err:\n",
      "\u001b[36mFile \u001b[39m\u001b[32mc:\\Users\\Satyajit Samal\\OneDrive\\Desktop\\DSMP\\Ml_projects\\Uber_Demand_Prediction2\\demand\\Lib\\site-packages\\urllib3\\connectionpool.py:942\u001b[39m, in \u001b[36mHTTPConnectionPool.urlopen\u001b[39m\u001b[34m(self, method, url, body, headers, retries, redirect, assert_same_host, timeout, pool_timeout, release_conn, chunked, body_pos, preload_content, decode_content, **response_kw)\u001b[39m\n\u001b[32m    941\u001b[39m     log.debug(\u001b[33m\"\u001b[39m\u001b[33mRetry: \u001b[39m\u001b[38;5;132;01m%s\u001b[39;00m\u001b[33m\"\u001b[39m, url)\n\u001b[32m--> \u001b[39m\u001b[32m942\u001b[39m     \u001b[38;5;28;01mreturn\u001b[39;00m \u001b[38;5;28;43mself\u001b[39;49m\u001b[43m.\u001b[49m\u001b[43murlopen\u001b[49m\u001b[43m(\u001b[49m\n\u001b[32m    943\u001b[39m \u001b[43m        \u001b[49m\u001b[43mmethod\u001b[49m\u001b[43m,\u001b[49m\n\u001b[32m    944\u001b[39m \u001b[43m        \u001b[49m\u001b[43murl\u001b[49m\u001b[43m,\u001b[49m\n\u001b[32m    945\u001b[39m \u001b[43m        \u001b[49m\u001b[43mbody\u001b[49m\u001b[43m,\u001b[49m\n\u001b[32m    946\u001b[39m \u001b[43m        \u001b[49m\u001b[43mheaders\u001b[49m\u001b[43m,\u001b[49m\n\u001b[32m    947\u001b[39m \u001b[43m        \u001b[49m\u001b[43mretries\u001b[49m\u001b[43m=\u001b[49m\u001b[43mretries\u001b[49m\u001b[43m,\u001b[49m\n\u001b[32m    948\u001b[39m \u001b[43m        \u001b[49m\u001b[43mredirect\u001b[49m\u001b[43m=\u001b[49m\u001b[43mredirect\u001b[49m\u001b[43m,\u001b[49m\n\u001b[32m    949\u001b[39m \u001b[43m        \u001b[49m\u001b[43massert_same_host\u001b[49m\u001b[43m=\u001b[49m\u001b[43massert_same_host\u001b[49m\u001b[43m,\u001b[49m\n\u001b[32m    950\u001b[39m \u001b[43m        \u001b[49m\u001b[43mtimeout\u001b[49m\u001b[43m=\u001b[49m\u001b[43mtimeout\u001b[49m\u001b[43m,\u001b[49m\n\u001b[32m    951\u001b[39m \u001b[43m        \u001b[49m\u001b[43mpool_timeout\u001b[49m\u001b[43m=\u001b[49m\u001b[43mpool_timeout\u001b[49m\u001b[43m,\u001b[49m\n\u001b[32m    952\u001b[39m \u001b[43m        \u001b[49m\u001b[43mrelease_conn\u001b[49m\u001b[43m=\u001b[49m\u001b[43mrelease_conn\u001b[49m\u001b[43m,\u001b[49m\n\u001b[32m    953\u001b[39m \u001b[43m        \u001b[49m\u001b[43mchunked\u001b[49m\u001b[43m=\u001b[49m\u001b[43mchunked\u001b[49m\u001b[43m,\u001b[49m\n\u001b[32m    954\u001b[39m \u001b[43m        \u001b[49m\u001b[43mbody_pos\u001b[49m\u001b[43m=\u001b[49m\u001b[43mbody_pos\u001b[49m\u001b[43m,\u001b[49m\n\u001b[32m    955\u001b[39m \u001b[43m        \u001b[49m\u001b[43mpreload_content\u001b[49m\u001b[43m=\u001b[49m\u001b[43mpreload_content\u001b[49m\u001b[43m,\u001b[49m\n\u001b[32m    956\u001b[39m \u001b[43m        \u001b[49m\u001b[43mdecode_content\u001b[49m\u001b[43m=\u001b[49m\u001b[43mdecode_content\u001b[49m\u001b[43m,\u001b[49m\n\u001b[32m    957\u001b[39m \u001b[43m        \u001b[49m\u001b[43m*\u001b[49m\u001b[43m*\u001b[49m\u001b[43mresponse_kw\u001b[49m\u001b[43m,\u001b[49m\n\u001b[32m    958\u001b[39m \u001b[43m    \u001b[49m\u001b[43m)\u001b[49m\n\u001b[32m    960\u001b[39m \u001b[38;5;28;01mreturn\u001b[39;00m response\n",
      "\u001b[36mFile \u001b[39m\u001b[32mc:\\Users\\Satyajit Samal\\OneDrive\\Desktop\\DSMP\\Ml_projects\\Uber_Demand_Prediction2\\demand\\Lib\\site-packages\\urllib3\\connectionpool.py:942\u001b[39m, in \u001b[36mHTTPConnectionPool.urlopen\u001b[39m\u001b[34m(self, method, url, body, headers, retries, redirect, assert_same_host, timeout, pool_timeout, release_conn, chunked, body_pos, preload_content, decode_content, **response_kw)\u001b[39m\n\u001b[32m    941\u001b[39m     log.debug(\u001b[33m\"\u001b[39m\u001b[33mRetry: \u001b[39m\u001b[38;5;132;01m%s\u001b[39;00m\u001b[33m\"\u001b[39m, url)\n\u001b[32m--> \u001b[39m\u001b[32m942\u001b[39m     \u001b[38;5;28;01mreturn\u001b[39;00m \u001b[38;5;28;43mself\u001b[39;49m\u001b[43m.\u001b[49m\u001b[43murlopen\u001b[49m\u001b[43m(\u001b[49m\n\u001b[32m    943\u001b[39m \u001b[43m        \u001b[49m\u001b[43mmethod\u001b[49m\u001b[43m,\u001b[49m\n\u001b[32m    944\u001b[39m \u001b[43m        \u001b[49m\u001b[43murl\u001b[49m\u001b[43m,\u001b[49m\n\u001b[32m    945\u001b[39m \u001b[43m        \u001b[49m\u001b[43mbody\u001b[49m\u001b[43m,\u001b[49m\n\u001b[32m    946\u001b[39m \u001b[43m        \u001b[49m\u001b[43mheaders\u001b[49m\u001b[43m,\u001b[49m\n\u001b[32m    947\u001b[39m \u001b[43m        \u001b[49m\u001b[43mretries\u001b[49m\u001b[43m=\u001b[49m\u001b[43mretries\u001b[49m\u001b[43m,\u001b[49m\n\u001b[32m    948\u001b[39m \u001b[43m        \u001b[49m\u001b[43mredirect\u001b[49m\u001b[43m=\u001b[49m\u001b[43mredirect\u001b[49m\u001b[43m,\u001b[49m\n\u001b[32m    949\u001b[39m \u001b[43m        \u001b[49m\u001b[43massert_same_host\u001b[49m\u001b[43m=\u001b[49m\u001b[43massert_same_host\u001b[49m\u001b[43m,\u001b[49m\n\u001b[32m    950\u001b[39m \u001b[43m        \u001b[49m\u001b[43mtimeout\u001b[49m\u001b[43m=\u001b[49m\u001b[43mtimeout\u001b[49m\u001b[43m,\u001b[49m\n\u001b[32m    951\u001b[39m \u001b[43m        \u001b[49m\u001b[43mpool_timeout\u001b[49m\u001b[43m=\u001b[49m\u001b[43mpool_timeout\u001b[49m\u001b[43m,\u001b[49m\n\u001b[32m    952\u001b[39m \u001b[43m        \u001b[49m\u001b[43mrelease_conn\u001b[49m\u001b[43m=\u001b[49m\u001b[43mrelease_conn\u001b[49m\u001b[43m,\u001b[49m\n\u001b[32m    953\u001b[39m \u001b[43m        \u001b[49m\u001b[43mchunked\u001b[49m\u001b[43m=\u001b[49m\u001b[43mchunked\u001b[49m\u001b[43m,\u001b[49m\n\u001b[32m    954\u001b[39m \u001b[43m        \u001b[49m\u001b[43mbody_pos\u001b[49m\u001b[43m=\u001b[49m\u001b[43mbody_pos\u001b[49m\u001b[43m,\u001b[49m\n\u001b[32m    955\u001b[39m \u001b[43m        \u001b[49m\u001b[43mpreload_content\u001b[49m\u001b[43m=\u001b[49m\u001b[43mpreload_content\u001b[49m\u001b[43m,\u001b[49m\n\u001b[32m    956\u001b[39m \u001b[43m        \u001b[49m\u001b[43mdecode_content\u001b[49m\u001b[43m=\u001b[49m\u001b[43mdecode_content\u001b[49m\u001b[43m,\u001b[49m\n\u001b[32m    957\u001b[39m \u001b[43m        \u001b[49m\u001b[43m*\u001b[49m\u001b[43m*\u001b[49m\u001b[43mresponse_kw\u001b[49m\u001b[43m,\u001b[49m\n\u001b[32m    958\u001b[39m \u001b[43m    \u001b[49m\u001b[43m)\u001b[49m\n\u001b[32m    960\u001b[39m \u001b[38;5;28;01mreturn\u001b[39;00m response\n",
      "    \u001b[31m[... skipping similar frames: HTTPConnectionPool.urlopen at line 942 (4 times)]\u001b[39m\n",
      "\u001b[36mFile \u001b[39m\u001b[32mc:\\Users\\Satyajit Samal\\OneDrive\\Desktop\\DSMP\\Ml_projects\\Uber_Demand_Prediction2\\demand\\Lib\\site-packages\\urllib3\\connectionpool.py:942\u001b[39m, in \u001b[36mHTTPConnectionPool.urlopen\u001b[39m\u001b[34m(self, method, url, body, headers, retries, redirect, assert_same_host, timeout, pool_timeout, release_conn, chunked, body_pos, preload_content, decode_content, **response_kw)\u001b[39m\n\u001b[32m    941\u001b[39m     log.debug(\u001b[33m\"\u001b[39m\u001b[33mRetry: \u001b[39m\u001b[38;5;132;01m%s\u001b[39;00m\u001b[33m\"\u001b[39m, url)\n\u001b[32m--> \u001b[39m\u001b[32m942\u001b[39m     \u001b[38;5;28;01mreturn\u001b[39;00m \u001b[38;5;28;43mself\u001b[39;49m\u001b[43m.\u001b[49m\u001b[43murlopen\u001b[49m\u001b[43m(\u001b[49m\n\u001b[32m    943\u001b[39m \u001b[43m        \u001b[49m\u001b[43mmethod\u001b[49m\u001b[43m,\u001b[49m\n\u001b[32m    944\u001b[39m \u001b[43m        \u001b[49m\u001b[43murl\u001b[49m\u001b[43m,\u001b[49m\n\u001b[32m    945\u001b[39m \u001b[43m        \u001b[49m\u001b[43mbody\u001b[49m\u001b[43m,\u001b[49m\n\u001b[32m    946\u001b[39m \u001b[43m        \u001b[49m\u001b[43mheaders\u001b[49m\u001b[43m,\u001b[49m\n\u001b[32m    947\u001b[39m \u001b[43m        \u001b[49m\u001b[43mretries\u001b[49m\u001b[43m=\u001b[49m\u001b[43mretries\u001b[49m\u001b[43m,\u001b[49m\n\u001b[32m    948\u001b[39m \u001b[43m        \u001b[49m\u001b[43mredirect\u001b[49m\u001b[43m=\u001b[49m\u001b[43mredirect\u001b[49m\u001b[43m,\u001b[49m\n\u001b[32m    949\u001b[39m \u001b[43m        \u001b[49m\u001b[43massert_same_host\u001b[49m\u001b[43m=\u001b[49m\u001b[43massert_same_host\u001b[49m\u001b[43m,\u001b[49m\n\u001b[32m    950\u001b[39m \u001b[43m        \u001b[49m\u001b[43mtimeout\u001b[49m\u001b[43m=\u001b[49m\u001b[43mtimeout\u001b[49m\u001b[43m,\u001b[49m\n\u001b[32m    951\u001b[39m \u001b[43m        \u001b[49m\u001b[43mpool_timeout\u001b[49m\u001b[43m=\u001b[49m\u001b[43mpool_timeout\u001b[49m\u001b[43m,\u001b[49m\n\u001b[32m    952\u001b[39m \u001b[43m        \u001b[49m\u001b[43mrelease_conn\u001b[49m\u001b[43m=\u001b[49m\u001b[43mrelease_conn\u001b[49m\u001b[43m,\u001b[49m\n\u001b[32m    953\u001b[39m \u001b[43m        \u001b[49m\u001b[43mchunked\u001b[49m\u001b[43m=\u001b[49m\u001b[43mchunked\u001b[49m\u001b[43m,\u001b[49m\n\u001b[32m    954\u001b[39m \u001b[43m        \u001b[49m\u001b[43mbody_pos\u001b[49m\u001b[43m=\u001b[49m\u001b[43mbody_pos\u001b[49m\u001b[43m,\u001b[49m\n\u001b[32m    955\u001b[39m \u001b[43m        \u001b[49m\u001b[43mpreload_content\u001b[49m\u001b[43m=\u001b[49m\u001b[43mpreload_content\u001b[49m\u001b[43m,\u001b[49m\n\u001b[32m    956\u001b[39m \u001b[43m        \u001b[49m\u001b[43mdecode_content\u001b[49m\u001b[43m=\u001b[49m\u001b[43mdecode_content\u001b[49m\u001b[43m,\u001b[49m\n\u001b[32m    957\u001b[39m \u001b[43m        \u001b[49m\u001b[43m*\u001b[49m\u001b[43m*\u001b[49m\u001b[43mresponse_kw\u001b[49m\u001b[43m,\u001b[49m\n\u001b[32m    958\u001b[39m \u001b[43m    \u001b[49m\u001b[43m)\u001b[49m\n\u001b[32m    960\u001b[39m \u001b[38;5;28;01mreturn\u001b[39;00m response\n",
      "\u001b[36mFile \u001b[39m\u001b[32mc:\\Users\\Satyajit Samal\\OneDrive\\Desktop\\DSMP\\Ml_projects\\Uber_Demand_Prediction2\\demand\\Lib\\site-packages\\urllib3\\connectionpool.py:932\u001b[39m, in \u001b[36mHTTPConnectionPool.urlopen\u001b[39m\u001b[34m(self, method, url, body, headers, retries, redirect, assert_same_host, timeout, pool_timeout, release_conn, chunked, body_pos, preload_content, decode_content, **response_kw)\u001b[39m\n\u001b[32m    931\u001b[39m \u001b[38;5;28;01mtry\u001b[39;00m:\n\u001b[32m--> \u001b[39m\u001b[32m932\u001b[39m     retries = \u001b[43mretries\u001b[49m\u001b[43m.\u001b[49m\u001b[43mincrement\u001b[49m\u001b[43m(\u001b[49m\u001b[43mmethod\u001b[49m\u001b[43m,\u001b[49m\u001b[43m \u001b[49m\u001b[43murl\u001b[49m\u001b[43m,\u001b[49m\u001b[43m \u001b[49m\u001b[43mresponse\u001b[49m\u001b[43m=\u001b[49m\u001b[43mresponse\u001b[49m\u001b[43m,\u001b[49m\u001b[43m \u001b[49m\u001b[43m_pool\u001b[49m\u001b[43m=\u001b[49m\u001b[38;5;28;43mself\u001b[39;49m\u001b[43m)\u001b[49m\n\u001b[32m    933\u001b[39m \u001b[38;5;28;01mexcept\u001b[39;00m MaxRetryError:\n",
      "\u001b[36mFile \u001b[39m\u001b[32mc:\\Users\\Satyajit Samal\\OneDrive\\Desktop\\DSMP\\Ml_projects\\Uber_Demand_Prediction2\\demand\\Lib\\site-packages\\urllib3\\util\\retry.py:519\u001b[39m, in \u001b[36mRetry.increment\u001b[39m\u001b[34m(self, method, url, response, error, _pool, _stacktrace)\u001b[39m\n\u001b[32m    518\u001b[39m     reason = error \u001b[38;5;129;01mor\u001b[39;00m ResponseError(cause)\n\u001b[32m--> \u001b[39m\u001b[32m519\u001b[39m     \u001b[38;5;28;01mraise\u001b[39;00m MaxRetryError(_pool, url, reason) \u001b[38;5;28;01mfrom\u001b[39;00m\u001b[38;5;250m \u001b[39m\u001b[34;01mreason\u001b[39;00m  \u001b[38;5;66;03m# type: ignore[arg-type]\u001b[39;00m\n\u001b[32m    521\u001b[39m log.debug(\u001b[33m\"\u001b[39m\u001b[33mIncremented Retry for (url=\u001b[39m\u001b[33m'\u001b[39m\u001b[38;5;132;01m%s\u001b[39;00m\u001b[33m'\u001b[39m\u001b[33m): \u001b[39m\u001b[38;5;132;01m%r\u001b[39;00m\u001b[33m\"\u001b[39m, url, new_retry)\n",
      "\u001b[31mMaxRetryError\u001b[39m: HTTPSConnectionPool(host='dagshub.com', port=443): Max retries exceeded with url: /satyajitsamal198076/Uber_Demand_Prediction2.mlflow/api/2.0/mlflow/runs/log-parameter (Caused by ResponseError('too many 429 error responses'))",
      "\nDuring handling of the above exception, another exception occurred:\n",
      "\u001b[31mRetryError\u001b[39m                                Traceback (most recent call last)",
      "\u001b[36mFile \u001b[39m\u001b[32mc:\\Users\\Satyajit Samal\\OneDrive\\Desktop\\DSMP\\Ml_projects\\Uber_Demand_Prediction2\\demand\\Lib\\site-packages\\mlflow\\utils\\rest_utils.py:230\u001b[39m, in \u001b[36mhttp_request\u001b[39m\u001b[34m(host_creds, endpoint, method, max_retries, backoff_factor, backoff_jitter, extra_headers, retry_codes, timeout, raise_on_status, respect_retry_after_header, retry_timeout_seconds, **kwargs)\u001b[39m\n\u001b[32m    229\u001b[39m \u001b[38;5;28;01mtry\u001b[39;00m:\n\u001b[32m--> \u001b[39m\u001b[32m230\u001b[39m     \u001b[38;5;28;01mreturn\u001b[39;00m \u001b[43m_get_http_response_with_retries\u001b[49m\u001b[43m(\u001b[49m\n\u001b[32m    231\u001b[39m \u001b[43m        \u001b[49m\u001b[43mmethod\u001b[49m\u001b[43m,\u001b[49m\n\u001b[32m    232\u001b[39m \u001b[43m        \u001b[49m\u001b[43murl\u001b[49m\u001b[43m,\u001b[49m\n\u001b[32m    233\u001b[39m \u001b[43m        \u001b[49m\u001b[43mmax_retries\u001b[49m\u001b[43m,\u001b[49m\n\u001b[32m    234\u001b[39m \u001b[43m        \u001b[49m\u001b[43mbackoff_factor\u001b[49m\u001b[43m,\u001b[49m\n\u001b[32m    235\u001b[39m \u001b[43m        \u001b[49m\u001b[43mbackoff_jitter\u001b[49m\u001b[43m,\u001b[49m\n\u001b[32m    236\u001b[39m \u001b[43m        \u001b[49m\u001b[43mretry_codes\u001b[49m\u001b[43m,\u001b[49m\n\u001b[32m    237\u001b[39m \u001b[43m        \u001b[49m\u001b[43mraise_on_status\u001b[49m\u001b[43m,\u001b[49m\n\u001b[32m    238\u001b[39m \u001b[43m        \u001b[49m\u001b[43mheaders\u001b[49m\u001b[43m=\u001b[49m\u001b[43mheaders\u001b[49m\u001b[43m,\u001b[49m\n\u001b[32m    239\u001b[39m \u001b[43m        \u001b[49m\u001b[43mverify\u001b[49m\u001b[43m=\u001b[49m\u001b[43mhost_creds\u001b[49m\u001b[43m.\u001b[49m\u001b[43mverify\u001b[49m\u001b[43m,\u001b[49m\n\u001b[32m    240\u001b[39m \u001b[43m        \u001b[49m\u001b[43mtimeout\u001b[49m\u001b[43m=\u001b[49m\u001b[43mtimeout\u001b[49m\u001b[43m,\u001b[49m\n\u001b[32m    241\u001b[39m \u001b[43m        \u001b[49m\u001b[43mrespect_retry_after_header\u001b[49m\u001b[43m=\u001b[49m\u001b[43mrespect_retry_after_header\u001b[49m\u001b[43m,\u001b[49m\n\u001b[32m    242\u001b[39m \u001b[43m        \u001b[49m\u001b[43m*\u001b[49m\u001b[43m*\u001b[49m\u001b[43mkwargs\u001b[49m\u001b[43m,\u001b[49m\n\u001b[32m    243\u001b[39m \u001b[43m    \u001b[49m\u001b[43m)\u001b[49m\n\u001b[32m    244\u001b[39m \u001b[38;5;28;01mexcept\u001b[39;00m requests.exceptions.Timeout \u001b[38;5;28;01mas\u001b[39;00m to:\n",
      "\u001b[36mFile \u001b[39m\u001b[32mc:\\Users\\Satyajit Samal\\OneDrive\\Desktop\\DSMP\\Ml_projects\\Uber_Demand_Prediction2\\demand\\Lib\\site-packages\\mlflow\\utils\\request_utils.py:237\u001b[39m, in \u001b[36m_get_http_response_with_retries\u001b[39m\u001b[34m(method, url, max_retries, backoff_factor, backoff_jitter, retry_codes, raise_on_status, allow_redirects, respect_retry_after_header, **kwargs)\u001b[39m\n\u001b[32m    235\u001b[39m allow_redirects = env_value \u001b[38;5;28;01mif\u001b[39;00m allow_redirects \u001b[38;5;129;01mis\u001b[39;00m \u001b[38;5;28;01mNone\u001b[39;00m \u001b[38;5;28;01melse\u001b[39;00m allow_redirects\n\u001b[32m--> \u001b[39m\u001b[32m237\u001b[39m \u001b[38;5;28;01mreturn\u001b[39;00m \u001b[43msession\u001b[49m\u001b[43m.\u001b[49m\u001b[43mrequest\u001b[49m\u001b[43m(\u001b[49m\u001b[43mmethod\u001b[49m\u001b[43m,\u001b[49m\u001b[43m \u001b[49m\u001b[43murl\u001b[49m\u001b[43m,\u001b[49m\u001b[43m \u001b[49m\u001b[43mallow_redirects\u001b[49m\u001b[43m=\u001b[49m\u001b[43mallow_redirects\u001b[49m\u001b[43m,\u001b[49m\u001b[43m \u001b[49m\u001b[43m*\u001b[49m\u001b[43m*\u001b[49m\u001b[43mkwargs\u001b[49m\u001b[43m)\u001b[49m\n",
      "\u001b[36mFile \u001b[39m\u001b[32mc:\\Users\\Satyajit Samal\\OneDrive\\Desktop\\DSMP\\Ml_projects\\Uber_Demand_Prediction2\\demand\\Lib\\site-packages\\requests\\sessions.py:589\u001b[39m, in \u001b[36mSession.request\u001b[39m\u001b[34m(self, method, url, params, data, headers, cookies, files, auth, timeout, allow_redirects, proxies, hooks, stream, verify, cert, json)\u001b[39m\n\u001b[32m    588\u001b[39m send_kwargs.update(settings)\n\u001b[32m--> \u001b[39m\u001b[32m589\u001b[39m resp = \u001b[38;5;28;43mself\u001b[39;49m\u001b[43m.\u001b[49m\u001b[43msend\u001b[49m\u001b[43m(\u001b[49m\u001b[43mprep\u001b[49m\u001b[43m,\u001b[49m\u001b[43m \u001b[49m\u001b[43m*\u001b[49m\u001b[43m*\u001b[49m\u001b[43msend_kwargs\u001b[49m\u001b[43m)\u001b[49m\n\u001b[32m    591\u001b[39m \u001b[38;5;28;01mreturn\u001b[39;00m resp\n",
      "\u001b[36mFile \u001b[39m\u001b[32mc:\\Users\\Satyajit Samal\\OneDrive\\Desktop\\DSMP\\Ml_projects\\Uber_Demand_Prediction2\\demand\\Lib\\site-packages\\requests\\sessions.py:703\u001b[39m, in \u001b[36mSession.send\u001b[39m\u001b[34m(self, request, **kwargs)\u001b[39m\n\u001b[32m    702\u001b[39m \u001b[38;5;66;03m# Send the request\u001b[39;00m\n\u001b[32m--> \u001b[39m\u001b[32m703\u001b[39m r = \u001b[43madapter\u001b[49m\u001b[43m.\u001b[49m\u001b[43msend\u001b[49m\u001b[43m(\u001b[49m\u001b[43mrequest\u001b[49m\u001b[43m,\u001b[49m\u001b[43m \u001b[49m\u001b[43m*\u001b[49m\u001b[43m*\u001b[49m\u001b[43mkwargs\u001b[49m\u001b[43m)\u001b[49m\n\u001b[32m    705\u001b[39m \u001b[38;5;66;03m# Total elapsed time of the request (approximately)\u001b[39;00m\n",
      "\u001b[36mFile \u001b[39m\u001b[32mc:\\Users\\Satyajit Samal\\OneDrive\\Desktop\\DSMP\\Ml_projects\\Uber_Demand_Prediction2\\demand\\Lib\\site-packages\\requests\\adapters.py:691\u001b[39m, in \u001b[36mHTTPAdapter.send\u001b[39m\u001b[34m(self, request, stream, timeout, verify, cert, proxies)\u001b[39m\n\u001b[32m    690\u001b[39m \u001b[38;5;28;01mif\u001b[39;00m \u001b[38;5;28misinstance\u001b[39m(e.reason, ResponseError):\n\u001b[32m--> \u001b[39m\u001b[32m691\u001b[39m     \u001b[38;5;28;01mraise\u001b[39;00m RetryError(e, request=request)\n\u001b[32m    693\u001b[39m \u001b[38;5;28;01mif\u001b[39;00m \u001b[38;5;28misinstance\u001b[39m(e.reason, _ProxyError):\n",
      "\u001b[31mRetryError\u001b[39m: HTTPSConnectionPool(host='dagshub.com', port=443): Max retries exceeded with url: /satyajitsamal198076/Uber_Demand_Prediction2.mlflow/api/2.0/mlflow/runs/log-parameter (Caused by ResponseError('too many 429 error responses'))",
      "\nDuring handling of the above exception, another exception occurred:\n",
      "\u001b[31mMlflowException\u001b[39m                           Traceback (most recent call last)",
      "\u001b[36mCell\u001b[39m\u001b[36m \u001b[39m\u001b[32mIn[58]\u001b[39m\u001b[32m, line 3\u001b[39m\n\u001b[32m      1\u001b[39m \u001b[38;5;28;01mwith\u001b[39;00m mlflow.start_run(run_name=\u001b[33m\"\u001b[39m\u001b[33mbest_model\u001b[39m\u001b[33m\"\u001b[39m,nested=\u001b[38;5;28;01mTrue\u001b[39;00m) \u001b[38;5;28;01mas\u001b[39;00m parent:\n\u001b[32m      2\u001b[39m     study=optuna.create_study(study_name=\u001b[33m\"\u001b[39m\u001b[33mModel_selection\u001b[39m\u001b[33m\"\u001b[39m,direction=\u001b[33m\"\u001b[39m\u001b[33mminimize\u001b[39m\u001b[33m\"\u001b[39m)\n\u001b[32m----> \u001b[39m\u001b[32m3\u001b[39m     \u001b[43mstudy\u001b[49m\u001b[43m.\u001b[49m\u001b[43moptimize\u001b[49m\u001b[43m(\u001b[49m\u001b[43mobjective\u001b[49m\u001b[43m,\u001b[49m\u001b[43mn_trials\u001b[49m\u001b[43m=\u001b[49m\u001b[32;43m70\u001b[39;49m\u001b[43m,\u001b[49m\u001b[43mn_jobs\u001b[49m\u001b[43m=\u001b[49m\u001b[43m-\u001b[49m\u001b[32;43m1\u001b[39;49m\u001b[43m)\u001b[49m\n\u001b[32m      5\u001b[39m     mlflow.log_params(study.best_params)\n\u001b[32m      7\u001b[39m     mlflow.log_metric(\u001b[33m\"\u001b[39m\u001b[33mBEST_MAPE\u001b[39m\u001b[33m\"\u001b[39m,study.best_value)\n",
      "\u001b[36mFile \u001b[39m\u001b[32mc:\\Users\\Satyajit Samal\\OneDrive\\Desktop\\DSMP\\Ml_projects\\Uber_Demand_Prediction2\\demand\\Lib\\site-packages\\optuna\\study\\study.py:489\u001b[39m, in \u001b[36mStudy.optimize\u001b[39m\u001b[34m(self, func, n_trials, timeout, n_jobs, catch, callbacks, gc_after_trial, show_progress_bar)\u001b[39m\n\u001b[32m    387\u001b[39m \u001b[38;5;28;01mdef\u001b[39;00m\u001b[38;5;250m \u001b[39m\u001b[34moptimize\u001b[39m(\n\u001b[32m    388\u001b[39m     \u001b[38;5;28mself\u001b[39m,\n\u001b[32m    389\u001b[39m     func: ObjectiveFuncType,\n\u001b[32m   (...)\u001b[39m\u001b[32m    396\u001b[39m     show_progress_bar: \u001b[38;5;28mbool\u001b[39m = \u001b[38;5;28;01mFalse\u001b[39;00m,\n\u001b[32m    397\u001b[39m ) -> \u001b[38;5;28;01mNone\u001b[39;00m:\n\u001b[32m    398\u001b[39m \u001b[38;5;250m    \u001b[39m\u001b[33;03m\"\"\"Optimize an objective function.\u001b[39;00m\n\u001b[32m    399\u001b[39m \n\u001b[32m    400\u001b[39m \u001b[33;03m    Optimization is done by choosing a suitable set of hyperparameter values from a given\u001b[39;00m\n\u001b[32m   (...)\u001b[39m\u001b[32m    487\u001b[39m \u001b[33;03m            If nested invocation of this method occurs.\u001b[39;00m\n\u001b[32m    488\u001b[39m \u001b[33;03m    \"\"\"\u001b[39;00m\n\u001b[32m--> \u001b[39m\u001b[32m489\u001b[39m     \u001b[43m_optimize\u001b[49m\u001b[43m(\u001b[49m\n\u001b[32m    490\u001b[39m \u001b[43m        \u001b[49m\u001b[43mstudy\u001b[49m\u001b[43m=\u001b[49m\u001b[38;5;28;43mself\u001b[39;49m\u001b[43m,\u001b[49m\n\u001b[32m    491\u001b[39m \u001b[43m        \u001b[49m\u001b[43mfunc\u001b[49m\u001b[43m=\u001b[49m\u001b[43mfunc\u001b[49m\u001b[43m,\u001b[49m\n\u001b[32m    492\u001b[39m \u001b[43m        \u001b[49m\u001b[43mn_trials\u001b[49m\u001b[43m=\u001b[49m\u001b[43mn_trials\u001b[49m\u001b[43m,\u001b[49m\n\u001b[32m    493\u001b[39m \u001b[43m        \u001b[49m\u001b[43mtimeout\u001b[49m\u001b[43m=\u001b[49m\u001b[43mtimeout\u001b[49m\u001b[43m,\u001b[49m\n\u001b[32m    494\u001b[39m \u001b[43m        \u001b[49m\u001b[43mn_jobs\u001b[49m\u001b[43m=\u001b[49m\u001b[43mn_jobs\u001b[49m\u001b[43m,\u001b[49m\n\u001b[32m    495\u001b[39m \u001b[43m        \u001b[49m\u001b[43mcatch\u001b[49m\u001b[43m=\u001b[49m\u001b[38;5;28;43mtuple\u001b[39;49m\u001b[43m(\u001b[49m\u001b[43mcatch\u001b[49m\u001b[43m)\u001b[49m\u001b[43m \u001b[49m\u001b[38;5;28;43;01mif\u001b[39;49;00m\u001b[43m \u001b[49m\u001b[38;5;28;43misinstance\u001b[39;49m\u001b[43m(\u001b[49m\u001b[43mcatch\u001b[49m\u001b[43m,\u001b[49m\u001b[43m \u001b[49m\u001b[43mIterable\u001b[49m\u001b[43m)\u001b[49m\u001b[43m \u001b[49m\u001b[38;5;28;43;01melse\u001b[39;49;00m\u001b[43m \u001b[49m\u001b[43m(\u001b[49m\u001b[43mcatch\u001b[49m\u001b[43m,\u001b[49m\u001b[43m)\u001b[49m\u001b[43m,\u001b[49m\n\u001b[32m    496\u001b[39m \u001b[43m        \u001b[49m\u001b[43mcallbacks\u001b[49m\u001b[43m=\u001b[49m\u001b[43mcallbacks\u001b[49m\u001b[43m,\u001b[49m\n\u001b[32m    497\u001b[39m \u001b[43m        \u001b[49m\u001b[43mgc_after_trial\u001b[49m\u001b[43m=\u001b[49m\u001b[43mgc_after_trial\u001b[49m\u001b[43m,\u001b[49m\n\u001b[32m    498\u001b[39m \u001b[43m        \u001b[49m\u001b[43mshow_progress_bar\u001b[49m\u001b[43m=\u001b[49m\u001b[43mshow_progress_bar\u001b[49m\u001b[43m,\u001b[49m\n\u001b[32m    499\u001b[39m \u001b[43m    \u001b[49m\u001b[43m)\u001b[49m\n",
      "\u001b[36mFile \u001b[39m\u001b[32mc:\\Users\\Satyajit Samal\\OneDrive\\Desktop\\DSMP\\Ml_projects\\Uber_Demand_Prediction2\\demand\\Lib\\site-packages\\optuna\\study\\_optimize.py:101\u001b[39m, in \u001b[36m_optimize\u001b[39m\u001b[34m(study, func, n_trials, timeout, n_jobs, catch, callbacks, gc_after_trial, show_progress_bar)\u001b[39m\n\u001b[32m     99\u001b[39m                     \u001b[38;5;66;03m# Raise if exception occurred in executing the completed futures.\u001b[39;00m\n\u001b[32m    100\u001b[39m                     \u001b[38;5;28;01mfor\u001b[39;00m f \u001b[38;5;129;01min\u001b[39;00m completed:\n\u001b[32m--> \u001b[39m\u001b[32m101\u001b[39m                         \u001b[43mf\u001b[49m\u001b[43m.\u001b[49m\u001b[43mresult\u001b[49m\u001b[43m(\u001b[49m\u001b[43m)\u001b[49m\n\u001b[32m    103\u001b[39m                 futures.add(\n\u001b[32m    104\u001b[39m                     executor.submit(\n\u001b[32m    105\u001b[39m                         _optimize_sequential,\n\u001b[32m   (...)\u001b[39m\u001b[32m    116\u001b[39m                     )\n\u001b[32m    117\u001b[39m                 )\n\u001b[32m    118\u001b[39m \u001b[38;5;28;01mfinally\u001b[39;00m:\n",
      "\u001b[36mFile \u001b[39m\u001b[32mc:\\Users\\Satyajit Samal\\OneDrive\\Desktop\\DSMP\\Ml_projects\\Uber_Demand_Prediction2\\demand\\Lib\\concurrent\\futures\\_base.py:449\u001b[39m, in \u001b[36mFuture.result\u001b[39m\u001b[34m(self, timeout)\u001b[39m\n\u001b[32m    447\u001b[39m     \u001b[38;5;28;01mraise\u001b[39;00m CancelledError()\n\u001b[32m    448\u001b[39m \u001b[38;5;28;01melif\u001b[39;00m \u001b[38;5;28mself\u001b[39m._state == FINISHED:\n\u001b[32m--> \u001b[39m\u001b[32m449\u001b[39m     \u001b[38;5;28;01mreturn\u001b[39;00m \u001b[38;5;28;43mself\u001b[39;49m\u001b[43m.\u001b[49m\u001b[43m__get_result\u001b[49m\u001b[43m(\u001b[49m\u001b[43m)\u001b[49m\n\u001b[32m    451\u001b[39m \u001b[38;5;28mself\u001b[39m._condition.wait(timeout)\n\u001b[32m    453\u001b[39m \u001b[38;5;28;01mif\u001b[39;00m \u001b[38;5;28mself\u001b[39m._state \u001b[38;5;129;01min\u001b[39;00m [CANCELLED, CANCELLED_AND_NOTIFIED]:\n",
      "\u001b[36mFile \u001b[39m\u001b[32mc:\\Users\\Satyajit Samal\\OneDrive\\Desktop\\DSMP\\Ml_projects\\Uber_Demand_Prediction2\\demand\\Lib\\concurrent\\futures\\_base.py:401\u001b[39m, in \u001b[36mFuture.__get_result\u001b[39m\u001b[34m(self)\u001b[39m\n\u001b[32m    399\u001b[39m \u001b[38;5;28;01mif\u001b[39;00m \u001b[38;5;28mself\u001b[39m._exception:\n\u001b[32m    400\u001b[39m     \u001b[38;5;28;01mtry\u001b[39;00m:\n\u001b[32m--> \u001b[39m\u001b[32m401\u001b[39m         \u001b[38;5;28;01mraise\u001b[39;00m \u001b[38;5;28mself\u001b[39m._exception\n\u001b[32m    402\u001b[39m     \u001b[38;5;28;01mfinally\u001b[39;00m:\n\u001b[32m    403\u001b[39m         \u001b[38;5;66;03m# Break a reference cycle with the exception in self._exception\u001b[39;00m\n\u001b[32m    404\u001b[39m         \u001b[38;5;28mself\u001b[39m = \u001b[38;5;28;01mNone\u001b[39;00m\n",
      "\u001b[36mFile \u001b[39m\u001b[32mc:\\Users\\Satyajit Samal\\OneDrive\\Desktop\\DSMP\\Ml_projects\\Uber_Demand_Prediction2\\demand\\Lib\\concurrent\\futures\\thread.py:58\u001b[39m, in \u001b[36m_WorkItem.run\u001b[39m\u001b[34m(self)\u001b[39m\n\u001b[32m     55\u001b[39m     \u001b[38;5;28;01mreturn\u001b[39;00m\n\u001b[32m     57\u001b[39m \u001b[38;5;28;01mtry\u001b[39;00m:\n\u001b[32m---> \u001b[39m\u001b[32m58\u001b[39m     result = \u001b[38;5;28;43mself\u001b[39;49m\u001b[43m.\u001b[49m\u001b[43mfn\u001b[49m\u001b[43m(\u001b[49m\u001b[43m*\u001b[49m\u001b[38;5;28;43mself\u001b[39;49m\u001b[43m.\u001b[49m\u001b[43margs\u001b[49m\u001b[43m,\u001b[49m\u001b[43m \u001b[49m\u001b[43m*\u001b[49m\u001b[43m*\u001b[49m\u001b[38;5;28;43mself\u001b[39;49m\u001b[43m.\u001b[49m\u001b[43mkwargs\u001b[49m\u001b[43m)\u001b[49m\n\u001b[32m     59\u001b[39m \u001b[38;5;28;01mexcept\u001b[39;00m \u001b[38;5;167;01mBaseException\u001b[39;00m \u001b[38;5;28;01mas\u001b[39;00m exc:\n\u001b[32m     60\u001b[39m     \u001b[38;5;28mself\u001b[39m.future.set_exception(exc)\n",
      "\u001b[36mFile \u001b[39m\u001b[32mc:\\Users\\Satyajit Samal\\OneDrive\\Desktop\\DSMP\\Ml_projects\\Uber_Demand_Prediction2\\demand\\Lib\\site-packages\\optuna\\study\\_optimize.py:161\u001b[39m, in \u001b[36m_optimize_sequential\u001b[39m\u001b[34m(study, func, n_trials, timeout, catch, callbacks, gc_after_trial, reseed_sampler_rng, time_start, progress_bar)\u001b[39m\n\u001b[32m    158\u001b[39m         \u001b[38;5;28;01mbreak\u001b[39;00m\n\u001b[32m    160\u001b[39m \u001b[38;5;28;01mtry\u001b[39;00m:\n\u001b[32m--> \u001b[39m\u001b[32m161\u001b[39m     frozen_trial = \u001b[43m_run_trial\u001b[49m\u001b[43m(\u001b[49m\u001b[43mstudy\u001b[49m\u001b[43m,\u001b[49m\u001b[43m \u001b[49m\u001b[43mfunc\u001b[49m\u001b[43m,\u001b[49m\u001b[43m \u001b[49m\u001b[43mcatch\u001b[49m\u001b[43m)\u001b[49m\n\u001b[32m    162\u001b[39m \u001b[38;5;28;01mfinally\u001b[39;00m:\n\u001b[32m    163\u001b[39m     \u001b[38;5;66;03m# The following line mitigates memory problems that can be occurred in some\u001b[39;00m\n\u001b[32m    164\u001b[39m     \u001b[38;5;66;03m# environments (e.g., services that use computing containers such as GitHub Actions).\u001b[39;00m\n\u001b[32m    165\u001b[39m     \u001b[38;5;66;03m# Please refer to the following PR for further details:\u001b[39;00m\n\u001b[32m    166\u001b[39m     \u001b[38;5;66;03m# https://github.com/optuna/optuna/pull/325.\u001b[39;00m\n\u001b[32m    167\u001b[39m     \u001b[38;5;28;01mif\u001b[39;00m gc_after_trial:\n",
      "\u001b[36mFile \u001b[39m\u001b[32mc:\\Users\\Satyajit Samal\\OneDrive\\Desktop\\DSMP\\Ml_projects\\Uber_Demand_Prediction2\\demand\\Lib\\site-packages\\optuna\\study\\_optimize.py:253\u001b[39m, in \u001b[36m_run_trial\u001b[39m\u001b[34m(study, func, catch)\u001b[39m\n\u001b[32m    246\u001b[39m         \u001b[38;5;28;01massert\u001b[39;00m \u001b[38;5;28;01mFalse\u001b[39;00m, \u001b[33m\"\u001b[39m\u001b[33mShould not reach.\u001b[39m\u001b[33m\"\u001b[39m\n\u001b[32m    248\u001b[39m \u001b[38;5;28;01mif\u001b[39;00m (\n\u001b[32m    249\u001b[39m     frozen_trial.state == TrialState.FAIL\n\u001b[32m    250\u001b[39m     \u001b[38;5;129;01mand\u001b[39;00m func_err \u001b[38;5;129;01mis\u001b[39;00m \u001b[38;5;129;01mnot\u001b[39;00m \u001b[38;5;28;01mNone\u001b[39;00m\n\u001b[32m    251\u001b[39m     \u001b[38;5;129;01mand\u001b[39;00m \u001b[38;5;129;01mnot\u001b[39;00m \u001b[38;5;28misinstance\u001b[39m(func_err, catch)\n\u001b[32m    252\u001b[39m ):\n\u001b[32m--> \u001b[39m\u001b[32m253\u001b[39m     \u001b[38;5;28;01mraise\u001b[39;00m func_err\n\u001b[32m    254\u001b[39m \u001b[38;5;28;01mreturn\u001b[39;00m frozen_trial\n",
      "\u001b[36mFile \u001b[39m\u001b[32mc:\\Users\\Satyajit Samal\\OneDrive\\Desktop\\DSMP\\Ml_projects\\Uber_Demand_Prediction2\\demand\\Lib\\site-packages\\optuna\\study\\_optimize.py:201\u001b[39m, in \u001b[36m_run_trial\u001b[39m\u001b[34m(study, func, catch)\u001b[39m\n\u001b[32m    199\u001b[39m \u001b[38;5;28;01mwith\u001b[39;00m get_heartbeat_thread(trial._trial_id, study._storage):\n\u001b[32m    200\u001b[39m     \u001b[38;5;28;01mtry\u001b[39;00m:\n\u001b[32m--> \u001b[39m\u001b[32m201\u001b[39m         value_or_values = \u001b[43mfunc\u001b[49m\u001b[43m(\u001b[49m\u001b[43mtrial\u001b[49m\u001b[43m)\u001b[49m\n\u001b[32m    202\u001b[39m     \u001b[38;5;28;01mexcept\u001b[39;00m exceptions.TrialPruned \u001b[38;5;28;01mas\u001b[39;00m e:\n\u001b[32m    203\u001b[39m         \u001b[38;5;66;03m# TODO(mamu): Handle multi-objective cases.\u001b[39;00m\n\u001b[32m    204\u001b[39m         state = TrialState.PRUNED\n",
      "\u001b[36mCell\u001b[39m\u001b[36m \u001b[39m\u001b[32mIn[57]\u001b[39m\u001b[32m, line 34\u001b[39m, in \u001b[36mobjective\u001b[39m\u001b[34m(trials)\u001b[39m\n\u001b[32m     30\u001b[39m     model= XGBRegressor(n_estimators=n_estimators_xgb,max_depth=max_depth_xgb,n_jobs=-\u001b[32m1\u001b[39m,learning_rate=learning_rate_xgb,random_state=\u001b[32m42\u001b[39m)\n\u001b[32m     32\u001b[39m \u001b[38;5;66;03m#print(model)\u001b[39;00m\n\u001b[32m     33\u001b[39m \u001b[38;5;66;03m#print(model_name)\u001b[39;00m\n\u001b[32m---> \u001b[39m\u001b[32m34\u001b[39m \u001b[43mmlflow\u001b[49m\u001b[43m.\u001b[49m\u001b[43mlog_param\u001b[49m\u001b[43m(\u001b[49m\u001b[33;43m\"\u001b[39;49m\u001b[33;43mmodel_name\u001b[39;49m\u001b[33;43m\"\u001b[39;49m\u001b[43m,\u001b[49m\u001b[43mmodel_name\u001b[49m\u001b[43m)\u001b[49m\n\u001b[32m     36\u001b[39m mlflow.log_params(model.get_params())\n\u001b[32m     38\u001b[39m model.fit(X_train_encoded,y_train)\n",
      "\u001b[36mFile \u001b[39m\u001b[32mc:\\Users\\Satyajit Samal\\OneDrive\\Desktop\\DSMP\\Ml_projects\\Uber_Demand_Prediction2\\demand\\Lib\\site-packages\\mlflow\\tracking\\fluent.py:775\u001b[39m, in \u001b[36mlog_param\u001b[39m\u001b[34m(key, value, synchronous)\u001b[39m\n\u001b[32m    773\u001b[39m run_id = _get_or_start_run().info.run_id\n\u001b[32m    774\u001b[39m synchronous = synchronous \u001b[38;5;28;01mif\u001b[39;00m synchronous \u001b[38;5;129;01mis\u001b[39;00m \u001b[38;5;129;01mnot\u001b[39;00m \u001b[38;5;28;01mNone\u001b[39;00m \u001b[38;5;28;01melse\u001b[39;00m \u001b[38;5;129;01mnot\u001b[39;00m MLFLOW_ENABLE_ASYNC_LOGGING.get()\n\u001b[32m--> \u001b[39m\u001b[32m775\u001b[39m \u001b[38;5;28;01mreturn\u001b[39;00m \u001b[43mMlflowClient\u001b[49m\u001b[43m(\u001b[49m\u001b[43m)\u001b[49m\u001b[43m.\u001b[49m\u001b[43mlog_param\u001b[49m\u001b[43m(\u001b[49m\u001b[43mrun_id\u001b[49m\u001b[43m,\u001b[49m\u001b[43m \u001b[49m\u001b[43mkey\u001b[49m\u001b[43m,\u001b[49m\u001b[43m \u001b[49m\u001b[43mvalue\u001b[49m\u001b[43m,\u001b[49m\u001b[43m \u001b[49m\u001b[43msynchronous\u001b[49m\u001b[43m=\u001b[49m\u001b[43msynchronous\u001b[49m\u001b[43m)\u001b[49m\n",
      "\u001b[36mFile \u001b[39m\u001b[32mc:\\Users\\Satyajit Samal\\OneDrive\\Desktop\\DSMP\\Ml_projects\\Uber_Demand_Prediction2\\demand\\Lib\\site-packages\\mlflow\\tracking\\client.py:2109\u001b[39m, in \u001b[36mMlflowClient.log_param\u001b[39m\u001b[34m(self, run_id, key, value, synchronous)\u001b[39m\n\u001b[32m   2105\u001b[39m synchronous = (\n\u001b[32m   2106\u001b[39m     synchronous \u001b[38;5;28;01mif\u001b[39;00m synchronous \u001b[38;5;129;01mis\u001b[39;00m \u001b[38;5;129;01mnot\u001b[39;00m \u001b[38;5;28;01mNone\u001b[39;00m \u001b[38;5;28;01melse\u001b[39;00m \u001b[38;5;129;01mnot\u001b[39;00m MLFLOW_ENABLE_ASYNC_LOGGING.get()\n\u001b[32m   2107\u001b[39m )\n\u001b[32m   2108\u001b[39m \u001b[38;5;28;01mif\u001b[39;00m synchronous:\n\u001b[32m-> \u001b[39m\u001b[32m2109\u001b[39m     \u001b[38;5;28;43mself\u001b[39;49m\u001b[43m.\u001b[49m\u001b[43m_tracking_client\u001b[49m\u001b[43m.\u001b[49m\u001b[43mlog_param\u001b[49m\u001b[43m(\u001b[49m\u001b[43mrun_id\u001b[49m\u001b[43m,\u001b[49m\u001b[43m \u001b[49m\u001b[43mkey\u001b[49m\u001b[43m,\u001b[49m\u001b[43m \u001b[49m\u001b[43mvalue\u001b[49m\u001b[43m,\u001b[49m\u001b[43m \u001b[49m\u001b[43msynchronous\u001b[49m\u001b[43m=\u001b[49m\u001b[38;5;28;43;01mTrue\u001b[39;49;00m\u001b[43m)\u001b[49m\n\u001b[32m   2110\u001b[39m     \u001b[38;5;28;01mreturn\u001b[39;00m value\n\u001b[32m   2111\u001b[39m \u001b[38;5;28;01melse\u001b[39;00m:\n",
      "\u001b[36mFile \u001b[39m\u001b[32mc:\\Users\\Satyajit Samal\\OneDrive\\Desktop\\DSMP\\Ml_projects\\Uber_Demand_Prediction2\\demand\\Lib\\site-packages\\mlflow\\tracking\\_tracking_service\\client.py:395\u001b[39m, in \u001b[36mTrackingServiceClient.log_param\u001b[39m\u001b[34m(self, run_id, key, value, synchronous)\u001b[39m\n\u001b[32m    393\u001b[39m     \u001b[38;5;28;01mraise\u001b[39;00m MlflowException(msg, INVALID_PARAMETER_VALUE)\n\u001b[32m    394\u001b[39m \u001b[38;5;28;01melse\u001b[39;00m:\n\u001b[32m--> \u001b[39m\u001b[32m395\u001b[39m     \u001b[38;5;28;01mraise\u001b[39;00m e\n",
      "\u001b[36mFile \u001b[39m\u001b[32mc:\\Users\\Satyajit Samal\\OneDrive\\Desktop\\DSMP\\Ml_projects\\Uber_Demand_Prediction2\\demand\\Lib\\site-packages\\mlflow\\tracking\\_tracking_service\\client.py:386\u001b[39m, in \u001b[36mTrackingServiceClient.log_param\u001b[39m\u001b[34m(self, run_id, key, value, synchronous)\u001b[39m\n\u001b[32m    384\u001b[39m \u001b[38;5;28;01mtry\u001b[39;00m:\n\u001b[32m    385\u001b[39m     \u001b[38;5;28;01mif\u001b[39;00m synchronous:\n\u001b[32m--> \u001b[39m\u001b[32m386\u001b[39m         \u001b[38;5;28;43mself\u001b[39;49m\u001b[43m.\u001b[49m\u001b[43mstore\u001b[49m\u001b[43m.\u001b[49m\u001b[43mlog_param\u001b[49m\u001b[43m(\u001b[49m\u001b[43mrun_id\u001b[49m\u001b[43m,\u001b[49m\u001b[43m \u001b[49m\u001b[43mparam\u001b[49m\u001b[43m)\u001b[49m\n\u001b[32m    387\u001b[39m         \u001b[38;5;28;01mreturn\u001b[39;00m value\n\u001b[32m    388\u001b[39m     \u001b[38;5;28;01melse\u001b[39;00m:\n",
      "\u001b[36mFile \u001b[39m\u001b[32mc:\\Users\\Satyajit Samal\\OneDrive\\Desktop\\DSMP\\Ml_projects\\Uber_Demand_Prediction2\\demand\\Lib\\site-packages\\mlflow\\store\\tracking\\rest_store.py:767\u001b[39m, in \u001b[36mRestStore.log_param\u001b[39m\u001b[34m(self, run_id, param)\u001b[39m\n\u001b[32m    757\u001b[39m \u001b[38;5;250m\u001b[39m\u001b[33;03m\"\"\"\u001b[39;00m\n\u001b[32m    758\u001b[39m \u001b[33;03mLog a param for the specified run\u001b[39;00m\n\u001b[32m    759\u001b[39m \n\u001b[32m   (...)\u001b[39m\u001b[32m    762\u001b[39m \u001b[33;03m    param: Param instance to log\u001b[39;00m\n\u001b[32m    763\u001b[39m \u001b[33;03m\"\"\"\u001b[39;00m\n\u001b[32m    764\u001b[39m req_body = message_to_json(\n\u001b[32m    765\u001b[39m     LogParam(run_uuid=run_id, run_id=run_id, key=param.key, value=param.value)\n\u001b[32m    766\u001b[39m )\n\u001b[32m--> \u001b[39m\u001b[32m767\u001b[39m \u001b[38;5;28;43mself\u001b[39;49m\u001b[43m.\u001b[49m\u001b[43m_call_endpoint\u001b[49m\u001b[43m(\u001b[49m\u001b[43mLogParam\u001b[49m\u001b[43m,\u001b[49m\u001b[43m \u001b[49m\u001b[43mreq_body\u001b[49m\u001b[43m)\u001b[49m\n",
      "\u001b[36mFile \u001b[39m\u001b[32mc:\\Users\\Satyajit Samal\\OneDrive\\Desktop\\DSMP\\Ml_projects\\Uber_Demand_Prediction2\\demand\\Lib\\site-packages\\mlflow\\store\\tracking\\rest_store.py:135\u001b[39m, in \u001b[36mRestStore._call_endpoint\u001b[39m\u001b[34m(self, api, json_body, endpoint, retry_timeout_seconds)\u001b[39m\n\u001b[32m    133\u001b[39m     endpoint, method = _METHOD_TO_INFO[api]\n\u001b[32m    134\u001b[39m response_proto = api.Response()\n\u001b[32m--> \u001b[39m\u001b[32m135\u001b[39m \u001b[38;5;28;01mreturn\u001b[39;00m \u001b[43mcall_endpoint\u001b[49m\u001b[43m(\u001b[49m\n\u001b[32m    136\u001b[39m \u001b[43m    \u001b[49m\u001b[38;5;28;43mself\u001b[39;49m\u001b[43m.\u001b[49m\u001b[43mget_host_creds\u001b[49m\u001b[43m(\u001b[49m\u001b[43m)\u001b[49m\u001b[43m,\u001b[49m\n\u001b[32m    137\u001b[39m \u001b[43m    \u001b[49m\u001b[43mendpoint\u001b[49m\u001b[43m,\u001b[49m\n\u001b[32m    138\u001b[39m \u001b[43m    \u001b[49m\u001b[43mmethod\u001b[49m\u001b[43m,\u001b[49m\n\u001b[32m    139\u001b[39m \u001b[43m    \u001b[49m\u001b[43mjson_body\u001b[49m\u001b[43m,\u001b[49m\n\u001b[32m    140\u001b[39m \u001b[43m    \u001b[49m\u001b[43mresponse_proto\u001b[49m\u001b[43m,\u001b[49m\n\u001b[32m    141\u001b[39m \u001b[43m    \u001b[49m\u001b[43mretry_timeout_seconds\u001b[49m\u001b[43m=\u001b[49m\u001b[43mretry_timeout_seconds\u001b[49m\u001b[43m,\u001b[49m\n\u001b[32m    142\u001b[39m \u001b[43m\u001b[49m\u001b[43m)\u001b[49m\n",
      "\u001b[36mFile \u001b[39m\u001b[32mc:\\Users\\Satyajit Samal\\OneDrive\\Desktop\\DSMP\\Ml_projects\\Uber_Demand_Prediction2\\demand\\Lib\\site-packages\\mlflow\\utils\\rest_utils.py:592\u001b[39m, in \u001b[36mcall_endpoint\u001b[39m\u001b[34m(host_creds, endpoint, method, json_body, response_proto, extra_headers, retry_timeout_seconds)\u001b[39m\n\u001b[32m    590\u001b[39m \u001b[38;5;28;01melse\u001b[39;00m:\n\u001b[32m    591\u001b[39m     call_kwargs[\u001b[33m\"\u001b[39m\u001b[33mjson\u001b[39m\u001b[33m\"\u001b[39m] = json_body\n\u001b[32m--> \u001b[39m\u001b[32m592\u001b[39m     response = \u001b[43mhttp_request\u001b[49m\u001b[43m(\u001b[49m\u001b[43m*\u001b[49m\u001b[43m*\u001b[49m\u001b[43mcall_kwargs\u001b[49m\u001b[43m)\u001b[49m\n\u001b[32m    594\u001b[39m response = verify_rest_response(response, endpoint)\n\u001b[32m    595\u001b[39m response_to_parse = response.text\n",
      "\u001b[36mFile \u001b[39m\u001b[32mc:\\Users\\Satyajit Samal\\OneDrive\\Desktop\\DSMP\\Ml_projects\\Uber_Demand_Prediction2\\demand\\Lib\\site-packages\\mlflow\\utils\\rest_utils.py:253\u001b[39m, in \u001b[36mhttp_request\u001b[39m\u001b[34m(host_creds, endpoint, method, max_retries, backoff_factor, backoff_jitter, extra_headers, retry_codes, timeout, raise_on_status, respect_retry_after_header, retry_timeout_seconds, **kwargs)\u001b[39m\n\u001b[32m    251\u001b[39m     \u001b[38;5;28;01mraise\u001b[39;00m InvalidUrlException(\u001b[33mf\u001b[39m\u001b[33m\"\u001b[39m\u001b[33mInvalid url: \u001b[39m\u001b[38;5;132;01m{\u001b[39;00murl\u001b[38;5;132;01m}\u001b[39;00m\u001b[33m\"\u001b[39m) \u001b[38;5;28;01mfrom\u001b[39;00m\u001b[38;5;250m \u001b[39m\u001b[34;01miu\u001b[39;00m\n\u001b[32m    252\u001b[39m \u001b[38;5;28;01mexcept\u001b[39;00m \u001b[38;5;167;01mException\u001b[39;00m \u001b[38;5;28;01mas\u001b[39;00m e:\n\u001b[32m--> \u001b[39m\u001b[32m253\u001b[39m     \u001b[38;5;28;01mraise\u001b[39;00m MlflowException(\u001b[33mf\u001b[39m\u001b[33m\"\u001b[39m\u001b[33mAPI request to \u001b[39m\u001b[38;5;132;01m{\u001b[39;00murl\u001b[38;5;132;01m}\u001b[39;00m\u001b[33m failed with exception \u001b[39m\u001b[38;5;132;01m{\u001b[39;00me\u001b[38;5;132;01m}\u001b[39;00m\u001b[33m\"\u001b[39m)\n",
      "\u001b[31mMlflowException\u001b[39m: API request to https://dagshub.com/satyajitsamal198076/Uber_Demand_Prediction2.mlflow/api/2.0/mlflow/runs/log-parameter failed with exception HTTPSConnectionPool(host='dagshub.com', port=443): Max retries exceeded with url: /satyajitsamal198076/Uber_Demand_Prediction2.mlflow/api/2.0/mlflow/runs/log-parameter (Caused by ResponseError('too many 429 error responses'))"
     ]
    }
   ],
   "source": [
    "with mlflow.start_run(run_name=\"best_model\",nested=True) as parent:\n",
    "    study=optuna.create_study(study_name=\"Model_selection\",direction=\"minimize\")\n",
    "    study.optimize(objective,n_trials=70,n_jobs=-1)\n",
    "    \n",
    "    mlflow.log_params(study.best_params)\n",
    "    \n",
    "    mlflow.log_metric(\"BEST_MAPE\",study.best_value)"
   ]
  },
  {
   "cell_type": "code",
   "execution_count": 42,
   "id": "ead74b38",
   "metadata": {},
   "outputs": [
    {
     "data": {
      "text/plain": [
       "0.06614289352405726"
      ]
     },
     "execution_count": 42,
     "metadata": {},
     "output_type": "execute_result"
    }
   ],
   "source": [
    "study.best_value"
   ]
  },
  {
   "cell_type": "code",
   "execution_count": 44,
   "id": "9b1c3ada",
   "metadata": {},
   "outputs": [
    {
     "data": {
      "text/plain": [
       "{'model_name': 'RF', 'n_estimators_rf': 100, 'max_depth_rf': 15}"
      ]
     },
     "execution_count": 44,
     "metadata": {},
     "output_type": "execute_result"
    }
   ],
   "source": [
    "study.best_params"
   ]
  },
  {
   "cell_type": "code",
   "execution_count": 43,
   "id": "b87d1efc",
   "metadata": {},
   "outputs": [
    {
     "data": {
      "text/plain": [
       "params_model_name\n",
       "RF      31\n",
       "RID     12\n",
       "LR      12\n",
       "GBR     10\n",
       "XGBR     5\n",
       "Name: count, dtype: int64"
      ]
     },
     "execution_count": 43,
     "metadata": {},
     "output_type": "execute_result"
    }
   ],
   "source": [
    "study.trials_dataframe()['params_model_name'].value_counts()"
   ]
  },
  {
   "cell_type": "code",
   "execution_count": 47,
   "id": "9d399c71",
   "metadata": {},
   "outputs": [],
   "source": [
    "from optuna.visualization import plot_optimization_history,plot_parallel_coordinate,plot_param_importances"
   ]
  },
  {
   "cell_type": "code",
   "execution_count": 56,
   "id": "a600a608",
   "metadata": {},
   "outputs": [
    {
     "name": "stdout",
     "output_type": "stream",
     "text": [
      "Collecting plotly\n",
      "  Downloading plotly-6.2.0-py3-none-any.whl.metadata (8.5 kB)\n",
      "Requirement already satisfied: narwhals>=1.15.1 in c:\\users\\satyajit samal\\onedrive\\desktop\\dsmp\\ml_projects\\uber_demand_prediction2\\demand\\lib\\site-packages (from plotly) (2.0.1)\n",
      "Requirement already satisfied: packaging in c:\\users\\satyajit samal\\onedrive\\desktop\\dsmp\\ml_projects\\uber_demand_prediction2\\demand\\lib\\site-packages (from plotly) (25.0)\n",
      "Downloading plotly-6.2.0-py3-none-any.whl (9.6 MB)\n",
      "   ---------------------------------------- 0.0/9.6 MB ? eta -:--:--\n",
      "   ---------------------------------------- 0.0/9.6 MB ? eta -:--:--\n",
      "   ---------------------------------------- 0.0/9.6 MB ? eta -:--:--\n",
      "   ---------------------------------------- 0.0/9.6 MB ? eta -:--:--\n",
      "   - -------------------------------------- 0.3/9.6 MB ? eta -:--:--\n",
      "   - -------------------------------------- 0.3/9.6 MB ? eta -:--:--\n",
      "   - -------------------------------------- 0.3/9.6 MB ? eta -:--:--\n",
      "   - -------------------------------------- 0.3/9.6 MB ? eta -:--:--\n",
      "   - -------------------------------------- 0.3/9.6 MB ? eta -:--:--\n",
      "   - -------------------------------------- 0.3/9.6 MB ? eta -:--:--\n",
      "   - -------------------------------------- 0.3/9.6 MB ? eta -:--:--\n",
      "   - -------------------------------------- 0.3/9.6 MB ? eta -:--:--\n",
      "   -- ------------------------------------- 0.5/9.6 MB 153.9 kB/s eta 0:01:00\n",
      "   -- ------------------------------------- 0.5/9.6 MB 153.9 kB/s eta 0:01:00\n",
      "   -- ------------------------------------- 0.5/9.6 MB 153.9 kB/s eta 0:01:00\n",
      "   -- ------------------------------------- 0.5/9.6 MB 153.9 kB/s eta 0:01:00\n",
      "   -- ------------------------------------- 0.5/9.6 MB 153.9 kB/s eta 0:01:00\n",
      "   -- ------------------------------------- 0.5/9.6 MB 153.9 kB/s eta 0:01:00\n",
      "   -- ------------------------------------- 0.5/9.6 MB 153.9 kB/s eta 0:01:00\n",
      "   -- ------------------------------------- 0.5/9.6 MB 153.9 kB/s eta 0:01:00\n",
      "   -- ------------------------------------- 0.5/9.6 MB 153.9 kB/s eta 0:01:00\n",
      "   -- ------------------------------------- 0.5/9.6 MB 153.9 kB/s eta 0:01:00\n",
      "   -- ------------------------------------- 0.5/9.6 MB 153.9 kB/s eta 0:01:00\n",
      "   -- ------------------------------------- 0.5/9.6 MB 153.9 kB/s eta 0:01:00\n",
      "   -- ------------------------------------- 0.5/9.6 MB 153.9 kB/s eta 0:01:00\n",
      "   -- ------------------------------------- 0.5/9.6 MB 153.9 kB/s eta 0:01:00\n",
      "   -- ------------------------------------- 0.5/9.6 MB 153.9 kB/s eta 0:01:00\n",
      "   -- ------------------------------------- 0.5/9.6 MB 153.9 kB/s eta 0:01:00\n",
      "   -- ------------------------------------- 0.5/9.6 MB 153.9 kB/s eta 0:01:00\n",
      "   -- ------------------------------------- 0.5/9.6 MB 153.9 kB/s eta 0:01:00\n",
      "   --- ------------------------------------ 0.8/9.6 MB 96.1 kB/s eta 0:01:33\n",
      "   --- ------------------------------------ 0.8/9.6 MB 96.1 kB/s eta 0:01:33\n",
      "   --- ------------------------------------ 0.8/9.6 MB 96.1 kB/s eta 0:01:33\n",
      "   --- ------------------------------------ 0.8/9.6 MB 96.1 kB/s eta 0:01:33\n",
      "   --- ------------------------------------ 0.8/9.6 MB 96.1 kB/s eta 0:01:33\n",
      "   --- ------------------------------------ 0.8/9.6 MB 96.1 kB/s eta 0:01:33\n",
      "   --- ------------------------------------ 0.8/9.6 MB 96.1 kB/s eta 0:01:33\n",
      "   --- ------------------------------------ 0.8/9.6 MB 96.1 kB/s eta 0:01:33\n",
      "   --- ------------------------------------ 0.8/9.6 MB 96.1 kB/s eta 0:01:33\n",
      "   --- ------------------------------------ 0.8/9.6 MB 96.1 kB/s eta 0:01:33\n",
      "   --- ------------------------------------ 0.8/9.6 MB 96.1 kB/s eta 0:01:33\n",
      "   --- ------------------------------------ 0.8/9.6 MB 96.1 kB/s eta 0:01:33\n",
      "   --- ------------------------------------ 0.8/9.6 MB 96.1 kB/s eta 0:01:33\n",
      "   ---- ----------------------------------- 1.0/9.6 MB 97.5 kB/s eta 0:01:29\n",
      "   ---- ----------------------------------- 1.0/9.6 MB 97.5 kB/s eta 0:01:29\n",
      "   ---- ----------------------------------- 1.0/9.6 MB 97.5 kB/s eta 0:01:29\n",
      "   ---- ----------------------------------- 1.0/9.6 MB 97.5 kB/s eta 0:01:29\n",
      "   ---- ----------------------------------- 1.0/9.6 MB 97.5 kB/s eta 0:01:29\n",
      "   ---- ----------------------------------- 1.0/9.6 MB 97.5 kB/s eta 0:01:29\n",
      "   ---- ----------------------------------- 1.0/9.6 MB 97.5 kB/s eta 0:01:29\n",
      "   ---- ----------------------------------- 1.0/9.6 MB 97.5 kB/s eta 0:01:29\n",
      "   ---- ----------------------------------- 1.0/9.6 MB 97.5 kB/s eta 0:01:29\n",
      "   ---- ----------------------------------- 1.0/9.6 MB 97.5 kB/s eta 0:01:29\n",
      "   ---- ----------------------------------- 1.0/9.6 MB 97.5 kB/s eta 0:01:29\n",
      "   ----- ---------------------------------- 1.3/9.6 MB 100.0 kB/s eta 0:01:24\n",
      "   ----- ---------------------------------- 1.3/9.6 MB 100.0 kB/s eta 0:01:24\n",
      "   ----- ---------------------------------- 1.3/9.6 MB 100.0 kB/s eta 0:01:24\n",
      "   ----- ---------------------------------- 1.3/9.6 MB 100.0 kB/s eta 0:01:24\n",
      "   ----- ---------------------------------- 1.3/9.6 MB 100.0 kB/s eta 0:01:24\n",
      "   ----- ---------------------------------- 1.3/9.6 MB 100.0 kB/s eta 0:01:24\n",
      "   ----- ---------------------------------- 1.3/9.6 MB 100.0 kB/s eta 0:01:24\n",
      "   ----- ---------------------------------- 1.3/9.6 MB 100.0 kB/s eta 0:01:24\n",
      "   ------ --------------------------------- 1.6/9.6 MB 107.4 kB/s eta 0:01:16\n",
      "   ------ --------------------------------- 1.6/9.6 MB 107.4 kB/s eta 0:01:16\n",
      "   ------- -------------------------------- 1.8/9.6 MB 125.4 kB/s eta 0:01:03\n",
      "   -------- ------------------------------- 2.1/9.6 MB 142.7 kB/s eta 0:00:53\n",
      "   -------- ------------------------------- 2.1/9.6 MB 142.7 kB/s eta 0:00:53\n",
      "   -------- ------------------------------- 2.1/9.6 MB 142.7 kB/s eta 0:00:53\n",
      "   -------- ------------------------------- 2.1/9.6 MB 142.7 kB/s eta 0:00:53\n",
      "   --------- ------------------------------ 2.4/9.6 MB 153.7 kB/s eta 0:00:48\n",
      "   --------- ------------------------------ 2.4/9.6 MB 153.7 kB/s eta 0:00:48\n",
      "   --------- ------------------------------ 2.4/9.6 MB 153.7 kB/s eta 0:00:48\n",
      "   --------- ------------------------------ 2.4/9.6 MB 153.7 kB/s eta 0:00:48\n",
      "   ---------- ----------------------------- 2.6/9.6 MB 163.1 kB/s eta 0:00:44\n",
      "   ---------- ----------------------------- 2.6/9.6 MB 163.1 kB/s eta 0:00:44\n",
      "   ---------- ----------------------------- 2.6/9.6 MB 163.1 kB/s eta 0:00:44\n",
      "   ----------- ---------------------------- 2.9/9.6 MB 173.0 kB/s eta 0:00:40\n",
      "   ----------- ---------------------------- 2.9/9.6 MB 173.0 kB/s eta 0:00:40\n",
      "   ----------- ---------------------------- 2.9/9.6 MB 173.0 kB/s eta 0:00:40\n",
      "   ----------- ---------------------------- 2.9/9.6 MB 173.0 kB/s eta 0:00:40\n",
      "   ----------- ---------------------------- 2.9/9.6 MB 173.0 kB/s eta 0:00:40\n",
      "   ----------- ---------------------------- 2.9/9.6 MB 173.0 kB/s eta 0:00:40\n",
      "   ----------- ---------------------------- 2.9/9.6 MB 173.0 kB/s eta 0:00:40\n",
      "   ----------- ---------------------------- 2.9/9.6 MB 173.0 kB/s eta 0:00:40\n",
      "   ----------- ---------------------------- 2.9/9.6 MB 173.0 kB/s eta 0:00:40\n",
      "   ----------- ---------------------------- 2.9/9.6 MB 173.0 kB/s eta 0:00:40\n",
      "   ----------- ---------------------------- 2.9/9.6 MB 173.0 kB/s eta 0:00:40\n",
      "   ----------- ---------------------------- 2.9/9.6 MB 173.0 kB/s eta 0:00:40\n",
      "   ------------- -------------------------- 3.1/9.6 MB 163.6 kB/s eta 0:00:40\n",
      "   ------------- -------------------------- 3.1/9.6 MB 163.6 kB/s eta 0:00:40\n",
      "   ------------- -------------------------- 3.1/9.6 MB 163.6 kB/s eta 0:00:40\n",
      "   ------------- -------------------------- 3.1/9.6 MB 163.6 kB/s eta 0:00:40\n",
      "   ------------- -------------------------- 3.1/9.6 MB 163.6 kB/s eta 0:00:40\n",
      "   ------------- -------------------------- 3.1/9.6 MB 163.6 kB/s eta 0:00:40\n",
      "   ------------- -------------------------- 3.1/9.6 MB 163.6 kB/s eta 0:00:40\n",
      "   -------------- ------------------------- 3.4/9.6 MB 164.5 kB/s eta 0:00:38\n",
      "   -------------- ------------------------- 3.4/9.6 MB 164.5 kB/s eta 0:00:38\n",
      "   -------------- ------------------------- 3.4/9.6 MB 164.5 kB/s eta 0:00:38\n",
      "   -------------- ------------------------- 3.4/9.6 MB 164.5 kB/s eta 0:00:38\n",
      "   -------------- ------------------------- 3.4/9.6 MB 164.5 kB/s eta 0:00:38\n",
      "   -------------- ------------------------- 3.4/9.6 MB 164.5 kB/s eta 0:00:38\n",
      "   -------------- ------------------------- 3.4/9.6 MB 164.5 kB/s eta 0:00:38\n",
      "   --------------- ------------------------ 3.7/9.6 MB 164.5 kB/s eta 0:00:37\n",
      "   --------------- ------------------------ 3.7/9.6 MB 164.5 kB/s eta 0:00:37\n",
      "   --------------- ------------------------ 3.7/9.6 MB 164.5 kB/s eta 0:00:37\n",
      "   --------------- ------------------------ 3.7/9.6 MB 164.5 kB/s eta 0:00:37\n",
      "   --------------- ------------------------ 3.7/9.6 MB 164.5 kB/s eta 0:00:37\n",
      "   --------------- ------------------------ 3.7/9.6 MB 164.5 kB/s eta 0:00:37\n",
      "   --------------- ------------------------ 3.7/9.6 MB 164.5 kB/s eta 0:00:37\n",
      "   --------------- ------------------------ 3.7/9.6 MB 164.5 kB/s eta 0:00:37\n",
      "   ---------------- ----------------------- 3.9/9.6 MB 163.5 kB/s eta 0:00:35\n",
      "   ---------------- ----------------------- 3.9/9.6 MB 163.5 kB/s eta 0:00:35\n",
      "   ---------------- ----------------------- 3.9/9.6 MB 163.5 kB/s eta 0:00:35\n",
      "   ---------------- ----------------------- 3.9/9.6 MB 163.5 kB/s eta 0:00:35\n",
      "   ---------------- ----------------------- 3.9/9.6 MB 163.5 kB/s eta 0:00:35\n",
      "   ---------------- ----------------------- 3.9/9.6 MB 163.5 kB/s eta 0:00:35\n",
      "   ----------------- ---------------------- 4.2/9.6 MB 166.0 kB/s eta 0:00:33\n",
      "   ----------------- ---------------------- 4.2/9.6 MB 166.0 kB/s eta 0:00:33\n",
      "   ----------------- ---------------------- 4.2/9.6 MB 166.0 kB/s eta 0:00:33\n",
      "   ----------------- ---------------------- 4.2/9.6 MB 166.0 kB/s eta 0:00:33\n",
      "   ----------------- ---------------------- 4.2/9.6 MB 166.0 kB/s eta 0:00:33\n",
      "   ------------------ --------------------- 4.5/9.6 MB 170.8 kB/s eta 0:00:31\n",
      "   ------------------ --------------------- 4.5/9.6 MB 170.8 kB/s eta 0:00:31\n",
      "   ------------------ --------------------- 4.5/9.6 MB 170.8 kB/s eta 0:00:31\n",
      "   ------------------ --------------------- 4.5/9.6 MB 170.8 kB/s eta 0:00:31\n",
      "   ------------------- -------------------- 4.7/9.6 MB 174.0 kB/s eta 0:00:29\n",
      "   ------------------- -------------------- 4.7/9.6 MB 174.0 kB/s eta 0:00:29\n",
      "   ------------------- -------------------- 4.7/9.6 MB 174.0 kB/s eta 0:00:29\n",
      "   ------------------- -------------------- 4.7/9.6 MB 174.0 kB/s eta 0:00:29\n",
      "   ------------------- -------------------- 4.7/9.6 MB 174.0 kB/s eta 0:00:29\n",
      "   ------------------- -------------------- 4.7/9.6 MB 174.0 kB/s eta 0:00:29\n",
      "   ------------------- -------------------- 4.7/9.6 MB 174.0 kB/s eta 0:00:29\n",
      "   ------------------- -------------------- 4.7/9.6 MB 174.0 kB/s eta 0:00:29\n",
      "   ------------------- -------------------- 4.7/9.6 MB 174.0 kB/s eta 0:00:29\n",
      "   -------------------- ------------------- 5.0/9.6 MB 172.3 kB/s eta 0:00:28\n",
      "   -------------------- ------------------- 5.0/9.6 MB 172.3 kB/s eta 0:00:28\n",
      "   -------------------- ------------------- 5.0/9.6 MB 172.3 kB/s eta 0:00:28\n",
      "   -------------------- ------------------- 5.0/9.6 MB 172.3 kB/s eta 0:00:28\n",
      "   -------------------- ------------------- 5.0/9.6 MB 172.3 kB/s eta 0:00:28\n",
      "   -------------------- ------------------- 5.0/9.6 MB 172.3 kB/s eta 0:00:28\n",
      "   -------------------- ------------------- 5.0/9.6 MB 172.3 kB/s eta 0:00:28\n",
      "   -------------------- ------------------- 5.0/9.6 MB 172.3 kB/s eta 0:00:28\n",
      "   -------------------- ------------------- 5.0/9.6 MB 172.3 kB/s eta 0:00:28\n",
      "   -------------------- ------------------- 5.0/9.6 MB 172.3 kB/s eta 0:00:28\n",
      "   -------------------- ------------------- 5.0/9.6 MB 172.3 kB/s eta 0:00:28\n",
      "   -------------------- ------------------- 5.0/9.6 MB 172.3 kB/s eta 0:00:28\n",
      "   --------------------- ------------------ 5.2/9.6 MB 166.6 kB/s eta 0:00:27\n",
      "   --------------------- ------------------ 5.2/9.6 MB 166.6 kB/s eta 0:00:27\n",
      "   --------------------- ------------------ 5.2/9.6 MB 166.6 kB/s eta 0:00:27\n",
      "   --------------------- ------------------ 5.2/9.6 MB 166.6 kB/s eta 0:00:27\n",
      "   --------------------- ------------------ 5.2/9.6 MB 166.6 kB/s eta 0:00:27\n",
      "   --------------------- ------------------ 5.2/9.6 MB 166.6 kB/s eta 0:00:27\n",
      "   --------------------- ------------------ 5.2/9.6 MB 166.6 kB/s eta 0:00:27\n",
      "   --------------------- ------------------ 5.2/9.6 MB 166.6 kB/s eta 0:00:27\n",
      "   --------------------- ------------------ 5.2/9.6 MB 166.6 kB/s eta 0:00:27\n",
      "   --------------------- ------------------ 5.2/9.6 MB 166.6 kB/s eta 0:00:27\n",
      "   --------------------- ------------------ 5.2/9.6 MB 166.6 kB/s eta 0:00:27\n",
      "   --------------------- ------------------ 5.2/9.6 MB 166.6 kB/s eta 0:00:27\n",
      "   --------------------- ------------------ 5.2/9.6 MB 166.6 kB/s eta 0:00:27\n",
      "   --------------------- ------------------ 5.2/9.6 MB 166.6 kB/s eta 0:00:27\n",
      "   --------------------- ------------------ 5.2/9.6 MB 166.6 kB/s eta 0:00:27\n",
      "   --------------------- ------------------ 5.2/9.6 MB 166.6 kB/s eta 0:00:27\n",
      "   --------------------- ------------------ 5.2/9.6 MB 166.6 kB/s eta 0:00:27\n",
      "   ---------------------- ----------------- 5.5/9.6 MB 167.6 kB/s eta 0:00:25\n",
      "   ---------------------- ----------------- 5.5/9.6 MB 167.6 kB/s eta 0:00:25\n",
      "   ---------------------- ----------------- 5.5/9.6 MB 167.6 kB/s eta 0:00:25\n",
      "   ---------------------- ----------------- 5.5/9.6 MB 167.6 kB/s eta 0:00:25\n",
      "   ---------------------- ----------------- 5.5/9.6 MB 167.6 kB/s eta 0:00:25\n",
      "   ---------------------- ----------------- 5.5/9.6 MB 167.6 kB/s eta 0:00:25\n",
      "   ---------------------- ----------------- 5.5/9.6 MB 167.6 kB/s eta 0:00:25\n",
      "   ---------------------- ----------------- 5.5/9.6 MB 167.6 kB/s eta 0:00:25\n",
      "   ---------------------- ----------------- 5.5/9.6 MB 167.6 kB/s eta 0:00:25\n",
      "   ---------------------- ----------------- 5.5/9.6 MB 167.6 kB/s eta 0:00:25\n",
      "   ---------------------- ----------------- 5.5/9.6 MB 167.6 kB/s eta 0:00:25\n",
      "   ---------------------- ----------------- 5.5/9.6 MB 167.6 kB/s eta 0:00:25\n",
      "   ---------------------- ----------------- 5.5/9.6 MB 167.6 kB/s eta 0:00:25\n",
      "   ---------------------- ----------------- 5.5/9.6 MB 167.6 kB/s eta 0:00:25\n",
      "   ---------------------- ----------------- 5.5/9.6 MB 167.6 kB/s eta 0:00:25\n",
      "   ---------------------- ----------------- 5.5/9.6 MB 167.6 kB/s eta 0:00:25\n",
      "   ---------------------- ----------------- 5.5/9.6 MB 167.6 kB/s eta 0:00:25\n",
      "   ---------------------- ----------------- 5.5/9.6 MB 167.6 kB/s eta 0:00:25\n",
      "   ---------------------- ----------------- 5.5/9.6 MB 167.6 kB/s eta 0:00:25\n",
      "   ---------------------- ----------------- 5.5/9.6 MB 167.6 kB/s eta 0:00:25\n",
      "   ----------------------- ---------------- 5.8/9.6 MB 157.9 kB/s eta 0:00:25\n",
      "   ----------------------- ---------------- 5.8/9.6 MB 157.9 kB/s eta 0:00:25\n",
      "   ----------------------- ---------------- 5.8/9.6 MB 157.9 kB/s eta 0:00:25\n",
      "   ----------------------- ---------------- 5.8/9.6 MB 157.9 kB/s eta 0:00:25\n",
      "   ----------------------- ---------------- 5.8/9.6 MB 157.9 kB/s eta 0:00:25\n",
      "   ----------------------- ---------------- 5.8/9.6 MB 157.9 kB/s eta 0:00:25\n",
      "   ----------------------- ---------------- 5.8/9.6 MB 157.9 kB/s eta 0:00:25\n",
      "   ----------------------- ---------------- 5.8/9.6 MB 157.9 kB/s eta 0:00:25\n",
      "   ----------------------- ---------------- 5.8/9.6 MB 157.9 kB/s eta 0:00:25\n",
      "   ------------------------- -------------- 6.0/9.6 MB 161.7 kB/s eta 0:00:23\n",
      "   ------------------------- -------------- 6.0/9.6 MB 161.7 kB/s eta 0:00:23\n",
      "   ------------------------- -------------- 6.0/9.6 MB 161.7 kB/s eta 0:00:23\n",
      "   ------------------------- -------------- 6.0/9.6 MB 161.7 kB/s eta 0:00:23\n",
      "   ------------------------- -------------- 6.0/9.6 MB 161.7 kB/s eta 0:00:23\n",
      "   ------------------------- -------------- 6.0/9.6 MB 161.7 kB/s eta 0:00:23\n",
      "   ------------------------- -------------- 6.0/9.6 MB 161.7 kB/s eta 0:00:23\n",
      "   -------------------------- ------------- 6.3/9.6 MB 161.8 kB/s eta 0:00:21\n",
      "   -------------------------- ------------- 6.3/9.6 MB 161.8 kB/s eta 0:00:21\n",
      "   -------------------------- ------------- 6.3/9.6 MB 161.8 kB/s eta 0:00:21\n",
      "   -------------------------- ------------- 6.3/9.6 MB 161.8 kB/s eta 0:00:21\n",
      "   -------------------------- ------------- 6.3/9.6 MB 161.8 kB/s eta 0:00:21\n",
      "   -------------------------- ------------- 6.3/9.6 MB 161.8 kB/s eta 0:00:21\n",
      "   -------------------------- ------------- 6.3/9.6 MB 161.8 kB/s eta 0:00:21\n",
      "   --------------------------- ------------ 6.6/9.6 MB 148.8 kB/s eta 0:00:21\n",
      "   --------------------------- ------------ 6.6/9.6 MB 148.8 kB/s eta 0:00:21\n",
      "   --------------------------- ------------ 6.6/9.6 MB 148.8 kB/s eta 0:00:21\n",
      "   --------------------------- ------------ 6.6/9.6 MB 148.8 kB/s eta 0:00:21\n",
      "   --------------------------- ------------ 6.6/9.6 MB 148.8 kB/s eta 0:00:21\n",
      "   --------------------------- ------------ 6.6/9.6 MB 148.8 kB/s eta 0:00:21\n",
      "   --------------------------- ------------ 6.6/9.6 MB 148.8 kB/s eta 0:00:21\n",
      "   --------------------------- ------------ 6.6/9.6 MB 148.8 kB/s eta 0:00:21\n",
      "   --------------------------- ------------ 6.6/9.6 MB 148.8 kB/s eta 0:00:21\n",
      "   ---------------------------- ----------- 6.8/9.6 MB 133.3 kB/s eta 0:00:22\n",
      "   ---------------------------- ----------- 6.8/9.6 MB 133.3 kB/s eta 0:00:22\n",
      "   ---------------------------- ----------- 6.8/9.6 MB 133.3 kB/s eta 0:00:22\n",
      "   ---------------------------- ----------- 6.8/9.6 MB 133.3 kB/s eta 0:00:22\n",
      "   ---------------------------- ----------- 6.8/9.6 MB 133.3 kB/s eta 0:00:22\n",
      "   ---------------------------- ----------- 6.8/9.6 MB 133.3 kB/s eta 0:00:22\n",
      "   ---------------------------- ----------- 6.8/9.6 MB 133.3 kB/s eta 0:00:22\n",
      "   ---------------------------- ----------- 6.8/9.6 MB 133.3 kB/s eta 0:00:22\n",
      "   ---------------------------- ----------- 6.8/9.6 MB 133.3 kB/s eta 0:00:22\n",
      "   ---------------------------- ----------- 6.8/9.6 MB 133.3 kB/s eta 0:00:22\n",
      "   ---------------------------- ----------- 6.8/9.6 MB 133.3 kB/s eta 0:00:22\n",
      "   ----------------------------- ---------- 7.1/9.6 MB 134.4 kB/s eta 0:00:20\n",
      "   ----------------------------- ---------- 7.1/9.6 MB 134.4 kB/s eta 0:00:20\n",
      "   ----------------------------- ---------- 7.1/9.6 MB 134.4 kB/s eta 0:00:20\n",
      "   ----------------------------- ---------- 7.1/9.6 MB 134.4 kB/s eta 0:00:20\n",
      "   ----------------------------- ---------- 7.1/9.6 MB 134.4 kB/s eta 0:00:20\n",
      "   ------------------------------ --------- 7.3/9.6 MB 136.5 kB/s eta 0:00:17\n",
      "   ------------------------------ --------- 7.3/9.6 MB 136.5 kB/s eta 0:00:17\n",
      "   ------------------------------ --------- 7.3/9.6 MB 136.5 kB/s eta 0:00:17\n",
      "   ------------------------------ --------- 7.3/9.6 MB 136.5 kB/s eta 0:00:17\n",
      "   ------------------------------ --------- 7.3/9.6 MB 136.5 kB/s eta 0:00:17\n",
      "   ------------------------------ --------- 7.3/9.6 MB 136.5 kB/s eta 0:00:17\n",
      "   ------------------------------ --------- 7.3/9.6 MB 136.5 kB/s eta 0:00:17\n",
      "   ------------------------------ --------- 7.3/9.6 MB 136.5 kB/s eta 0:00:17\n",
      "   ------------------------------ --------- 7.3/9.6 MB 136.5 kB/s eta 0:00:17\n",
      "   ------------------------------ --------- 7.3/9.6 MB 136.5 kB/s eta 0:00:17\n",
      "   ------------------------------ --------- 7.3/9.6 MB 136.5 kB/s eta 0:00:17\n",
      "   ------------------------------- -------- 7.6/9.6 MB 132.8 kB/s eta 0:00:16\n",
      "   ------------------------------- -------- 7.6/9.6 MB 132.8 kB/s eta 0:00:16\n",
      "   ------------------------------- -------- 7.6/9.6 MB 132.8 kB/s eta 0:00:16\n",
      "   ------------------------------- -------- 7.6/9.6 MB 132.8 kB/s eta 0:00:16\n",
      "   ------------------------------- -------- 7.6/9.6 MB 132.8 kB/s eta 0:00:16\n",
      "   ------------------------------- -------- 7.6/9.6 MB 132.8 kB/s eta 0:00:16\n",
      "   ------------------------------- -------- 7.6/9.6 MB 132.8 kB/s eta 0:00:16\n",
      "   ------------------------------- -------- 7.6/9.6 MB 132.8 kB/s eta 0:00:16\n",
      "   ------------------------------- -------- 7.6/9.6 MB 132.8 kB/s eta 0:00:16\n",
      "   ------------------------------- -------- 7.6/9.6 MB 132.8 kB/s eta 0:00:16\n",
      "   ------------------------------- -------- 7.6/9.6 MB 132.8 kB/s eta 0:00:16\n",
      "   ------------------------------- -------- 7.6/9.6 MB 132.8 kB/s eta 0:00:16\n",
      "   ------------------------------- -------- 7.6/9.6 MB 132.8 kB/s eta 0:00:16\n",
      "   ------------------------------- -------- 7.6/9.6 MB 132.8 kB/s eta 0:00:16\n",
      "   ------------------------------- -------- 7.6/9.6 MB 132.8 kB/s eta 0:00:16\n",
      "   ------------------------------- -------- 7.6/9.6 MB 132.8 kB/s eta 0:00:16\n",
      "   ------------------------------- -------- 7.6/9.6 MB 132.8 kB/s eta 0:00:16\n",
      "   ------------------------------- -------- 7.6/9.6 MB 132.8 kB/s eta 0:00:16\n",
      "   -------------------------------- ------- 7.9/9.6 MB 115.0 kB/s eta 0:00:16\n",
      "   -------------------------------- ------- 7.9/9.6 MB 115.0 kB/s eta 0:00:16\n",
      "   -------------------------------- ------- 7.9/9.6 MB 115.0 kB/s eta 0:00:16\n",
      "   -------------------------------- ------- 7.9/9.6 MB 115.0 kB/s eta 0:00:16\n",
      "   -------------------------------- ------- 7.9/9.6 MB 115.0 kB/s eta 0:00:16\n",
      "   -------------------------------- ------- 7.9/9.6 MB 115.0 kB/s eta 0:00:16\n",
      "   -------------------------------- ------- 7.9/9.6 MB 115.0 kB/s eta 0:00:16\n",
      "   -------------------------------- ------- 7.9/9.6 MB 115.0 kB/s eta 0:00:16\n",
      "   -------------------------------- ------- 7.9/9.6 MB 115.0 kB/s eta 0:00:16\n",
      "   --------------------------------- ------ 8.1/9.6 MB 109.5 kB/s eta 0:00:14\n",
      "   --------------------------------- ------ 8.1/9.6 MB 109.5 kB/s eta 0:00:14\n",
      "   --------------------------------- ------ 8.1/9.6 MB 109.5 kB/s eta 0:00:14\n",
      "   --------------------------------- ------ 8.1/9.6 MB 109.5 kB/s eta 0:00:14\n",
      "   --------------------------------- ------ 8.1/9.6 MB 109.5 kB/s eta 0:00:14\n",
      "   --------------------------------- ------ 8.1/9.6 MB 109.5 kB/s eta 0:00:14\n",
      "   --------------------------------- ------ 8.1/9.6 MB 109.5 kB/s eta 0:00:14\n",
      "   --------------------------------- ------ 8.1/9.6 MB 109.5 kB/s eta 0:00:14\n",
      "   --------------------------------- ------ 8.1/9.6 MB 109.5 kB/s eta 0:00:14\n",
      "   --------------------------------- ------ 8.1/9.6 MB 109.5 kB/s eta 0:00:14\n",
      "   ---------------------------------- ----- 8.4/9.6 MB 111.7 kB/s eta 0:00:12\n",
      "   ---------------------------------- ----- 8.4/9.6 MB 111.7 kB/s eta 0:00:12\n",
      "   ---------------------------------- ----- 8.4/9.6 MB 111.7 kB/s eta 0:00:12\n",
      "   ---------------------------------- ----- 8.4/9.6 MB 111.7 kB/s eta 0:00:12\n",
      "   ---------------------------------- ----- 8.4/9.6 MB 111.7 kB/s eta 0:00:12\n",
      "   ---------------------------------- ----- 8.4/9.6 MB 111.7 kB/s eta 0:00:12\n",
      "   ---------------------------------- ----- 8.4/9.6 MB 111.7 kB/s eta 0:00:12\n",
      "   ---------------------------------- ----- 8.4/9.6 MB 111.7 kB/s eta 0:00:12\n",
      "   ----------------------------------- ---- 8.7/9.6 MB 114.1 kB/s eta 0:00:09\n",
      "   ----------------------------------- ---- 8.7/9.6 MB 114.1 kB/s eta 0:00:09\n",
      "   ----------------------------------- ---- 8.7/9.6 MB 114.1 kB/s eta 0:00:09\n",
      "   ----------------------------------- ---- 8.7/9.6 MB 114.1 kB/s eta 0:00:09\n",
      "   ----------------------------------- ---- 8.7/9.6 MB 114.1 kB/s eta 0:00:09\n",
      "   ----------------------------------- ---- 8.7/9.6 MB 114.1 kB/s eta 0:00:09\n",
      "   ----------------------------------- ---- 8.7/9.6 MB 114.1 kB/s eta 0:00:09\n",
      "   ----------------------------------- ---- 8.7/9.6 MB 114.1 kB/s eta 0:00:09\n",
      "   ------------------------------------- -- 8.9/9.6 MB 121.4 kB/s eta 0:00:06\n",
      "   ------------------------------------- -- 8.9/9.6 MB 121.4 kB/s eta 0:00:06\n",
      "   ------------------------------------- -- 8.9/9.6 MB 121.4 kB/s eta 0:00:06\n",
      "   ------------------------------------- -- 8.9/9.6 MB 121.4 kB/s eta 0:00:06\n",
      "   ------------------------------------- -- 8.9/9.6 MB 121.4 kB/s eta 0:00:06\n",
      "   ------------------------------------- -- 8.9/9.6 MB 121.4 kB/s eta 0:00:06\n",
      "   ------------------------------------- -- 8.9/9.6 MB 121.4 kB/s eta 0:00:06\n",
      "   ------------------------------------- -- 8.9/9.6 MB 121.4 kB/s eta 0:00:06\n",
      "   ------------------------------------- -- 8.9/9.6 MB 121.4 kB/s eta 0:00:06\n",
      "   ------------------------------------- -- 8.9/9.6 MB 121.4 kB/s eta 0:00:06\n",
      "   ------------------------------------- -- 8.9/9.6 MB 121.4 kB/s eta 0:00:06\n",
      "   ------------------------------------- -- 8.9/9.6 MB 121.4 kB/s eta 0:00:06\n",
      "   ------------------------------------- -- 8.9/9.6 MB 121.4 kB/s eta 0:00:06\n",
      "   ------------------------------------- -- 8.9/9.6 MB 121.4 kB/s eta 0:00:06\n",
      "   -------------------------------------- - 9.2/9.6 MB 126.9 kB/s eta 0:00:04\n",
      "   -------------------------------------- - 9.2/9.6 MB 126.9 kB/s eta 0:00:04\n",
      "   -------------------------------------- - 9.2/9.6 MB 126.9 kB/s eta 0:00:04\n",
      "   -------------------------------------- - 9.2/9.6 MB 126.9 kB/s eta 0:00:04\n",
      "   -------------------------------------- - 9.2/9.6 MB 126.9 kB/s eta 0:00:04\n",
      "   -------------------------------------- - 9.2/9.6 MB 126.9 kB/s eta 0:00:04\n",
      "   -------------------------------------- - 9.2/9.6 MB 126.9 kB/s eta 0:00:04\n",
      "   -------------------------------------- - 9.2/9.6 MB 126.9 kB/s eta 0:00:04\n",
      "   -------------------------------------- - 9.2/9.6 MB 126.9 kB/s eta 0:00:04\n",
      "   -------------------------------------- - 9.2/9.6 MB 126.9 kB/s eta 0:00:04\n",
      "   -------------------------------------- - 9.2/9.6 MB 126.9 kB/s eta 0:00:04\n",
      "   -------------------------------------- - 9.2/9.6 MB 126.9 kB/s eta 0:00:04\n",
      "   -------------------------------------- - 9.2/9.6 MB 126.9 kB/s eta 0:00:04\n",
      "   -------------------------------------- - 9.2/9.6 MB 126.9 kB/s eta 0:00:04\n",
      "   -------------------------------------- - 9.2/9.6 MB 126.9 kB/s eta 0:00:04\n",
      "   ---------------------------------------  9.4/9.6 MB 122.5 kB/s eta 0:00:02\n",
      "   ---------------------------------------  9.4/9.6 MB 122.5 kB/s eta 0:00:02\n",
      "   ---------------------------------------  9.4/9.6 MB 122.5 kB/s eta 0:00:02\n",
      "   ---------------------------------------- 9.6/9.6 MB 124.6 kB/s eta 0:00:00\n",
      "Installing collected packages: plotly\n",
      "Successfully installed plotly-6.2.0\n",
      "Note: you may need to restart the kernel to use updated packages.\n"
     ]
    }
   ],
   "source": [
    "pip install plotly"
   ]
  },
  {
   "cell_type": "code",
   "execution_count": 49,
   "id": "1ae1a459",
   "metadata": {},
   "outputs": [
    {
     "name": "stdout",
     "output_type": "stream",
     "text": [
      "Collecting nbformat\n",
      "  Using cached nbformat-5.10.4-py3-none-any.whl.metadata (3.6 kB)\n",
      "Collecting fastjsonschema>=2.15 (from nbformat)\n",
      "  Using cached fastjsonschema-2.21.1-py3-none-any.whl.metadata (2.2 kB)\n",
      "Requirement already satisfied: jsonschema>=2.6 in c:\\users\\satyajit samal\\onedrive\\desktop\\dsmp\\ml_projects\\uber_demand_prediction2\\demand\\lib\\site-packages (from nbformat) (4.25.0)\n",
      "Requirement already satisfied: jupyter-core!=5.0.*,>=4.12 in c:\\users\\satyajit samal\\onedrive\\desktop\\dsmp\\ml_projects\\uber_demand_prediction2\\demand\\lib\\site-packages (from nbformat) (5.8.1)\n",
      "Requirement already satisfied: traitlets>=5.1 in c:\\users\\satyajit samal\\onedrive\\desktop\\dsmp\\ml_projects\\uber_demand_prediction2\\demand\\lib\\site-packages (from nbformat) (5.14.3)\n",
      "Requirement already satisfied: attrs>=22.2.0 in c:\\users\\satyajit samal\\onedrive\\desktop\\dsmp\\ml_projects\\uber_demand_prediction2\\demand\\lib\\site-packages (from jsonschema>=2.6->nbformat) (25.3.0)\n",
      "Requirement already satisfied: jsonschema-specifications>=2023.03.6 in c:\\users\\satyajit samal\\onedrive\\desktop\\dsmp\\ml_projects\\uber_demand_prediction2\\demand\\lib\\site-packages (from jsonschema>=2.6->nbformat) (2025.4.1)\n",
      "Requirement already satisfied: referencing>=0.28.4 in c:\\users\\satyajit samal\\onedrive\\desktop\\dsmp\\ml_projects\\uber_demand_prediction2\\demand\\lib\\site-packages (from jsonschema>=2.6->nbformat) (0.36.2)\n",
      "Requirement already satisfied: rpds-py>=0.7.1 in c:\\users\\satyajit samal\\onedrive\\desktop\\dsmp\\ml_projects\\uber_demand_prediction2\\demand\\lib\\site-packages (from jsonschema>=2.6->nbformat) (0.26.0)\n",
      "Requirement already satisfied: platformdirs>=2.5 in c:\\users\\satyajit samal\\onedrive\\desktop\\dsmp\\ml_projects\\uber_demand_prediction2\\demand\\lib\\site-packages (from jupyter-core!=5.0.*,>=4.12->nbformat) (4.3.8)\n",
      "Requirement already satisfied: pywin32>=300 in c:\\users\\satyajit samal\\onedrive\\desktop\\dsmp\\ml_projects\\uber_demand_prediction2\\demand\\lib\\site-packages (from jupyter-core!=5.0.*,>=4.12->nbformat) (311)\n",
      "Requirement already satisfied: typing-extensions>=4.4.0 in c:\\users\\satyajit samal\\onedrive\\desktop\\dsmp\\ml_projects\\uber_demand_prediction2\\demand\\lib\\site-packages (from referencing>=0.28.4->jsonschema>=2.6->nbformat) (4.14.1)\n",
      "Using cached nbformat-5.10.4-py3-none-any.whl (78 kB)\n",
      "Using cached fastjsonschema-2.21.1-py3-none-any.whl (23 kB)\n",
      "Installing collected packages: fastjsonschema, nbformat\n",
      "\n",
      "   ---------------------------------------- 2/2 [nbformat]\n",
      "\n",
      "Successfully installed fastjsonschema-2.21.1 nbformat-5.10.4\n",
      "Note: you may need to restart the kernel to use updated packages.\n"
     ]
    }
   ],
   "source": [
    "pip install nbformat"
   ]
  },
  {
   "cell_type": "code",
   "execution_count": 48,
   "id": "fcbb63e4",
   "metadata": {},
   "outputs": [
    {
     "data": {
      "application/vnd.plotly.v1+json": {
       "config": {
        "plotlyServerURL": "https://plot.ly"
       },
       "data": [
        {
         "mode": "markers",
         "name": "Objective Value",
         "type": "scatter",
         "x": [
          0,
          1,
          2,
          3,
          4,
          5,
          6,
          7,
          8,
          9,
          10,
          11,
          12,
          13,
          14,
          15,
          16,
          17,
          18,
          19,
          20,
          21,
          22,
          23,
          24,
          25,
          26,
          27,
          28,
          29,
          30,
          31,
          32,
          33,
          34,
          35,
          36,
          37,
          38,
          39,
          40,
          41,
          42,
          43,
          44,
          45,
          46,
          47,
          48,
          49,
          50,
          51,
          52,
          53,
          54,
          55,
          56,
          57,
          58,
          59,
          60,
          61,
          62,
          63,
          64,
          65,
          66,
          67,
          68,
          69
         ],
         "y": [
          0.10155130872260107,
          0.10154569612830007,
          0.17555039829106497,
          0.10154569612830007,
          0.10154569612830007,
          4.428931406951078,
          0.10155130872260107,
          0.3393091601895504,
          3.9160408566948623,
          0.10155130872260107,
          0.3682099593179287,
          0.10154569612830007,
          0.10155130872260107,
          4.203167915344238,
          0.1758114647017482,
          0.07427783060622112,
          5.0175018310546875,
          3.373645305633545,
          0.10154569612830007,
          0.5366910577347652,
          0.10154569612830007,
          0.1353398776479398,
          5.054637432098389,
          4.990358829498291,
          0.10154569612830007,
          0.09408775934444896,
          0.10154569612830007,
          0.10154569612830007,
          0.06614289352405728,
          0.10154569612830007,
          0.10154569612830007,
          0.10154569612830007,
          0.10154569612830007,
          0.10154569612830007,
          0.06614289352405726,
          0.06614289352405728,
          0.06619900974308683,
          0.06614289352405728,
          0.06614289352405728,
          0.06614289352405728,
          0.06614289352405726,
          0.06614289352405728,
          0.06619900974308683,
          0.06614289352405728,
          0.06614289352405728,
          0.06614289352405726,
          0.06614289352405726,
          0.06614289352405728,
          0.06614289352405728,
          0.06614289352405728,
          0.06614289352405728,
          0.06614289352405726,
          0.06614289352405728,
          0.06614289352405728,
          0.08343088945153103,
          0.09379039187472735,
          0.08343088945153103,
          0.08343088945153104,
          0.08343088945153103,
          0.08343088945153103,
          0.08343088945153103,
          5.1056841719639685,
          5.107601033225568,
          5.1074721302791035,
          5.10739795290421,
          5.106331409238007,
          5.108921201781988,
          5.109022750210174,
          0.10155130872260107,
          5.10845046366581
         ]
        },
        {
         "mode": "lines",
         "name": "Best Value",
         "type": "scatter",
         "x": [
          0,
          1,
          2,
          3,
          4,
          5,
          6,
          7,
          8,
          9,
          10,
          11,
          12,
          13,
          14,
          15,
          16,
          17,
          18,
          19,
          20,
          21,
          22,
          23,
          24,
          25,
          26,
          27,
          28,
          29,
          30,
          31,
          32,
          33,
          34,
          35,
          36,
          37,
          38,
          39,
          40,
          41,
          42,
          43,
          44,
          45,
          46,
          47,
          48,
          49,
          50,
          51,
          52,
          53,
          54,
          55,
          56,
          57,
          58,
          59,
          60,
          61,
          62,
          63,
          64,
          65,
          66,
          67,
          68,
          69
         ],
         "y": [
          0.10155130872260107,
          0.10154569612830007,
          0.10154569612830007,
          0.10154569612830007,
          0.10154569612830007,
          0.10154569612830007,
          0.10154569612830007,
          0.10154569612830007,
          0.10154569612830007,
          0.10154569612830007,
          0.10154569612830007,
          0.10154569612830007,
          0.10154569612830007,
          0.10154569612830007,
          0.10154569612830007,
          0.07427783060622112,
          0.07427783060622112,
          0.07427783060622112,
          0.07427783060622112,
          0.07427783060622112,
          0.07427783060622112,
          0.07427783060622112,
          0.07427783060622112,
          0.07427783060622112,
          0.07427783060622112,
          0.07427783060622112,
          0.07427783060622112,
          0.07427783060622112,
          0.06614289352405728,
          0.06614289352405728,
          0.06614289352405728,
          0.06614289352405728,
          0.06614289352405728,
          0.06614289352405728,
          0.06614289352405726,
          0.06614289352405726,
          0.06614289352405726,
          0.06614289352405726,
          0.06614289352405726,
          0.06614289352405726,
          0.06614289352405726,
          0.06614289352405726,
          0.06614289352405726,
          0.06614289352405726,
          0.06614289352405726,
          0.06614289352405726,
          0.06614289352405726,
          0.06614289352405726,
          0.06614289352405726,
          0.06614289352405726,
          0.06614289352405726,
          0.06614289352405726,
          0.06614289352405726,
          0.06614289352405726,
          0.06614289352405726,
          0.06614289352405726,
          0.06614289352405726,
          0.06614289352405726,
          0.06614289352405726,
          0.06614289352405726,
          0.06614289352405726,
          0.06614289352405726,
          0.06614289352405726,
          0.06614289352405726,
          0.06614289352405726,
          0.06614289352405726,
          0.06614289352405726,
          0.06614289352405726,
          0.06614289352405726,
          0.06614289352405726
         ]
        },
        {
         "marker": {
          "color": "#cccccc"
         },
         "mode": "markers",
         "name": "Infeasible Trial",
         "showlegend": false,
         "type": "scatter",
         "x": [],
         "y": []
        }
       ],
       "layout": {
        "template": {
         "data": {
          "bar": [
           {
            "error_x": {
             "color": "#2a3f5f"
            },
            "error_y": {
             "color": "#2a3f5f"
            },
            "marker": {
             "line": {
              "color": "#E5ECF6",
              "width": 0.5
             },
             "pattern": {
              "fillmode": "overlay",
              "size": 10,
              "solidity": 0.2
             }
            },
            "type": "bar"
           }
          ],
          "barpolar": [
           {
            "marker": {
             "line": {
              "color": "#E5ECF6",
              "width": 0.5
             },
             "pattern": {
              "fillmode": "overlay",
              "size": 10,
              "solidity": 0.2
             }
            },
            "type": "barpolar"
           }
          ],
          "carpet": [
           {
            "aaxis": {
             "endlinecolor": "#2a3f5f",
             "gridcolor": "white",
             "linecolor": "white",
             "minorgridcolor": "white",
             "startlinecolor": "#2a3f5f"
            },
            "baxis": {
             "endlinecolor": "#2a3f5f",
             "gridcolor": "white",
             "linecolor": "white",
             "minorgridcolor": "white",
             "startlinecolor": "#2a3f5f"
            },
            "type": "carpet"
           }
          ],
          "choropleth": [
           {
            "colorbar": {
             "outlinewidth": 0,
             "ticks": ""
            },
            "type": "choropleth"
           }
          ],
          "contour": [
           {
            "colorbar": {
             "outlinewidth": 0,
             "ticks": ""
            },
            "colorscale": [
             [
              0,
              "#0d0887"
             ],
             [
              0.1111111111111111,
              "#46039f"
             ],
             [
              0.2222222222222222,
              "#7201a8"
             ],
             [
              0.3333333333333333,
              "#9c179e"
             ],
             [
              0.4444444444444444,
              "#bd3786"
             ],
             [
              0.5555555555555556,
              "#d8576b"
             ],
             [
              0.6666666666666666,
              "#ed7953"
             ],
             [
              0.7777777777777778,
              "#fb9f3a"
             ],
             [
              0.8888888888888888,
              "#fdca26"
             ],
             [
              1,
              "#f0f921"
             ]
            ],
            "type": "contour"
           }
          ],
          "contourcarpet": [
           {
            "colorbar": {
             "outlinewidth": 0,
             "ticks": ""
            },
            "type": "contourcarpet"
           }
          ],
          "heatmap": [
           {
            "colorbar": {
             "outlinewidth": 0,
             "ticks": ""
            },
            "colorscale": [
             [
              0,
              "#0d0887"
             ],
             [
              0.1111111111111111,
              "#46039f"
             ],
             [
              0.2222222222222222,
              "#7201a8"
             ],
             [
              0.3333333333333333,
              "#9c179e"
             ],
             [
              0.4444444444444444,
              "#bd3786"
             ],
             [
              0.5555555555555556,
              "#d8576b"
             ],
             [
              0.6666666666666666,
              "#ed7953"
             ],
             [
              0.7777777777777778,
              "#fb9f3a"
             ],
             [
              0.8888888888888888,
              "#fdca26"
             ],
             [
              1,
              "#f0f921"
             ]
            ],
            "type": "heatmap"
           }
          ],
          "histogram": [
           {
            "marker": {
             "pattern": {
              "fillmode": "overlay",
              "size": 10,
              "solidity": 0.2
             }
            },
            "type": "histogram"
           }
          ],
          "histogram2d": [
           {
            "colorbar": {
             "outlinewidth": 0,
             "ticks": ""
            },
            "colorscale": [
             [
              0,
              "#0d0887"
             ],
             [
              0.1111111111111111,
              "#46039f"
             ],
             [
              0.2222222222222222,
              "#7201a8"
             ],
             [
              0.3333333333333333,
              "#9c179e"
             ],
             [
              0.4444444444444444,
              "#bd3786"
             ],
             [
              0.5555555555555556,
              "#d8576b"
             ],
             [
              0.6666666666666666,
              "#ed7953"
             ],
             [
              0.7777777777777778,
              "#fb9f3a"
             ],
             [
              0.8888888888888888,
              "#fdca26"
             ],
             [
              1,
              "#f0f921"
             ]
            ],
            "type": "histogram2d"
           }
          ],
          "histogram2dcontour": [
           {
            "colorbar": {
             "outlinewidth": 0,
             "ticks": ""
            },
            "colorscale": [
             [
              0,
              "#0d0887"
             ],
             [
              0.1111111111111111,
              "#46039f"
             ],
             [
              0.2222222222222222,
              "#7201a8"
             ],
             [
              0.3333333333333333,
              "#9c179e"
             ],
             [
              0.4444444444444444,
              "#bd3786"
             ],
             [
              0.5555555555555556,
              "#d8576b"
             ],
             [
              0.6666666666666666,
              "#ed7953"
             ],
             [
              0.7777777777777778,
              "#fb9f3a"
             ],
             [
              0.8888888888888888,
              "#fdca26"
             ],
             [
              1,
              "#f0f921"
             ]
            ],
            "type": "histogram2dcontour"
           }
          ],
          "mesh3d": [
           {
            "colorbar": {
             "outlinewidth": 0,
             "ticks": ""
            },
            "type": "mesh3d"
           }
          ],
          "parcoords": [
           {
            "line": {
             "colorbar": {
              "outlinewidth": 0,
              "ticks": ""
             }
            },
            "type": "parcoords"
           }
          ],
          "pie": [
           {
            "automargin": true,
            "type": "pie"
           }
          ],
          "scatter": [
           {
            "fillpattern": {
             "fillmode": "overlay",
             "size": 10,
             "solidity": 0.2
            },
            "type": "scatter"
           }
          ],
          "scatter3d": [
           {
            "line": {
             "colorbar": {
              "outlinewidth": 0,
              "ticks": ""
             }
            },
            "marker": {
             "colorbar": {
              "outlinewidth": 0,
              "ticks": ""
             }
            },
            "type": "scatter3d"
           }
          ],
          "scattercarpet": [
           {
            "marker": {
             "colorbar": {
              "outlinewidth": 0,
              "ticks": ""
             }
            },
            "type": "scattercarpet"
           }
          ],
          "scattergeo": [
           {
            "marker": {
             "colorbar": {
              "outlinewidth": 0,
              "ticks": ""
             }
            },
            "type": "scattergeo"
           }
          ],
          "scattergl": [
           {
            "marker": {
             "colorbar": {
              "outlinewidth": 0,
              "ticks": ""
             }
            },
            "type": "scattergl"
           }
          ],
          "scattermap": [
           {
            "marker": {
             "colorbar": {
              "outlinewidth": 0,
              "ticks": ""
             }
            },
            "type": "scattermap"
           }
          ],
          "scattermapbox": [
           {
            "marker": {
             "colorbar": {
              "outlinewidth": 0,
              "ticks": ""
             }
            },
            "type": "scattermapbox"
           }
          ],
          "scatterpolar": [
           {
            "marker": {
             "colorbar": {
              "outlinewidth": 0,
              "ticks": ""
             }
            },
            "type": "scatterpolar"
           }
          ],
          "scatterpolargl": [
           {
            "marker": {
             "colorbar": {
              "outlinewidth": 0,
              "ticks": ""
             }
            },
            "type": "scatterpolargl"
           }
          ],
          "scatterternary": [
           {
            "marker": {
             "colorbar": {
              "outlinewidth": 0,
              "ticks": ""
             }
            },
            "type": "scatterternary"
           }
          ],
          "surface": [
           {
            "colorbar": {
             "outlinewidth": 0,
             "ticks": ""
            },
            "colorscale": [
             [
              0,
              "#0d0887"
             ],
             [
              0.1111111111111111,
              "#46039f"
             ],
             [
              0.2222222222222222,
              "#7201a8"
             ],
             [
              0.3333333333333333,
              "#9c179e"
             ],
             [
              0.4444444444444444,
              "#bd3786"
             ],
             [
              0.5555555555555556,
              "#d8576b"
             ],
             [
              0.6666666666666666,
              "#ed7953"
             ],
             [
              0.7777777777777778,
              "#fb9f3a"
             ],
             [
              0.8888888888888888,
              "#fdca26"
             ],
             [
              1,
              "#f0f921"
             ]
            ],
            "type": "surface"
           }
          ],
          "table": [
           {
            "cells": {
             "fill": {
              "color": "#EBF0F8"
             },
             "line": {
              "color": "white"
             }
            },
            "header": {
             "fill": {
              "color": "#C8D4E3"
             },
             "line": {
              "color": "white"
             }
            },
            "type": "table"
           }
          ]
         },
         "layout": {
          "annotationdefaults": {
           "arrowcolor": "#2a3f5f",
           "arrowhead": 0,
           "arrowwidth": 1
          },
          "autotypenumbers": "strict",
          "coloraxis": {
           "colorbar": {
            "outlinewidth": 0,
            "ticks": ""
           }
          },
          "colorscale": {
           "diverging": [
            [
             0,
             "#8e0152"
            ],
            [
             0.1,
             "#c51b7d"
            ],
            [
             0.2,
             "#de77ae"
            ],
            [
             0.3,
             "#f1b6da"
            ],
            [
             0.4,
             "#fde0ef"
            ],
            [
             0.5,
             "#f7f7f7"
            ],
            [
             0.6,
             "#e6f5d0"
            ],
            [
             0.7,
             "#b8e186"
            ],
            [
             0.8,
             "#7fbc41"
            ],
            [
             0.9,
             "#4d9221"
            ],
            [
             1,
             "#276419"
            ]
           ],
           "sequential": [
            [
             0,
             "#0d0887"
            ],
            [
             0.1111111111111111,
             "#46039f"
            ],
            [
             0.2222222222222222,
             "#7201a8"
            ],
            [
             0.3333333333333333,
             "#9c179e"
            ],
            [
             0.4444444444444444,
             "#bd3786"
            ],
            [
             0.5555555555555556,
             "#d8576b"
            ],
            [
             0.6666666666666666,
             "#ed7953"
            ],
            [
             0.7777777777777778,
             "#fb9f3a"
            ],
            [
             0.8888888888888888,
             "#fdca26"
            ],
            [
             1,
             "#f0f921"
            ]
           ],
           "sequentialminus": [
            [
             0,
             "#0d0887"
            ],
            [
             0.1111111111111111,
             "#46039f"
            ],
            [
             0.2222222222222222,
             "#7201a8"
            ],
            [
             0.3333333333333333,
             "#9c179e"
            ],
            [
             0.4444444444444444,
             "#bd3786"
            ],
            [
             0.5555555555555556,
             "#d8576b"
            ],
            [
             0.6666666666666666,
             "#ed7953"
            ],
            [
             0.7777777777777778,
             "#fb9f3a"
            ],
            [
             0.8888888888888888,
             "#fdca26"
            ],
            [
             1,
             "#f0f921"
            ]
           ]
          },
          "colorway": [
           "#636efa",
           "#EF553B",
           "#00cc96",
           "#ab63fa",
           "#FFA15A",
           "#19d3f3",
           "#FF6692",
           "#B6E880",
           "#FF97FF",
           "#FECB52"
          ],
          "font": {
           "color": "#2a3f5f"
          },
          "geo": {
           "bgcolor": "white",
           "lakecolor": "white",
           "landcolor": "#E5ECF6",
           "showlakes": true,
           "showland": true,
           "subunitcolor": "white"
          },
          "hoverlabel": {
           "align": "left"
          },
          "hovermode": "closest",
          "mapbox": {
           "style": "light"
          },
          "paper_bgcolor": "white",
          "plot_bgcolor": "#E5ECF6",
          "polar": {
           "angularaxis": {
            "gridcolor": "white",
            "linecolor": "white",
            "ticks": ""
           },
           "bgcolor": "#E5ECF6",
           "radialaxis": {
            "gridcolor": "white",
            "linecolor": "white",
            "ticks": ""
           }
          },
          "scene": {
           "xaxis": {
            "backgroundcolor": "#E5ECF6",
            "gridcolor": "white",
            "gridwidth": 2,
            "linecolor": "white",
            "showbackground": true,
            "ticks": "",
            "zerolinecolor": "white"
           },
           "yaxis": {
            "backgroundcolor": "#E5ECF6",
            "gridcolor": "white",
            "gridwidth": 2,
            "linecolor": "white",
            "showbackground": true,
            "ticks": "",
            "zerolinecolor": "white"
           },
           "zaxis": {
            "backgroundcolor": "#E5ECF6",
            "gridcolor": "white",
            "gridwidth": 2,
            "linecolor": "white",
            "showbackground": true,
            "ticks": "",
            "zerolinecolor": "white"
           }
          },
          "shapedefaults": {
           "line": {
            "color": "#2a3f5f"
           }
          },
          "ternary": {
           "aaxis": {
            "gridcolor": "white",
            "linecolor": "white",
            "ticks": ""
           },
           "baxis": {
            "gridcolor": "white",
            "linecolor": "white",
            "ticks": ""
           },
           "bgcolor": "#E5ECF6",
           "caxis": {
            "gridcolor": "white",
            "linecolor": "white",
            "ticks": ""
           }
          },
          "title": {
           "x": 0.05
          },
          "xaxis": {
           "automargin": true,
           "gridcolor": "white",
           "linecolor": "white",
           "ticks": "",
           "title": {
            "standoff": 15
           },
           "zerolinecolor": "white",
           "zerolinewidth": 2
          },
          "yaxis": {
           "automargin": true,
           "gridcolor": "white",
           "linecolor": "white",
           "ticks": "",
           "title": {
            "standoff": 15
           },
           "zerolinecolor": "white",
           "zerolinewidth": 2
          }
         }
        },
        "title": {
         "text": "Optimization History Plot"
        },
        "xaxis": {
         "title": {
          "text": "Trial"
         }
        },
        "yaxis": {
         "title": {
          "text": "Objective Value"
         }
        }
       }
      }
     },
     "metadata": {},
     "output_type": "display_data"
    }
   ],
   "source": [
    "plot_optimization_history(study)"
   ]
  },
  {
   "cell_type": "code",
   "execution_count": 49,
   "id": "e005e0d7",
   "metadata": {},
   "outputs": [
    {
     "data": {
      "application/vnd.plotly.v1+json": {
       "config": {
        "plotlyServerURL": "https://plot.ly"
       },
       "data": [
        {
         "dimensions": [
          {
           "label": "Objective Value",
           "range": [
            0.06614289352405726,
            5.109022750210174
           ],
           "values": [
            0.10155130872260107,
            0.10154569612830007,
            0.17555039829106497,
            0.10154569612830007,
            0.10154569612830007,
            4.428931406951078,
            0.10155130872260107,
            0.3393091601895504,
            3.9160408566948623,
            0.10155130872260107,
            0.3682099593179287,
            0.10154569612830007,
            0.10155130872260107,
            4.203167915344238,
            0.1758114647017482,
            0.07427783060622112,
            5.0175018310546875,
            3.373645305633545,
            0.10154569612830007,
            0.5366910577347652,
            0.10154569612830007,
            0.1353398776479398,
            5.054637432098389,
            4.990358829498291,
            0.10154569612830007,
            0.09408775934444896,
            0.10154569612830007,
            0.10154569612830007,
            0.06614289352405728,
            0.10154569612830007,
            0.10154569612830007,
            0.10154569612830007,
            0.10154569612830007,
            0.10154569612830007,
            0.06614289352405726,
            0.06614289352405728,
            0.06619900974308683,
            0.06614289352405728,
            0.06614289352405728,
            0.06614289352405728,
            0.06614289352405726,
            0.06614289352405728,
            0.06619900974308683,
            0.06614289352405728,
            0.06614289352405728,
            0.06614289352405726,
            0.06614289352405726,
            0.06614289352405728,
            0.06614289352405728,
            0.06614289352405728,
            0.06614289352405728,
            0.06614289352405726,
            0.06614289352405728,
            0.06614289352405728,
            0.08343088945153103,
            0.09379039187472735,
            0.08343088945153103,
            0.08343088945153104,
            0.08343088945153103,
            0.08343088945153103,
            0.08343088945153103,
            5.1056841719639685,
            5.107601033225568,
            5.1074721302791035,
            5.10739795290421,
            5.106331409238007,
            5.108921201781988,
            5.109022750210174,
            0.10155130872260107,
            5.10845046366581
           ]
          },
          {
           "label": "model_name",
           "range": [
            0,
            4
           ],
           "ticktext": [
            "LR",
            "RID",
            "RF",
            "GBR",
            "XGBR"
           ],
           "tickvals": [
            0,
            1,
            2,
            3,
            4
           ],
           "values": [
            0,
            1,
            2,
            1,
            1,
            3,
            0,
            2,
            3,
            0,
            3,
            1,
            0,
            4,
            2,
            2,
            4,
            4,
            1,
            2,
            1,
            2,
            4,
            4,
            1,
            2,
            1,
            1,
            2,
            1,
            1,
            1,
            1,
            1,
            2,
            2,
            2,
            2,
            2,
            2,
            2,
            2,
            2,
            2,
            2,
            2,
            2,
            2,
            2,
            2,
            2,
            2,
            2,
            2,
            2,
            2,
            2,
            2,
            2,
            2,
            2,
            3,
            3,
            3,
            3,
            3,
            3,
            3,
            0,
            3
           ]
          }
         ],
         "labelangle": 30,
         "labelside": "bottom",
         "line": {
          "color": [
           0.10155130872260107,
           0.10154569612830007,
           0.17555039829106497,
           0.10154569612830007,
           0.10154569612830007,
           4.428931406951078,
           0.10155130872260107,
           0.3393091601895504,
           3.9160408566948623,
           0.10155130872260107,
           0.3682099593179287,
           0.10154569612830007,
           0.10155130872260107,
           4.203167915344238,
           0.1758114647017482,
           0.07427783060622112,
           5.0175018310546875,
           3.373645305633545,
           0.10154569612830007,
           0.5366910577347652,
           0.10154569612830007,
           0.1353398776479398,
           5.054637432098389,
           4.990358829498291,
           0.10154569612830007,
           0.09408775934444896,
           0.10154569612830007,
           0.10154569612830007,
           0.06614289352405728,
           0.10154569612830007,
           0.10154569612830007,
           0.10154569612830007,
           0.10154569612830007,
           0.10154569612830007,
           0.06614289352405726,
           0.06614289352405728,
           0.06619900974308683,
           0.06614289352405728,
           0.06614289352405728,
           0.06614289352405728,
           0.06614289352405726,
           0.06614289352405728,
           0.06619900974308683,
           0.06614289352405728,
           0.06614289352405728,
           0.06614289352405726,
           0.06614289352405726,
           0.06614289352405728,
           0.06614289352405728,
           0.06614289352405728,
           0.06614289352405728,
           0.06614289352405726,
           0.06614289352405728,
           0.06614289352405728,
           0.08343088945153103,
           0.09379039187472735,
           0.08343088945153103,
           0.08343088945153104,
           0.08343088945153103,
           0.08343088945153103,
           0.08343088945153103,
           5.1056841719639685,
           5.107601033225568,
           5.1074721302791035,
           5.10739795290421,
           5.106331409238007,
           5.108921201781988,
           5.109022750210174,
           0.10155130872260107,
           5.10845046366581
          ],
          "colorbar": {
           "title": {
            "text": "Objective Value"
           }
          },
          "colorscale": [
           [
            0,
            "rgb(247,251,255)"
           ],
           [
            0.125,
            "rgb(222,235,247)"
           ],
           [
            0.25,
            "rgb(198,219,239)"
           ],
           [
            0.375,
            "rgb(158,202,225)"
           ],
           [
            0.5,
            "rgb(107,174,214)"
           ],
           [
            0.625,
            "rgb(66,146,198)"
           ],
           [
            0.75,
            "rgb(33,113,181)"
           ],
           [
            0.875,
            "rgb(8,81,156)"
           ],
           [
            1,
            "rgb(8,48,107)"
           ]
          ],
          "reversescale": true,
          "showscale": true
         },
         "type": "parcoords"
        }
       ],
       "layout": {
        "template": {
         "data": {
          "bar": [
           {
            "error_x": {
             "color": "#2a3f5f"
            },
            "error_y": {
             "color": "#2a3f5f"
            },
            "marker": {
             "line": {
              "color": "#E5ECF6",
              "width": 0.5
             },
             "pattern": {
              "fillmode": "overlay",
              "size": 10,
              "solidity": 0.2
             }
            },
            "type": "bar"
           }
          ],
          "barpolar": [
           {
            "marker": {
             "line": {
              "color": "#E5ECF6",
              "width": 0.5
             },
             "pattern": {
              "fillmode": "overlay",
              "size": 10,
              "solidity": 0.2
             }
            },
            "type": "barpolar"
           }
          ],
          "carpet": [
           {
            "aaxis": {
             "endlinecolor": "#2a3f5f",
             "gridcolor": "white",
             "linecolor": "white",
             "minorgridcolor": "white",
             "startlinecolor": "#2a3f5f"
            },
            "baxis": {
             "endlinecolor": "#2a3f5f",
             "gridcolor": "white",
             "linecolor": "white",
             "minorgridcolor": "white",
             "startlinecolor": "#2a3f5f"
            },
            "type": "carpet"
           }
          ],
          "choropleth": [
           {
            "colorbar": {
             "outlinewidth": 0,
             "ticks": ""
            },
            "type": "choropleth"
           }
          ],
          "contour": [
           {
            "colorbar": {
             "outlinewidth": 0,
             "ticks": ""
            },
            "colorscale": [
             [
              0,
              "#0d0887"
             ],
             [
              0.1111111111111111,
              "#46039f"
             ],
             [
              0.2222222222222222,
              "#7201a8"
             ],
             [
              0.3333333333333333,
              "#9c179e"
             ],
             [
              0.4444444444444444,
              "#bd3786"
             ],
             [
              0.5555555555555556,
              "#d8576b"
             ],
             [
              0.6666666666666666,
              "#ed7953"
             ],
             [
              0.7777777777777778,
              "#fb9f3a"
             ],
             [
              0.8888888888888888,
              "#fdca26"
             ],
             [
              1,
              "#f0f921"
             ]
            ],
            "type": "contour"
           }
          ],
          "contourcarpet": [
           {
            "colorbar": {
             "outlinewidth": 0,
             "ticks": ""
            },
            "type": "contourcarpet"
           }
          ],
          "heatmap": [
           {
            "colorbar": {
             "outlinewidth": 0,
             "ticks": ""
            },
            "colorscale": [
             [
              0,
              "#0d0887"
             ],
             [
              0.1111111111111111,
              "#46039f"
             ],
             [
              0.2222222222222222,
              "#7201a8"
             ],
             [
              0.3333333333333333,
              "#9c179e"
             ],
             [
              0.4444444444444444,
              "#bd3786"
             ],
             [
              0.5555555555555556,
              "#d8576b"
             ],
             [
              0.6666666666666666,
              "#ed7953"
             ],
             [
              0.7777777777777778,
              "#fb9f3a"
             ],
             [
              0.8888888888888888,
              "#fdca26"
             ],
             [
              1,
              "#f0f921"
             ]
            ],
            "type": "heatmap"
           }
          ],
          "histogram": [
           {
            "marker": {
             "pattern": {
              "fillmode": "overlay",
              "size": 10,
              "solidity": 0.2
             }
            },
            "type": "histogram"
           }
          ],
          "histogram2d": [
           {
            "colorbar": {
             "outlinewidth": 0,
             "ticks": ""
            },
            "colorscale": [
             [
              0,
              "#0d0887"
             ],
             [
              0.1111111111111111,
              "#46039f"
             ],
             [
              0.2222222222222222,
              "#7201a8"
             ],
             [
              0.3333333333333333,
              "#9c179e"
             ],
             [
              0.4444444444444444,
              "#bd3786"
             ],
             [
              0.5555555555555556,
              "#d8576b"
             ],
             [
              0.6666666666666666,
              "#ed7953"
             ],
             [
              0.7777777777777778,
              "#fb9f3a"
             ],
             [
              0.8888888888888888,
              "#fdca26"
             ],
             [
              1,
              "#f0f921"
             ]
            ],
            "type": "histogram2d"
           }
          ],
          "histogram2dcontour": [
           {
            "colorbar": {
             "outlinewidth": 0,
             "ticks": ""
            },
            "colorscale": [
             [
              0,
              "#0d0887"
             ],
             [
              0.1111111111111111,
              "#46039f"
             ],
             [
              0.2222222222222222,
              "#7201a8"
             ],
             [
              0.3333333333333333,
              "#9c179e"
             ],
             [
              0.4444444444444444,
              "#bd3786"
             ],
             [
              0.5555555555555556,
              "#d8576b"
             ],
             [
              0.6666666666666666,
              "#ed7953"
             ],
             [
              0.7777777777777778,
              "#fb9f3a"
             ],
             [
              0.8888888888888888,
              "#fdca26"
             ],
             [
              1,
              "#f0f921"
             ]
            ],
            "type": "histogram2dcontour"
           }
          ],
          "mesh3d": [
           {
            "colorbar": {
             "outlinewidth": 0,
             "ticks": ""
            },
            "type": "mesh3d"
           }
          ],
          "parcoords": [
           {
            "line": {
             "colorbar": {
              "outlinewidth": 0,
              "ticks": ""
             }
            },
            "type": "parcoords"
           }
          ],
          "pie": [
           {
            "automargin": true,
            "type": "pie"
           }
          ],
          "scatter": [
           {
            "fillpattern": {
             "fillmode": "overlay",
             "size": 10,
             "solidity": 0.2
            },
            "type": "scatter"
           }
          ],
          "scatter3d": [
           {
            "line": {
             "colorbar": {
              "outlinewidth": 0,
              "ticks": ""
             }
            },
            "marker": {
             "colorbar": {
              "outlinewidth": 0,
              "ticks": ""
             }
            },
            "type": "scatter3d"
           }
          ],
          "scattercarpet": [
           {
            "marker": {
             "colorbar": {
              "outlinewidth": 0,
              "ticks": ""
             }
            },
            "type": "scattercarpet"
           }
          ],
          "scattergeo": [
           {
            "marker": {
             "colorbar": {
              "outlinewidth": 0,
              "ticks": ""
             }
            },
            "type": "scattergeo"
           }
          ],
          "scattergl": [
           {
            "marker": {
             "colorbar": {
              "outlinewidth": 0,
              "ticks": ""
             }
            },
            "type": "scattergl"
           }
          ],
          "scattermap": [
           {
            "marker": {
             "colorbar": {
              "outlinewidth": 0,
              "ticks": ""
             }
            },
            "type": "scattermap"
           }
          ],
          "scattermapbox": [
           {
            "marker": {
             "colorbar": {
              "outlinewidth": 0,
              "ticks": ""
             }
            },
            "type": "scattermapbox"
           }
          ],
          "scatterpolar": [
           {
            "marker": {
             "colorbar": {
              "outlinewidth": 0,
              "ticks": ""
             }
            },
            "type": "scatterpolar"
           }
          ],
          "scatterpolargl": [
           {
            "marker": {
             "colorbar": {
              "outlinewidth": 0,
              "ticks": ""
             }
            },
            "type": "scatterpolargl"
           }
          ],
          "scatterternary": [
           {
            "marker": {
             "colorbar": {
              "outlinewidth": 0,
              "ticks": ""
             }
            },
            "type": "scatterternary"
           }
          ],
          "surface": [
           {
            "colorbar": {
             "outlinewidth": 0,
             "ticks": ""
            },
            "colorscale": [
             [
              0,
              "#0d0887"
             ],
             [
              0.1111111111111111,
              "#46039f"
             ],
             [
              0.2222222222222222,
              "#7201a8"
             ],
             [
              0.3333333333333333,
              "#9c179e"
             ],
             [
              0.4444444444444444,
              "#bd3786"
             ],
             [
              0.5555555555555556,
              "#d8576b"
             ],
             [
              0.6666666666666666,
              "#ed7953"
             ],
             [
              0.7777777777777778,
              "#fb9f3a"
             ],
             [
              0.8888888888888888,
              "#fdca26"
             ],
             [
              1,
              "#f0f921"
             ]
            ],
            "type": "surface"
           }
          ],
          "table": [
           {
            "cells": {
             "fill": {
              "color": "#EBF0F8"
             },
             "line": {
              "color": "white"
             }
            },
            "header": {
             "fill": {
              "color": "#C8D4E3"
             },
             "line": {
              "color": "white"
             }
            },
            "type": "table"
           }
          ]
         },
         "layout": {
          "annotationdefaults": {
           "arrowcolor": "#2a3f5f",
           "arrowhead": 0,
           "arrowwidth": 1
          },
          "autotypenumbers": "strict",
          "coloraxis": {
           "colorbar": {
            "outlinewidth": 0,
            "ticks": ""
           }
          },
          "colorscale": {
           "diverging": [
            [
             0,
             "#8e0152"
            ],
            [
             0.1,
             "#c51b7d"
            ],
            [
             0.2,
             "#de77ae"
            ],
            [
             0.3,
             "#f1b6da"
            ],
            [
             0.4,
             "#fde0ef"
            ],
            [
             0.5,
             "#f7f7f7"
            ],
            [
             0.6,
             "#e6f5d0"
            ],
            [
             0.7,
             "#b8e186"
            ],
            [
             0.8,
             "#7fbc41"
            ],
            [
             0.9,
             "#4d9221"
            ],
            [
             1,
             "#276419"
            ]
           ],
           "sequential": [
            [
             0,
             "#0d0887"
            ],
            [
             0.1111111111111111,
             "#46039f"
            ],
            [
             0.2222222222222222,
             "#7201a8"
            ],
            [
             0.3333333333333333,
             "#9c179e"
            ],
            [
             0.4444444444444444,
             "#bd3786"
            ],
            [
             0.5555555555555556,
             "#d8576b"
            ],
            [
             0.6666666666666666,
             "#ed7953"
            ],
            [
             0.7777777777777778,
             "#fb9f3a"
            ],
            [
             0.8888888888888888,
             "#fdca26"
            ],
            [
             1,
             "#f0f921"
            ]
           ],
           "sequentialminus": [
            [
             0,
             "#0d0887"
            ],
            [
             0.1111111111111111,
             "#46039f"
            ],
            [
             0.2222222222222222,
             "#7201a8"
            ],
            [
             0.3333333333333333,
             "#9c179e"
            ],
            [
             0.4444444444444444,
             "#bd3786"
            ],
            [
             0.5555555555555556,
             "#d8576b"
            ],
            [
             0.6666666666666666,
             "#ed7953"
            ],
            [
             0.7777777777777778,
             "#fb9f3a"
            ],
            [
             0.8888888888888888,
             "#fdca26"
            ],
            [
             1,
             "#f0f921"
            ]
           ]
          },
          "colorway": [
           "#636efa",
           "#EF553B",
           "#00cc96",
           "#ab63fa",
           "#FFA15A",
           "#19d3f3",
           "#FF6692",
           "#B6E880",
           "#FF97FF",
           "#FECB52"
          ],
          "font": {
           "color": "#2a3f5f"
          },
          "geo": {
           "bgcolor": "white",
           "lakecolor": "white",
           "landcolor": "#E5ECF6",
           "showlakes": true,
           "showland": true,
           "subunitcolor": "white"
          },
          "hoverlabel": {
           "align": "left"
          },
          "hovermode": "closest",
          "mapbox": {
           "style": "light"
          },
          "paper_bgcolor": "white",
          "plot_bgcolor": "#E5ECF6",
          "polar": {
           "angularaxis": {
            "gridcolor": "white",
            "linecolor": "white",
            "ticks": ""
           },
           "bgcolor": "#E5ECF6",
           "radialaxis": {
            "gridcolor": "white",
            "linecolor": "white",
            "ticks": ""
           }
          },
          "scene": {
           "xaxis": {
            "backgroundcolor": "#E5ECF6",
            "gridcolor": "white",
            "gridwidth": 2,
            "linecolor": "white",
            "showbackground": true,
            "ticks": "",
            "zerolinecolor": "white"
           },
           "yaxis": {
            "backgroundcolor": "#E5ECF6",
            "gridcolor": "white",
            "gridwidth": 2,
            "linecolor": "white",
            "showbackground": true,
            "ticks": "",
            "zerolinecolor": "white"
           },
           "zaxis": {
            "backgroundcolor": "#E5ECF6",
            "gridcolor": "white",
            "gridwidth": 2,
            "linecolor": "white",
            "showbackground": true,
            "ticks": "",
            "zerolinecolor": "white"
           }
          },
          "shapedefaults": {
           "line": {
            "color": "#2a3f5f"
           }
          },
          "ternary": {
           "aaxis": {
            "gridcolor": "white",
            "linecolor": "white",
            "ticks": ""
           },
           "baxis": {
            "gridcolor": "white",
            "linecolor": "white",
            "ticks": ""
           },
           "bgcolor": "#E5ECF6",
           "caxis": {
            "gridcolor": "white",
            "linecolor": "white",
            "ticks": ""
           }
          },
          "title": {
           "x": 0.05
          },
          "xaxis": {
           "automargin": true,
           "gridcolor": "white",
           "linecolor": "white",
           "ticks": "",
           "title": {
            "standoff": 15
           },
           "zerolinecolor": "white",
           "zerolinewidth": 2
          },
          "yaxis": {
           "automargin": true,
           "gridcolor": "white",
           "linecolor": "white",
           "ticks": "",
           "title": {
            "standoff": 15
           },
           "zerolinecolor": "white",
           "zerolinewidth": 2
          }
         }
        },
        "title": {
         "text": "Parallel Coordinate Plot"
        }
       }
      }
     },
     "metadata": {},
     "output_type": "display_data"
    }
   ],
   "source": [
    "plot_parallel_coordinate(study, params=[\"model_name\"])"
   ]
  },
  {
   "cell_type": "code",
   "execution_count": 50,
   "id": "4113b549",
   "metadata": {},
   "outputs": [
    {
     "data": {
      "text/html": [
       "<style>#sk-container-id-1 {\n",
       "  /* Definition of color scheme common for light and dark mode */\n",
       "  --sklearn-color-text: #000;\n",
       "  --sklearn-color-text-muted: #666;\n",
       "  --sklearn-color-line: gray;\n",
       "  /* Definition of color scheme for unfitted estimators */\n",
       "  --sklearn-color-unfitted-level-0: #fff5e6;\n",
       "  --sklearn-color-unfitted-level-1: #f6e4d2;\n",
       "  --sklearn-color-unfitted-level-2: #ffe0b3;\n",
       "  --sklearn-color-unfitted-level-3: chocolate;\n",
       "  /* Definition of color scheme for fitted estimators */\n",
       "  --sklearn-color-fitted-level-0: #f0f8ff;\n",
       "  --sklearn-color-fitted-level-1: #d4ebff;\n",
       "  --sklearn-color-fitted-level-2: #b3dbfd;\n",
       "  --sklearn-color-fitted-level-3: cornflowerblue;\n",
       "\n",
       "  /* Specific color for light theme */\n",
       "  --sklearn-color-text-on-default-background: var(--sg-text-color, var(--theme-code-foreground, var(--jp-content-font-color1, black)));\n",
       "  --sklearn-color-background: var(--sg-background-color, var(--theme-background, var(--jp-layout-color0, white)));\n",
       "  --sklearn-color-border-box: var(--sg-text-color, var(--theme-code-foreground, var(--jp-content-font-color1, black)));\n",
       "  --sklearn-color-icon: #696969;\n",
       "\n",
       "  @media (prefers-color-scheme: dark) {\n",
       "    /* Redefinition of color scheme for dark theme */\n",
       "    --sklearn-color-text-on-default-background: var(--sg-text-color, var(--theme-code-foreground, var(--jp-content-font-color1, white)));\n",
       "    --sklearn-color-background: var(--sg-background-color, var(--theme-background, var(--jp-layout-color0, #111)));\n",
       "    --sklearn-color-border-box: var(--sg-text-color, var(--theme-code-foreground, var(--jp-content-font-color1, white)));\n",
       "    --sklearn-color-icon: #878787;\n",
       "  }\n",
       "}\n",
       "\n",
       "#sk-container-id-1 {\n",
       "  color: var(--sklearn-color-text);\n",
       "}\n",
       "\n",
       "#sk-container-id-1 pre {\n",
       "  padding: 0;\n",
       "}\n",
       "\n",
       "#sk-container-id-1 input.sk-hidden--visually {\n",
       "  border: 0;\n",
       "  clip: rect(1px 1px 1px 1px);\n",
       "  clip: rect(1px, 1px, 1px, 1px);\n",
       "  height: 1px;\n",
       "  margin: -1px;\n",
       "  overflow: hidden;\n",
       "  padding: 0;\n",
       "  position: absolute;\n",
       "  width: 1px;\n",
       "}\n",
       "\n",
       "#sk-container-id-1 div.sk-dashed-wrapped {\n",
       "  border: 1px dashed var(--sklearn-color-line);\n",
       "  margin: 0 0.4em 0.5em 0.4em;\n",
       "  box-sizing: border-box;\n",
       "  padding-bottom: 0.4em;\n",
       "  background-color: var(--sklearn-color-background);\n",
       "}\n",
       "\n",
       "#sk-container-id-1 div.sk-container {\n",
       "  /* jupyter's `normalize.less` sets `[hidden] { display: none; }`\n",
       "     but bootstrap.min.css set `[hidden] { display: none !important; }`\n",
       "     so we also need the `!important` here to be able to override the\n",
       "     default hidden behavior on the sphinx rendered scikit-learn.org.\n",
       "     See: https://github.com/scikit-learn/scikit-learn/issues/21755 */\n",
       "  display: inline-block !important;\n",
       "  position: relative;\n",
       "}\n",
       "\n",
       "#sk-container-id-1 div.sk-text-repr-fallback {\n",
       "  display: none;\n",
       "}\n",
       "\n",
       "div.sk-parallel-item,\n",
       "div.sk-serial,\n",
       "div.sk-item {\n",
       "  /* draw centered vertical line to link estimators */\n",
       "  background-image: linear-gradient(var(--sklearn-color-text-on-default-background), var(--sklearn-color-text-on-default-background));\n",
       "  background-size: 2px 100%;\n",
       "  background-repeat: no-repeat;\n",
       "  background-position: center center;\n",
       "}\n",
       "\n",
       "/* Parallel-specific style estimator block */\n",
       "\n",
       "#sk-container-id-1 div.sk-parallel-item::after {\n",
       "  content: \"\";\n",
       "  width: 100%;\n",
       "  border-bottom: 2px solid var(--sklearn-color-text-on-default-background);\n",
       "  flex-grow: 1;\n",
       "}\n",
       "\n",
       "#sk-container-id-1 div.sk-parallel {\n",
       "  display: flex;\n",
       "  align-items: stretch;\n",
       "  justify-content: center;\n",
       "  background-color: var(--sklearn-color-background);\n",
       "  position: relative;\n",
       "}\n",
       "\n",
       "#sk-container-id-1 div.sk-parallel-item {\n",
       "  display: flex;\n",
       "  flex-direction: column;\n",
       "}\n",
       "\n",
       "#sk-container-id-1 div.sk-parallel-item:first-child::after {\n",
       "  align-self: flex-end;\n",
       "  width: 50%;\n",
       "}\n",
       "\n",
       "#sk-container-id-1 div.sk-parallel-item:last-child::after {\n",
       "  align-self: flex-start;\n",
       "  width: 50%;\n",
       "}\n",
       "\n",
       "#sk-container-id-1 div.sk-parallel-item:only-child::after {\n",
       "  width: 0;\n",
       "}\n",
       "\n",
       "/* Serial-specific style estimator block */\n",
       "\n",
       "#sk-container-id-1 div.sk-serial {\n",
       "  display: flex;\n",
       "  flex-direction: column;\n",
       "  align-items: center;\n",
       "  background-color: var(--sklearn-color-background);\n",
       "  padding-right: 1em;\n",
       "  padding-left: 1em;\n",
       "}\n",
       "\n",
       "\n",
       "/* Toggleable style: style used for estimator/Pipeline/ColumnTransformer box that is\n",
       "clickable and can be expanded/collapsed.\n",
       "- Pipeline and ColumnTransformer use this feature and define the default style\n",
       "- Estimators will overwrite some part of the style using the `sk-estimator` class\n",
       "*/\n",
       "\n",
       "/* Pipeline and ColumnTransformer style (default) */\n",
       "\n",
       "#sk-container-id-1 div.sk-toggleable {\n",
       "  /* Default theme specific background. It is overwritten whether we have a\n",
       "  specific estimator or a Pipeline/ColumnTransformer */\n",
       "  background-color: var(--sklearn-color-background);\n",
       "}\n",
       "\n",
       "/* Toggleable label */\n",
       "#sk-container-id-1 label.sk-toggleable__label {\n",
       "  cursor: pointer;\n",
       "  display: flex;\n",
       "  width: 100%;\n",
       "  margin-bottom: 0;\n",
       "  padding: 0.5em;\n",
       "  box-sizing: border-box;\n",
       "  text-align: center;\n",
       "  align-items: start;\n",
       "  justify-content: space-between;\n",
       "  gap: 0.5em;\n",
       "}\n",
       "\n",
       "#sk-container-id-1 label.sk-toggleable__label .caption {\n",
       "  font-size: 0.6rem;\n",
       "  font-weight: lighter;\n",
       "  color: var(--sklearn-color-text-muted);\n",
       "}\n",
       "\n",
       "#sk-container-id-1 label.sk-toggleable__label-arrow:before {\n",
       "  /* Arrow on the left of the label */\n",
       "  content: \"▸\";\n",
       "  float: left;\n",
       "  margin-right: 0.25em;\n",
       "  color: var(--sklearn-color-icon);\n",
       "}\n",
       "\n",
       "#sk-container-id-1 label.sk-toggleable__label-arrow:hover:before {\n",
       "  color: var(--sklearn-color-text);\n",
       "}\n",
       "\n",
       "/* Toggleable content - dropdown */\n",
       "\n",
       "#sk-container-id-1 div.sk-toggleable__content {\n",
       "  display: none;\n",
       "  text-align: left;\n",
       "  /* unfitted */\n",
       "  background-color: var(--sklearn-color-unfitted-level-0);\n",
       "}\n",
       "\n",
       "#sk-container-id-1 div.sk-toggleable__content.fitted {\n",
       "  /* fitted */\n",
       "  background-color: var(--sklearn-color-fitted-level-0);\n",
       "}\n",
       "\n",
       "#sk-container-id-1 div.sk-toggleable__content pre {\n",
       "  margin: 0.2em;\n",
       "  border-radius: 0.25em;\n",
       "  color: var(--sklearn-color-text);\n",
       "  /* unfitted */\n",
       "  background-color: var(--sklearn-color-unfitted-level-0);\n",
       "}\n",
       "\n",
       "#sk-container-id-1 div.sk-toggleable__content.fitted pre {\n",
       "  /* unfitted */\n",
       "  background-color: var(--sklearn-color-fitted-level-0);\n",
       "}\n",
       "\n",
       "#sk-container-id-1 input.sk-toggleable__control:checked~div.sk-toggleable__content {\n",
       "  /* Expand drop-down */\n",
       "  display: block;\n",
       "  width: 100%;\n",
       "  overflow: visible;\n",
       "}\n",
       "\n",
       "#sk-container-id-1 input.sk-toggleable__control:checked~label.sk-toggleable__label-arrow:before {\n",
       "  content: \"▾\";\n",
       "}\n",
       "\n",
       "/* Pipeline/ColumnTransformer-specific style */\n",
       "\n",
       "#sk-container-id-1 div.sk-label input.sk-toggleable__control:checked~label.sk-toggleable__label {\n",
       "  color: var(--sklearn-color-text);\n",
       "  background-color: var(--sklearn-color-unfitted-level-2);\n",
       "}\n",
       "\n",
       "#sk-container-id-1 div.sk-label.fitted input.sk-toggleable__control:checked~label.sk-toggleable__label {\n",
       "  background-color: var(--sklearn-color-fitted-level-2);\n",
       "}\n",
       "\n",
       "/* Estimator-specific style */\n",
       "\n",
       "/* Colorize estimator box */\n",
       "#sk-container-id-1 div.sk-estimator input.sk-toggleable__control:checked~label.sk-toggleable__label {\n",
       "  /* unfitted */\n",
       "  background-color: var(--sklearn-color-unfitted-level-2);\n",
       "}\n",
       "\n",
       "#sk-container-id-1 div.sk-estimator.fitted input.sk-toggleable__control:checked~label.sk-toggleable__label {\n",
       "  /* fitted */\n",
       "  background-color: var(--sklearn-color-fitted-level-2);\n",
       "}\n",
       "\n",
       "#sk-container-id-1 div.sk-label label.sk-toggleable__label,\n",
       "#sk-container-id-1 div.sk-label label {\n",
       "  /* The background is the default theme color */\n",
       "  color: var(--sklearn-color-text-on-default-background);\n",
       "}\n",
       "\n",
       "/* On hover, darken the color of the background */\n",
       "#sk-container-id-1 div.sk-label:hover label.sk-toggleable__label {\n",
       "  color: var(--sklearn-color-text);\n",
       "  background-color: var(--sklearn-color-unfitted-level-2);\n",
       "}\n",
       "\n",
       "/* Label box, darken color on hover, fitted */\n",
       "#sk-container-id-1 div.sk-label.fitted:hover label.sk-toggleable__label.fitted {\n",
       "  color: var(--sklearn-color-text);\n",
       "  background-color: var(--sklearn-color-fitted-level-2);\n",
       "}\n",
       "\n",
       "/* Estimator label */\n",
       "\n",
       "#sk-container-id-1 div.sk-label label {\n",
       "  font-family: monospace;\n",
       "  font-weight: bold;\n",
       "  display: inline-block;\n",
       "  line-height: 1.2em;\n",
       "}\n",
       "\n",
       "#sk-container-id-1 div.sk-label-container {\n",
       "  text-align: center;\n",
       "}\n",
       "\n",
       "/* Estimator-specific */\n",
       "#sk-container-id-1 div.sk-estimator {\n",
       "  font-family: monospace;\n",
       "  border: 1px dotted var(--sklearn-color-border-box);\n",
       "  border-radius: 0.25em;\n",
       "  box-sizing: border-box;\n",
       "  margin-bottom: 0.5em;\n",
       "  /* unfitted */\n",
       "  background-color: var(--sklearn-color-unfitted-level-0);\n",
       "}\n",
       "\n",
       "#sk-container-id-1 div.sk-estimator.fitted {\n",
       "  /* fitted */\n",
       "  background-color: var(--sklearn-color-fitted-level-0);\n",
       "}\n",
       "\n",
       "/* on hover */\n",
       "#sk-container-id-1 div.sk-estimator:hover {\n",
       "  /* unfitted */\n",
       "  background-color: var(--sklearn-color-unfitted-level-2);\n",
       "}\n",
       "\n",
       "#sk-container-id-1 div.sk-estimator.fitted:hover {\n",
       "  /* fitted */\n",
       "  background-color: var(--sklearn-color-fitted-level-2);\n",
       "}\n",
       "\n",
       "/* Specification for estimator info (e.g. \"i\" and \"?\") */\n",
       "\n",
       "/* Common style for \"i\" and \"?\" */\n",
       "\n",
       ".sk-estimator-doc-link,\n",
       "a:link.sk-estimator-doc-link,\n",
       "a:visited.sk-estimator-doc-link {\n",
       "  float: right;\n",
       "  font-size: smaller;\n",
       "  line-height: 1em;\n",
       "  font-family: monospace;\n",
       "  background-color: var(--sklearn-color-background);\n",
       "  border-radius: 1em;\n",
       "  height: 1em;\n",
       "  width: 1em;\n",
       "  text-decoration: none !important;\n",
       "  margin-left: 0.5em;\n",
       "  text-align: center;\n",
       "  /* unfitted */\n",
       "  border: var(--sklearn-color-unfitted-level-1) 1pt solid;\n",
       "  color: var(--sklearn-color-unfitted-level-1);\n",
       "}\n",
       "\n",
       ".sk-estimator-doc-link.fitted,\n",
       "a:link.sk-estimator-doc-link.fitted,\n",
       "a:visited.sk-estimator-doc-link.fitted {\n",
       "  /* fitted */\n",
       "  border: var(--sklearn-color-fitted-level-1) 1pt solid;\n",
       "  color: var(--sklearn-color-fitted-level-1);\n",
       "}\n",
       "\n",
       "/* On hover */\n",
       "div.sk-estimator:hover .sk-estimator-doc-link:hover,\n",
       ".sk-estimator-doc-link:hover,\n",
       "div.sk-label-container:hover .sk-estimator-doc-link:hover,\n",
       ".sk-estimator-doc-link:hover {\n",
       "  /* unfitted */\n",
       "  background-color: var(--sklearn-color-unfitted-level-3);\n",
       "  color: var(--sklearn-color-background);\n",
       "  text-decoration: none;\n",
       "}\n",
       "\n",
       "div.sk-estimator.fitted:hover .sk-estimator-doc-link.fitted:hover,\n",
       ".sk-estimator-doc-link.fitted:hover,\n",
       "div.sk-label-container:hover .sk-estimator-doc-link.fitted:hover,\n",
       ".sk-estimator-doc-link.fitted:hover {\n",
       "  /* fitted */\n",
       "  background-color: var(--sklearn-color-fitted-level-3);\n",
       "  color: var(--sklearn-color-background);\n",
       "  text-decoration: none;\n",
       "}\n",
       "\n",
       "/* Span, style for the box shown on hovering the info icon */\n",
       ".sk-estimator-doc-link span {\n",
       "  display: none;\n",
       "  z-index: 9999;\n",
       "  position: relative;\n",
       "  font-weight: normal;\n",
       "  right: .2ex;\n",
       "  padding: .5ex;\n",
       "  margin: .5ex;\n",
       "  width: min-content;\n",
       "  min-width: 20ex;\n",
       "  max-width: 50ex;\n",
       "  color: var(--sklearn-color-text);\n",
       "  box-shadow: 2pt 2pt 4pt #999;\n",
       "  /* unfitted */\n",
       "  background: var(--sklearn-color-unfitted-level-0);\n",
       "  border: .5pt solid var(--sklearn-color-unfitted-level-3);\n",
       "}\n",
       "\n",
       ".sk-estimator-doc-link.fitted span {\n",
       "  /* fitted */\n",
       "  background: var(--sklearn-color-fitted-level-0);\n",
       "  border: var(--sklearn-color-fitted-level-3);\n",
       "}\n",
       "\n",
       ".sk-estimator-doc-link:hover span {\n",
       "  display: block;\n",
       "}\n",
       "\n",
       "/* \"?\"-specific style due to the `<a>` HTML tag */\n",
       "\n",
       "#sk-container-id-1 a.estimator_doc_link {\n",
       "  float: right;\n",
       "  font-size: 1rem;\n",
       "  line-height: 1em;\n",
       "  font-family: monospace;\n",
       "  background-color: var(--sklearn-color-background);\n",
       "  border-radius: 1rem;\n",
       "  height: 1rem;\n",
       "  width: 1rem;\n",
       "  text-decoration: none;\n",
       "  /* unfitted */\n",
       "  color: var(--sklearn-color-unfitted-level-1);\n",
       "  border: var(--sklearn-color-unfitted-level-1) 1pt solid;\n",
       "}\n",
       "\n",
       "#sk-container-id-1 a.estimator_doc_link.fitted {\n",
       "  /* fitted */\n",
       "  border: var(--sklearn-color-fitted-level-1) 1pt solid;\n",
       "  color: var(--sklearn-color-fitted-level-1);\n",
       "}\n",
       "\n",
       "/* On hover */\n",
       "#sk-container-id-1 a.estimator_doc_link:hover {\n",
       "  /* unfitted */\n",
       "  background-color: var(--sklearn-color-unfitted-level-3);\n",
       "  color: var(--sklearn-color-background);\n",
       "  text-decoration: none;\n",
       "}\n",
       "\n",
       "#sk-container-id-1 a.estimator_doc_link.fitted:hover {\n",
       "  /* fitted */\n",
       "  background-color: var(--sklearn-color-fitted-level-3);\n",
       "}\n",
       "\n",
       ".estimator-table summary {\n",
       "    padding: .5rem;\n",
       "    font-family: monospace;\n",
       "    cursor: pointer;\n",
       "}\n",
       "\n",
       ".estimator-table details[open] {\n",
       "    padding-left: 0.1rem;\n",
       "    padding-right: 0.1rem;\n",
       "    padding-bottom: 0.3rem;\n",
       "}\n",
       "\n",
       ".estimator-table .parameters-table {\n",
       "    margin-left: auto !important;\n",
       "    margin-right: auto !important;\n",
       "}\n",
       "\n",
       ".estimator-table .parameters-table tr:nth-child(odd) {\n",
       "    background-color: #fff;\n",
       "}\n",
       "\n",
       ".estimator-table .parameters-table tr:nth-child(even) {\n",
       "    background-color: #f6f6f6;\n",
       "}\n",
       "\n",
       ".estimator-table .parameters-table tr:hover {\n",
       "    background-color: #e0e0e0;\n",
       "}\n",
       "\n",
       ".estimator-table table td {\n",
       "    border: 1px solid rgba(106, 105, 104, 0.232);\n",
       "}\n",
       "\n",
       ".user-set td {\n",
       "    color:rgb(255, 94, 0);\n",
       "    text-align: left;\n",
       "}\n",
       "\n",
       ".user-set td.value pre {\n",
       "    color:rgb(255, 94, 0) !important;\n",
       "    background-color: transparent !important;\n",
       "}\n",
       "\n",
       ".default td {\n",
       "    color: black;\n",
       "    text-align: left;\n",
       "}\n",
       "\n",
       ".user-set td i,\n",
       ".default td i {\n",
       "    color: black;\n",
       "}\n",
       "\n",
       ".copy-paste-icon {\n",
       "    background-image: url(data:image/svg+xml;base64,PHN2ZyB4bWxucz0iaHR0cDovL3d3dy53My5vcmcvMjAwMC9zdmciIHZpZXdCb3g9IjAgMCA0NDggNTEyIj48IS0tIUZvbnQgQXdlc29tZSBGcmVlIDYuNy4yIGJ5IEBmb250YXdlc29tZSAtIGh0dHBzOi8vZm9udGF3ZXNvbWUuY29tIExpY2Vuc2UgLSBodHRwczovL2ZvbnRhd2Vzb21lLmNvbS9saWNlbnNlL2ZyZWUgQ29weXJpZ2h0IDIwMjUgRm9udGljb25zLCBJbmMuLS0+PHBhdGggZD0iTTIwOCAwTDMzMi4xIDBjMTIuNyAwIDI0LjkgNS4xIDMzLjkgMTQuMWw2Ny45IDY3LjljOSA5IDE0LjEgMjEuMiAxNC4xIDMzLjlMNDQ4IDMzNmMwIDI2LjUtMjEuNSA0OC00OCA0OGwtMTkyIDBjLTI2LjUgMC00OC0yMS41LTQ4LTQ4bDAtMjg4YzAtMjYuNSAyMS41LTQ4IDQ4LTQ4ek00OCAxMjhsODAgMCAwIDY0LTY0IDAgMCAyNTYgMTkyIDAgMC0zMiA2NCAwIDAgNDhjMCAyNi41LTIxLjUgNDgtNDggNDhMNDggNTEyYy0yNi41IDAtNDgtMjEuNS00OC00OEwwIDE3NmMwLTI2LjUgMjEuNS00OCA0OC00OHoiLz48L3N2Zz4=);\n",
       "    background-repeat: no-repeat;\n",
       "    background-size: 14px 14px;\n",
       "    background-position: 0;\n",
       "    display: inline-block;\n",
       "    width: 14px;\n",
       "    height: 14px;\n",
       "    cursor: pointer;\n",
       "}\n",
       "</style><body><div id=\"sk-container-id-1\" class=\"sk-top-container\"><div class=\"sk-text-repr-fallback\"><pre>RandomForestRegressor(max_depth=15)</pre><b>In a Jupyter environment, please rerun this cell to show the HTML representation or trust the notebook. <br />On GitHub, the HTML representation is unable to render, please try loading this page with nbviewer.org.</b></div><div class=\"sk-container\" hidden><div class=\"sk-item\"><div class=\"sk-estimator fitted sk-toggleable\"><input class=\"sk-toggleable__control sk-hidden--visually\" id=\"sk-estimator-id-1\" type=\"checkbox\" checked><label for=\"sk-estimator-id-1\" class=\"sk-toggleable__label fitted sk-toggleable__label-arrow\"><div><div>RandomForestRegressor</div></div><div><a class=\"sk-estimator-doc-link fitted\" rel=\"noreferrer\" target=\"_blank\" href=\"https://scikit-learn.org/1.7/modules/generated/sklearn.ensemble.RandomForestRegressor.html\">?<span>Documentation for RandomForestRegressor</span></a><span class=\"sk-estimator-doc-link fitted\">i<span>Fitted</span></span></div></label><div class=\"sk-toggleable__content fitted\" data-param-prefix=\"\">\n",
       "        <div class=\"estimator-table\">\n",
       "            <details>\n",
       "                <summary>Parameters</summary>\n",
       "                <table class=\"parameters-table\">\n",
       "                  <tbody>\n",
       "                    \n",
       "        <tr class=\"default\">\n",
       "            <td><i class=\"copy-paste-icon\"\n",
       "                 onclick=\"copyToClipboard('n_estimators',\n",
       "                          this.parentElement.nextElementSibling)\"\n",
       "            ></i></td>\n",
       "            <td class=\"param\">n_estimators&nbsp;</td>\n",
       "            <td class=\"value\">100</td>\n",
       "        </tr>\n",
       "    \n",
       "\n",
       "        <tr class=\"default\">\n",
       "            <td><i class=\"copy-paste-icon\"\n",
       "                 onclick=\"copyToClipboard('criterion',\n",
       "                          this.parentElement.nextElementSibling)\"\n",
       "            ></i></td>\n",
       "            <td class=\"param\">criterion&nbsp;</td>\n",
       "            <td class=\"value\">&#x27;squared_error&#x27;</td>\n",
       "        </tr>\n",
       "    \n",
       "\n",
       "        <tr class=\"user-set\">\n",
       "            <td><i class=\"copy-paste-icon\"\n",
       "                 onclick=\"copyToClipboard('max_depth',\n",
       "                          this.parentElement.nextElementSibling)\"\n",
       "            ></i></td>\n",
       "            <td class=\"param\">max_depth&nbsp;</td>\n",
       "            <td class=\"value\">15</td>\n",
       "        </tr>\n",
       "    \n",
       "\n",
       "        <tr class=\"default\">\n",
       "            <td><i class=\"copy-paste-icon\"\n",
       "                 onclick=\"copyToClipboard('min_samples_split',\n",
       "                          this.parentElement.nextElementSibling)\"\n",
       "            ></i></td>\n",
       "            <td class=\"param\">min_samples_split&nbsp;</td>\n",
       "            <td class=\"value\">2</td>\n",
       "        </tr>\n",
       "    \n",
       "\n",
       "        <tr class=\"default\">\n",
       "            <td><i class=\"copy-paste-icon\"\n",
       "                 onclick=\"copyToClipboard('min_samples_leaf',\n",
       "                          this.parentElement.nextElementSibling)\"\n",
       "            ></i></td>\n",
       "            <td class=\"param\">min_samples_leaf&nbsp;</td>\n",
       "            <td class=\"value\">1</td>\n",
       "        </tr>\n",
       "    \n",
       "\n",
       "        <tr class=\"default\">\n",
       "            <td><i class=\"copy-paste-icon\"\n",
       "                 onclick=\"copyToClipboard('min_weight_fraction_leaf',\n",
       "                          this.parentElement.nextElementSibling)\"\n",
       "            ></i></td>\n",
       "            <td class=\"param\">min_weight_fraction_leaf&nbsp;</td>\n",
       "            <td class=\"value\">0.0</td>\n",
       "        </tr>\n",
       "    \n",
       "\n",
       "        <tr class=\"default\">\n",
       "            <td><i class=\"copy-paste-icon\"\n",
       "                 onclick=\"copyToClipboard('max_features',\n",
       "                          this.parentElement.nextElementSibling)\"\n",
       "            ></i></td>\n",
       "            <td class=\"param\">max_features&nbsp;</td>\n",
       "            <td class=\"value\">1.0</td>\n",
       "        </tr>\n",
       "    \n",
       "\n",
       "        <tr class=\"default\">\n",
       "            <td><i class=\"copy-paste-icon\"\n",
       "                 onclick=\"copyToClipboard('max_leaf_nodes',\n",
       "                          this.parentElement.nextElementSibling)\"\n",
       "            ></i></td>\n",
       "            <td class=\"param\">max_leaf_nodes&nbsp;</td>\n",
       "            <td class=\"value\">None</td>\n",
       "        </tr>\n",
       "    \n",
       "\n",
       "        <tr class=\"default\">\n",
       "            <td><i class=\"copy-paste-icon\"\n",
       "                 onclick=\"copyToClipboard('min_impurity_decrease',\n",
       "                          this.parentElement.nextElementSibling)\"\n",
       "            ></i></td>\n",
       "            <td class=\"param\">min_impurity_decrease&nbsp;</td>\n",
       "            <td class=\"value\">0.0</td>\n",
       "        </tr>\n",
       "    \n",
       "\n",
       "        <tr class=\"default\">\n",
       "            <td><i class=\"copy-paste-icon\"\n",
       "                 onclick=\"copyToClipboard('bootstrap',\n",
       "                          this.parentElement.nextElementSibling)\"\n",
       "            ></i></td>\n",
       "            <td class=\"param\">bootstrap&nbsp;</td>\n",
       "            <td class=\"value\">True</td>\n",
       "        </tr>\n",
       "    \n",
       "\n",
       "        <tr class=\"default\">\n",
       "            <td><i class=\"copy-paste-icon\"\n",
       "                 onclick=\"copyToClipboard('oob_score',\n",
       "                          this.parentElement.nextElementSibling)\"\n",
       "            ></i></td>\n",
       "            <td class=\"param\">oob_score&nbsp;</td>\n",
       "            <td class=\"value\">False</td>\n",
       "        </tr>\n",
       "    \n",
       "\n",
       "        <tr class=\"default\">\n",
       "            <td><i class=\"copy-paste-icon\"\n",
       "                 onclick=\"copyToClipboard('n_jobs',\n",
       "                          this.parentElement.nextElementSibling)\"\n",
       "            ></i></td>\n",
       "            <td class=\"param\">n_jobs&nbsp;</td>\n",
       "            <td class=\"value\">None</td>\n",
       "        </tr>\n",
       "    \n",
       "\n",
       "        <tr class=\"default\">\n",
       "            <td><i class=\"copy-paste-icon\"\n",
       "                 onclick=\"copyToClipboard('random_state',\n",
       "                          this.parentElement.nextElementSibling)\"\n",
       "            ></i></td>\n",
       "            <td class=\"param\">random_state&nbsp;</td>\n",
       "            <td class=\"value\">None</td>\n",
       "        </tr>\n",
       "    \n",
       "\n",
       "        <tr class=\"default\">\n",
       "            <td><i class=\"copy-paste-icon\"\n",
       "                 onclick=\"copyToClipboard('verbose',\n",
       "                          this.parentElement.nextElementSibling)\"\n",
       "            ></i></td>\n",
       "            <td class=\"param\">verbose&nbsp;</td>\n",
       "            <td class=\"value\">0</td>\n",
       "        </tr>\n",
       "    \n",
       "\n",
       "        <tr class=\"default\">\n",
       "            <td><i class=\"copy-paste-icon\"\n",
       "                 onclick=\"copyToClipboard('warm_start',\n",
       "                          this.parentElement.nextElementSibling)\"\n",
       "            ></i></td>\n",
       "            <td class=\"param\">warm_start&nbsp;</td>\n",
       "            <td class=\"value\">False</td>\n",
       "        </tr>\n",
       "    \n",
       "\n",
       "        <tr class=\"default\">\n",
       "            <td><i class=\"copy-paste-icon\"\n",
       "                 onclick=\"copyToClipboard('ccp_alpha',\n",
       "                          this.parentElement.nextElementSibling)\"\n",
       "            ></i></td>\n",
       "            <td class=\"param\">ccp_alpha&nbsp;</td>\n",
       "            <td class=\"value\">0.0</td>\n",
       "        </tr>\n",
       "    \n",
       "\n",
       "        <tr class=\"default\">\n",
       "            <td><i class=\"copy-paste-icon\"\n",
       "                 onclick=\"copyToClipboard('max_samples',\n",
       "                          this.parentElement.nextElementSibling)\"\n",
       "            ></i></td>\n",
       "            <td class=\"param\">max_samples&nbsp;</td>\n",
       "            <td class=\"value\">None</td>\n",
       "        </tr>\n",
       "    \n",
       "\n",
       "        <tr class=\"default\">\n",
       "            <td><i class=\"copy-paste-icon\"\n",
       "                 onclick=\"copyToClipboard('monotonic_cst',\n",
       "                          this.parentElement.nextElementSibling)\"\n",
       "            ></i></td>\n",
       "            <td class=\"param\">monotonic_cst&nbsp;</td>\n",
       "            <td class=\"value\">None</td>\n",
       "        </tr>\n",
       "    \n",
       "                  </tbody>\n",
       "                </table>\n",
       "            </details>\n",
       "        </div>\n",
       "    </div></div></div></div></div><script>function copyToClipboard(text, element) {\n",
       "    // Get the parameter prefix from the closest toggleable content\n",
       "    const toggleableContent = element.closest('.sk-toggleable__content');\n",
       "    const paramPrefix = toggleableContent ? toggleableContent.dataset.paramPrefix : '';\n",
       "    const fullParamName = paramPrefix ? `${paramPrefix}${text}` : text;\n",
       "\n",
       "    const originalStyle = element.style;\n",
       "    const computedStyle = window.getComputedStyle(element);\n",
       "    const originalWidth = computedStyle.width;\n",
       "    const originalHTML = element.innerHTML.replace('Copied!', '');\n",
       "\n",
       "    navigator.clipboard.writeText(fullParamName)\n",
       "        .then(() => {\n",
       "            element.style.width = originalWidth;\n",
       "            element.style.color = 'green';\n",
       "            element.innerHTML = \"Copied!\";\n",
       "\n",
       "            setTimeout(() => {\n",
       "                element.innerHTML = originalHTML;\n",
       "                element.style = originalStyle;\n",
       "            }, 2000);\n",
       "        })\n",
       "        .catch(err => {\n",
       "            console.error('Failed to copy:', err);\n",
       "            element.style.color = 'red';\n",
       "            element.innerHTML = \"Failed!\";\n",
       "            setTimeout(() => {\n",
       "                element.innerHTML = originalHTML;\n",
       "                element.style = originalStyle;\n",
       "            }, 2000);\n",
       "        });\n",
       "    return false;\n",
       "}\n",
       "\n",
       "document.querySelectorAll('.fa-regular.fa-copy').forEach(function(element) {\n",
       "    const toggleableContent = element.closest('.sk-toggleable__content');\n",
       "    const paramPrefix = toggleableContent ? toggleableContent.dataset.paramPrefix : '';\n",
       "    const paramName = element.parentElement.nextElementSibling.textContent.trim();\n",
       "    const fullParamName = paramPrefix ? `${paramPrefix}${paramName}` : paramName;\n",
       "\n",
       "    element.setAttribute('title', fullParamName);\n",
       "});\n",
       "</script></body>"
      ],
      "text/plain": [
       "RandomForestRegressor(max_depth=15)"
      ]
     },
     "execution_count": 50,
     "metadata": {},
     "output_type": "execute_result"
    }
   ],
   "source": [
    "model=RandomForestRegressor(n_estimators=100,max_depth=15)\n",
    "model.fit(X_train_encoded,y_train)\n"
   ]
  },
  {
   "cell_type": "code",
   "execution_count": 51,
   "id": "20b61ddc",
   "metadata": {},
   "outputs": [
    {
     "name": "stdout",
     "output_type": "stream",
     "text": [
      "The training error is  0.06605824724040818\n",
      "The test error is  0.09429440035081516\n"
     ]
    }
   ],
   "source": [
    "y_pred_train = model.predict(X_train_encoded) \n",
    "y_pred_test = model.predict(X_test_encoded)\n",
    "\n",
    "# loss\n",
    "\n",
    "mape_train = mean_absolute_percentage_error(y_train, y_pred_train)\n",
    "mape_test = mean_absolute_percentage_error(y_test, y_pred_test)\n",
    "\n",
    "print(\"The training error is \", mape_train)\n",
    "print(\"The test error is \", mape_test)"
   ]
  },
  {
   "cell_type": "code",
   "execution_count": 52,
   "id": "e12956bb",
   "metadata": {},
   "outputs": [],
   "source": [
    "def tune_ridge(trial):\n",
    "    # hyperparameter space\n",
    "    alpha = trial.suggest_float(\"alpha\",30,100)\n",
    "    \n",
    "    # make the model object\n",
    "    ridge = Ridge(alpha=alpha, random_state=42)\n",
    "    \n",
    "    # train the model\n",
    "    ridge.fit(X_train_encoded, y_train)\n",
    "    \n",
    "    # get predictions\n",
    "    y_pred = ridge.predict(X_test_encoded)\n",
    "    \n",
    "    # calculate loss\n",
    "    loss = mean_absolute_percentage_error(y_test, y_pred)\n",
    "\n",
    "    return loss\n",
    "        "
   ]
  },
  {
   "cell_type": "code",
   "execution_count": null,
   "id": "aeb8d07b",
   "metadata": {},
   "outputs": [],
   "source": []
  }
 ],
 "metadata": {
  "kernelspec": {
   "display_name": "Python 3",
   "language": "python",
   "name": "python3"
  },
  "language_info": {
   "codemirror_mode": {
    "name": "ipython",
    "version": 3
   },
   "file_extension": ".py",
   "mimetype": "text/x-python",
   "name": "python",
   "nbconvert_exporter": "python",
   "pygments_lexer": "ipython3",
   "version": "3.12.0"
  }
 },
 "nbformat": 4,
 "nbformat_minor": 5
}
